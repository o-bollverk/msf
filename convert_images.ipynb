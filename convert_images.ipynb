{
 "cells": [
  {
   "cell_type": "code",
   "execution_count": 23,
   "metadata": {},
   "outputs": [],
   "source": [
    "import numpy as np\n",
    "import cv2\n",
    "import os, os.path\n",
    "\n",
    "#225, 400\n",
    "\n",
    "paths = ['airbus', 'aviat s2s', 'boeing 747', 'cessna 152', 'cessna 172', 'cessna 208','cessna cj4', 'cub crafters xcub', 'daher tbm 930', 'diamond da40', 'diamond da62', 'extra 330']\n",
    "\n",
    "\n",
    "for p in paths:\n",
    "    directory = p + '_color'\n",
    "    mdir = os.path.join(p, directory)\n",
    "    if os.path.exists(mdir) == False:\n",
    "        os.mkdir(mdir) \n",
    "        nr = 1\n",
    "        for i in os.listdir(p + '/'):\n",
    "            if i != p + '_bw' and i != p + '_color':\n",
    "                img = cv2.imread(os.path.join(p +'/', i),1)\n",
    "    \n",
    "                if img.shape != (225, 400):\n",
    "                    dim = (400, 225)\n",
    "                    resized = cv2.resize(img, dim, interpolation=cv2.INTER_AREA)\n",
    "                    cv2.imwrite(os.path.join(mdir, p +'_color_' + str(nr) + '.jpg'), resized)\n",
    "                else:\n",
    "                    cv2.imwrite(os.path.join(mdir, p +'_color_' + str(nr) + '.jpg'), img)\n",
    "                nr+=1\n",
    "\n",
    "    else:\n",
    "        nr = 1\n",
    "        for i in os.listdir(p + '/'):\n",
    "            if i != p + '_bw' and i != p + '_color':\n",
    "                img = cv2.imread(os.path.join(p +'/', i),1)\n",
    "    \n",
    "                if img.shape != (225, 400):\n",
    "                    dim = (400, 225)\n",
    "                    resized = cv2.resize(img, dim, interpolation=cv2.INTER_AREA)\n",
    "                    cv2.imwrite(os.path.join(mdir, p +'_color_' + str(nr) + '.jpg'), resized)\n",
    "                else:\n",
    "                    cv2.imwrite(os.path.join(mdir, p +'_color_' + str(nr) + '.jpg'), img)\n",
    "                nr+=1\n",
    "    \n",
    "    \n"
   ]
  },
  {
   "cell_type": "code",
   "execution_count": null,
   "metadata": {},
   "outputs": [],
   "source": []
  }
 ],
 "metadata": {
  "kernelspec": {
   "display_name": "Python 3",
   "language": "python",
   "name": "python3"
  },
  "language_info": {
   "codemirror_mode": {
    "name": "ipython",
    "version": 3
   },
   "file_extension": ".py",
   "mimetype": "text/x-python",
   "name": "python",
   "nbconvert_exporter": "python",
   "pygments_lexer": "ipython3",
   "version": "3.8.5"
  }
 },
 "nbformat": 4,
 "nbformat_minor": 4
}
