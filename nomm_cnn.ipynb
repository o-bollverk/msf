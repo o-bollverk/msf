{
  "nbformat": 4,
  "nbformat_minor": 0,
  "metadata": {
    "colab": {
      "name": "nomm_cnn.ipynb",
      "provenance": [],
      "collapsed_sections": [],
      "include_colab_link": true
    },
    "kernelspec": {
      "display_name": "Python 3",
      "name": "python3"
    }
  },
  "cells": [
    {
      "cell_type": "markdown",
      "metadata": {
        "id": "view-in-github",
        "colab_type": "text"
      },
      "source": [
        "<a href=\"https://colab.research.google.com/github/o-bollverk/msf/blob/main/nomm_cnn.ipynb\" target=\"_parent\"><img src=\"https://colab.research.google.com/assets/colab-badge.svg\" alt=\"Open In Colab\"/></a>"
      ]
    },
    {
      "cell_type": "code",
      "metadata": {
        "id": "kTOjf_-UUgYm"
      },
      "source": [
        "from urllib.request import urlopen\n",
        "from fastai.vision import *\n",
        "from fastai.metrics import error_rate\n",
        "from PIL import Image\n",
        "from google.colab import drive\n",
        "from os import listdir\n",
        "import numpy as np \n",
        "import cv2\n",
        "from matplotlib import image\n",
        "from matplotlib import pyplot\n",
        "import numpy as np\n",
        "import warnings\n",
        "\n",
        "# start: 10:34"
      ],
      "execution_count": 1,
      "outputs": []
    },
    {
      "cell_type": "markdown",
      "metadata": {
        "id": "qNKvcJ4_Owfl"
      },
      "source": [
        "Klassid:\n",
        "\n",
        "Airbus A320neo\n",
        "\n",
        "Boeing 747-8 Intercontinental\n",
        "\n",
        "Aviat Pitts Special S2S\n",
        "\n",
        "Cub Crafter X Cub\n",
        "\n",
        "Daher TBM 930\n",
        "\n",
        "Diamond DA40NG\n",
        "\n",
        "Diamond DA62\n",
        "\n",
        "EXTRA 330LT\n",
        "\n"
      ]
    },
    {
      "cell_type": "markdown",
      "metadata": {
        "id": "WNf-snFoK_27"
      },
      "source": [
        "https://www.windowscentral.com/list-microsoft-flight-simulator-planes\n"
      ]
    },
    {
      "cell_type": "markdown",
      "metadata": {
        "id": "eDzGa8gzYcpu"
      },
      "source": [
        "Cloning the repository"
      ]
    },
    {
      "cell_type": "code",
      "metadata": {
        "colab": {
          "base_uri": "https://localhost:8080/"
        },
        "id": "0tMQ3NHTYg7i",
        "outputId": "66721cea-847f-43e8-88c8-74b6971ee8b5"
      },
      "source": [
        "# Clone the entire repo.\n",
        "!git clone -l -s git://github.com/o-bollverk/msf cloned-repo\n",
        "%cd cloned-repo\n",
        "!ls"
      ],
      "execution_count": 2,
      "outputs": [
        {
          "output_type": "stream",
          "text": [
            "Cloning into 'cloned-repo'...\n",
            "warning: --local is ignored\n",
            "remote: Enumerating objects: 4526, done.\u001b[K\n",
            "remote: Counting objects: 100% (4526/4526), done.\u001b[K\n",
            "remote: Compressing objects: 100% (4128/4128), done.\u001b[K\n",
            "remote: Total 100389 (delta 401), reused 4520 (delta 398), pack-reused 95863\u001b[K\n",
            "Receiving objects: 100% (100389/100389), 5.29 GiB | 41.33 MiB/s, done.\n",
            "Resolving deltas: 100% (468/468), done.\n",
            "Checking out files: 100% (71769/71769), done.\n",
            "/content/cloned-repo\n",
            " all_data_bw\t\t\t\t       msf_data\n",
            " all_data_color\t\t\t\t       msf_project1.ipynb\n",
            " colab\t\t\t\t\t       msf_project1_mixed.ipynb\n",
            " convert_images.ipynb\t\t\t       msf_project2.ipynb\n",
            " convert_to_bw.ipynb\t\t\t       nomm_cnn.ipynb\n",
            " data_amounts\t\t\t\t       random_selection_augmented\n",
            "'Ludvig All data FastAI test.ipynb'\t       random_selection_augmented_jpg\n",
            "'Ludvig -Balanced data Resnet18 tests.ipynb'   tausta_eemaldus_gen.ipynb\n",
            "'Ludvig -Balanced data Resnet34 test.ipynb'    web_data_links\n"
          ],
          "name": "stdout"
        }
      ]
    },
    {
      "cell_type": "code",
      "metadata": {
        "colab": {
          "base_uri": "https://localhost:8080/"
        },
        "id": "c6hEjGIHYQYH",
        "outputId": "27462a4d-873d-4d1e-fb24-83978a12075c"
      },
      "source": [
        "! git pull"
      ],
      "execution_count": 3,
      "outputs": [
        {
          "output_type": "stream",
          "text": [
            "Already up to date.\n"
          ],
          "name": "stdout"
        }
      ]
    },
    {
      "cell_type": "code",
      "metadata": {
        "id": "eez_VOeq6qsx"
      },
      "source": [
        "nimede_vastavus = pd.DataFrame({\"web_name\": np.sort(listdir(\"all_data_color/\")),\n",
        "                                \"game_name\": np.sort(np.unique([x.split(\"_clear\")[0] for x in listdir(\"msf_data/image_data_clear\")]))})"
      ],
      "execution_count": 4,
      "outputs": []
    },
    {
      "cell_type": "code",
      "metadata": {
        "id": "JnfZU7kTDePx"
      },
      "source": [
        "! mkdir random_selection_train\n",
        "! mkdir random_selection_test\n"
      ],
      "execution_count": 5,
      "outputs": []
    },
    {
      "cell_type": "code",
      "metadata": {
        "id": "n2kZ8DuP3Oya"
      },
      "source": [
        "# creating temporary folder for selected files\n",
        "from shutil import copyfile\n",
        "import random\n",
        "import shutil\n",
        "\n",
        "selection_size_web = 250\n",
        "selection_size_web_test = int(0.1*selection_size_web)\n",
        "\n",
        "def abifun(x):\n",
        "    return x[:len(nimede_vastavus.game_name[i])] == nimede_vastavus.game_name[i]\n",
        " \n",
        "for i in range(nimede_vastavus.shape[0]):\n",
        "  web_files = listdir(\"all_data_color/\" + nimede_vastavus.web_name[i])\n",
        "  game_files_clear = listdir(\"msf_data/image_data_clear/\")    \n",
        "  game_files_clear_selected = np.array(game_files_clear)[[abifun(x) for x in game_files_clear]]\n",
        "  game_files_rainy = listdir(\"msf_data/image_data_rainy/\")\n",
        "  game_files_rainy_selected = np.array(game_files_rainy)[[abifun(x) for x in game_files_rainy]]\n",
        "  \n",
        "  # making a random selection\n",
        "\n",
        "  selected_web = random.sample(web_files, selection_size_web)\n",
        "  selected_web2 = [\"all_data_color/\" + nimede_vastavus.web_name[i] + \"/\" + x for x in selected_web]\n",
        "  selected_web2_test = selected_web2[0:selection_size_web_test]\n",
        "  selected_web2_train = selected_web2[selection_size_web_test:]\n",
        "\n",
        "  selected_clear = random.sample(set(game_files_clear_selected), int(selection_size_web/4))\n",
        "  selected_clear2 = [\"msf_data/image_data_clear/\" + x for x in selected_clear]\n",
        "  selected_clear2_test = selected_clear2[0:selection_size_web_test]\n",
        "  selected_clear2_train = selected_clear2[selection_size_web_test:]\n",
        "\n",
        "  selected_rainy = random.sample(set(game_files_rainy_selected), int(selection_size_web/4))\n",
        "  selected_rainy2 = [\"msf_data/image_data_rainy/\" + x for x in selected_rainy]\n",
        "  selected_rainy2_test = selected_rainy2[0:selection_size_web_test]\n",
        "  selected_rainy2_train = selected_rainy2[selection_size_web_test:]\n",
        "  \n",
        "#complete_selection_train = np.concatenate([selected_web2, selected_clear2, selected_rainy2])\n",
        "#complete_selection_test = np.concatenate([selected_web2_test, selected_clear2_test, selected_rainy2_test])\n",
        "  complete_selection_train = np.concatenate([selected_web2_train, selected_clear2_train, selected_rainy2_train])\n",
        "  complete_selection_test = np.concatenate([selected_web2_test, selected_clear2_test, selected_rainy2_test])\n",
        "\n",
        "  os.mkdir(\"random_selection_train/\" +  nimede_vastavus.game_name[i])\n",
        "  for filename in complete_selection_train:\n",
        "    shutil.copy(filename, \"random_selection_train/\" +  nimede_vastavus.game_name[i])\n",
        "\n",
        "  os.mkdir(\"random_selection_test/\" +  nimede_vastavus.game_name[i])\n",
        "  for filename in complete_selection_test:\n",
        "    shutil.copy(filename, \"random_selection_test/\" +  nimede_vastavus.game_name[i])\n",
        "\n"
      ],
      "execution_count": 6,
      "outputs": []
    },
    {
      "cell_type": "code",
      "metadata": {
        "id": "5Dr_KTQIkfet"
      },
      "source": [
        "path = Path(\"random_selection_train\")"
      ],
      "execution_count": 7,
      "outputs": []
    },
    {
      "cell_type": "code",
      "metadata": {
        "colab": {
          "base_uri": "https://localhost:8080/"
        },
        "id": "iumNV9Vb3qfa",
        "outputId": "4cd659c0-4e89-44fb-8b95-77bb33eeead0"
      },
      "source": [
        "# loading train data\r\n",
        "import cv2\r\n",
        "from matplotlib import pyplot as plt\r\n",
        "from keras.preprocessing.image import load_img\r\n",
        "from keras.preprocessing.image import img_to_array\r\n",
        "import os, sys\r\n",
        "\r\n",
        "d = {}\r\n",
        "x=['aviat', 'diamond40ng', 'cessna_172', 'cessna_cj', 'boeing', 'diamondda62', 'airbus', 'cessna_208', 'extra', 'daher', 'cubcraft', 'cessna_152']\r\n",
        "count = 0\r\n",
        "for i in x:\r\n",
        "  if i not in d:\r\n",
        "     d[i] = count\r\n",
        "     count += 1\r\n",
        "actual = []\r\n",
        "X_train = []\r\n",
        "y_train = []\r\n",
        "IMG_SIZE = (64, 64)\r\n",
        "for i in listdir(\"random_selection_train\"):\r\n",
        "  for j in listdir(\"random_selection_train\" + \"/\" + i):\r\n",
        "    actual.append(i)\r\n",
        "    a = cv2.imread(\"random_selection_train/\" + i +\"/\" + j)\r\n",
        "    y_train.append(d[i])\r\n",
        "    resized = cv2.resize(a, IMG_SIZE)\r\n",
        "    X_train.append(resized)\r\n",
        "    #plt.imshow(a)\r\n",
        "    #plt.show()\r\n",
        "    #print(a.shape)\r\n",
        "\r\n",
        "X_train = np.array(X_train)\r\n",
        "y_train = np.array(y_train)\r\n",
        "print('Train data shape: ', X_train.shape)\r\n",
        "print('Train labels shape: ', y_train.shape)"
      ],
      "execution_count": 8,
      "outputs": [
        {
          "output_type": "stream",
          "text": [
            "Train data shape:  (3588, 64, 64, 3)\n",
            "Train labels shape:  (3588,)\n"
          ],
          "name": "stdout"
        }
      ]
    },
    {
      "cell_type": "code",
      "metadata": {
        "colab": {
          "base_uri": "https://localhost:8080/"
        },
        "id": "e9oLEpGKg_7U",
        "outputId": "368370ca-4064-48f1-a016-77b6b062575f"
      },
      "source": [
        "# loading test data\r\n",
        "from keras.utils import to_categorical\r\n",
        "\r\n",
        "actual = []\r\n",
        "X_test = []\r\n",
        "y_test = []\r\n",
        "IMG_SIZE = (64, 64)\r\n",
        "for i in listdir(\"random_selection_test\"):\r\n",
        "  for j in listdir(\"random_selection_test\" + \"/\" + i):\r\n",
        "    actual.append(i)\r\n",
        "    a = cv2.imread(\"random_selection_test/\" + i +\"/\" + j)\r\n",
        "    y_test.append(d[i])\r\n",
        "    resized = cv2.resize(a, IMG_SIZE)\r\n",
        "    X_test.append(resized)\r\n",
        "    #plt.imshow(a)\r\n",
        "    #plt.show()\r\n",
        "    #print(a.shape)\r\n",
        "\r\n",
        "X_test = np.array(X_test)\r\n",
        "y_test = np.array(y_test)\r\n",
        "print('Train data shape: ', X_test.shape)\r\n",
        "print('Train labels shape: ', y_test.shape)\r\n",
        "y_test_one_hot = to_categorical(y_test)"
      ],
      "execution_count": 9,
      "outputs": [
        {
          "output_type": "stream",
          "text": [
            "Train data shape:  (900, 64, 64, 3)\n",
            "Train labels shape:  (900,)\n"
          ],
          "name": "stdout"
        }
      ]
    },
    {
      "cell_type": "markdown",
      "metadata": {
        "id": "-t24_0nWAk0g"
      },
      "source": [
        "## Train model"
      ]
    },
    {
      "cell_type": "code",
      "metadata": {
        "colab": {
          "resources": {
            "http://localhost:8080/nbextensions/google.colab/files.js": {
              "data": "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",
              "ok": true,
              "headers": [
                [
                  "content-type",
                  "application/javascript"
                ]
              ],
              "status": 200,
              "status_text": ""
            }
          },
          "base_uri": "https://localhost:8080/",
          "height": 72
        },
        "id": "EcCPegcc9STN",
        "outputId": "f9f3fae2-51b8-46f6-8749-4096aa7ff7d9"
      },
      "source": [
        "from google.colab import files\r\n",
        "from IPython.display import Image\r\n",
        "uploaded = files.upload()"
      ],
      "execution_count": 10,
      "outputs": [
        {
          "output_type": "display_data",
          "data": {
            "text/html": [
              "\n",
              "     <input type=\"file\" id=\"files-d0b6f37a-cdf3-4ac9-b0b7-af52bf52039f\" name=\"files[]\" multiple disabled\n",
              "        style=\"border:none\" />\n",
              "     <output id=\"result-d0b6f37a-cdf3-4ac9-b0b7-af52bf52039f\">\n",
              "      Upload widget is only available when the cell has been executed in the\n",
              "      current browser session. Please rerun this cell to enable.\n",
              "      </output>\n",
              "      <script src=\"/nbextensions/google.colab/files.js\"></script> "
            ],
            "text/plain": [
              "<IPython.core.display.HTML object>"
            ]
          },
          "metadata": {
            "tags": []
          }
        },
        {
          "output_type": "stream",
          "text": [
            "Saving cnn_architecture (1).jpg to cnn_architecture (1).jpg\n"
          ],
          "name": "stdout"
        }
      ]
    },
    {
      "cell_type": "code",
      "metadata": {
        "colab": {
          "base_uri": "https://localhost:8080/",
          "height": 318
        },
        "id": "v3flR__t9UCj",
        "outputId": "7a6be7af-e71c-486e-8b7c-fefedabd7b9b"
      },
      "source": [
        "Image(\"cnn_architecture (1).jpg\")"
      ],
      "execution_count": 11,
      "outputs": [
        {
          "output_type": "execute_result",
          "data": {
            "image/jpeg": "[encoded data removed]",
            "text/plain": [
              "<IPython.core.display.Image object>"
            ]
          },
          "metadata": {
            "tags": []
          },
          "execution_count": 11
        }
      ]
    },
    {
      "cell_type": "code",
      "metadata": {
        "colab": {
          "base_uri": "https://localhost:8080/"
        },
        "id": "LQjx5qE1heSx",
        "outputId": "511f3136-c173-44d9-d527-05847b132afa"
      },
      "source": [
        "%tensorflow_version 1.x\r\n",
        "from keras.utils import to_categorical\r\n",
        "from keras.models import Sequential, Model\r\n",
        "from keras.layers import Input, Conv2D, Activation, Flatten, Dense, MaxPooling2D, BatchNormalization, Dropout\r\n",
        "from keras.preprocessing.image import load_img\r\n",
        "from keras.preprocessing.image import img_to_array\r\n",
        "from keras.optimizers import Adam\r\n",
        "\r\n",
        "model = Sequential()\r\n",
        "model.add(Conv2D(64, (1, 1), activation='relu', input_shape=(64,64,3)))\r\n",
        "model.add(MaxPooling2D(pool_size=(2, 2)))\r\n",
        "model.add(Conv2D(128, (1, 1), activation='relu'))\r\n",
        "model.add(MaxPooling2D(pool_size=(2, 2)))\r\n",
        "model.add(Flatten())\r\n",
        "model.add(Dense(1000, activation='relu'))\r\n",
        "model.add(Dropout(0.5))\r\n",
        "model.add(Dense(500, activation='relu'))\r\n",
        "model.add(Dropout(0.5))\r\n",
        "model.add(Dense(250, activation='relu'))\r\n",
        "model.add(Dense(12, activation='softmax'))\r\n",
        "\r\n",
        "model.compile(loss='categorical_crossentropy', \r\n",
        "              optimizer='adam',\r\n",
        "              metrics=['accuracy'])\r\n",
        "model.summary()\r\n",
        "print('Train data shape: ', X_train.shape)\r\n",
        "print('Train labels shape: ', y_train.shape)\r\n",
        "\r\n",
        "y_train_one_hot = to_categorical(y_train)\r\n",
        "\r\n",
        "history = model.fit(X_train, y_train_one_hot, batch_size=64, epochs=128, validation_split=0.1)"
      ],
      "execution_count": 12,
      "outputs": [
        {
          "output_type": "stream",
          "text": [
            "TensorFlow is already loaded. Please restart the runtime to change versions.\n",
            "Model: \"sequential\"\n",
            "_________________________________________________________________\n",
            "Layer (type)                 Output Shape              Param #   \n",
            "=================================================================\n",
            "conv2d (Conv2D)              (None, 64, 64, 64)        256       \n",
            "_________________________________________________________________\n",
            "max_pooling2d (MaxPooling2D) (None, 32, 32, 64)        0         \n",
            "_________________________________________________________________\n",
            "conv2d_1 (Conv2D)            (None, 32, 32, 128)       8320      \n",
            "_________________________________________________________________\n",
            "max_pooling2d_1 (MaxPooling2 (None, 16, 16, 128)       0         \n",
            "_________________________________________________________________\n",
            "flatten (Flatten)            (None, 32768)             0         \n",
            "_________________________________________________________________\n",
            "dense (Dense)                (None, 1000)              32769000  \n",
            "_________________________________________________________________\n",
            "dropout (Dropout)            (None, 1000)              0         \n",
            "_________________________________________________________________\n",
            "dense_1 (Dense)              (None, 500)               500500    \n",
            "_________________________________________________________________\n",
            "dropout_1 (Dropout)          (None, 500)               0         \n",
            "_________________________________________________________________\n",
            "dense_2 (Dense)              (None, 250)               125250    \n",
            "_________________________________________________________________\n",
            "dense_3 (Dense)              (None, 12)                3012      \n",
            "=================================================================\n",
            "Total params: 33,406,338\n",
            "Trainable params: 33,406,338\n",
            "Non-trainable params: 0\n",
            "_________________________________________________________________\n",
            "Train data shape:  (3588, 64, 64, 3)\n",
            "Train labels shape:  (3588,)\n",
            "Epoch 1/128\n",
            "51/51 [==============================] - 32s 626ms/step - loss: 98.5987 - accuracy: 0.0954 - val_loss: 2.9925 - val_accuracy: 0.0028\n",
            "Epoch 2/128\n",
            "51/51 [==============================] - 32s 620ms/step - loss: 2.4638 - accuracy: 0.1022 - val_loss: 3.1358 - val_accuracy: 0.0000e+00\n",
            "Epoch 3/128\n",
            "51/51 [==============================] - 31s 618ms/step - loss: 2.4383 - accuracy: 0.1019 - val_loss: 3.2885 - val_accuracy: 0.0000e+00\n",
            "Epoch 4/128\n",
            "51/51 [==============================] - 32s 627ms/step - loss: 2.4054 - accuracy: 0.1239 - val_loss: 3.7971 - val_accuracy: 0.0000e+00\n",
            "Epoch 5/128\n",
            "51/51 [==============================] - 31s 615ms/step - loss: 2.3611 - accuracy: 0.1282 - val_loss: 4.7506 - val_accuracy: 0.0000e+00\n",
            "Epoch 6/128\n",
            "51/51 [==============================] - 31s 615ms/step - loss: 2.3327 - accuracy: 0.1567 - val_loss: 5.2669 - val_accuracy: 0.0000e+00\n",
            "Epoch 7/128\n",
            "51/51 [==============================] - 31s 614ms/step - loss: 2.2816 - accuracy: 0.1595 - val_loss: 5.1814 - val_accuracy: 0.0000e+00\n",
            "Epoch 8/128\n",
            "51/51 [==============================] - 31s 614ms/step - loss: 2.2324 - accuracy: 0.1849 - val_loss: 5.5749 - val_accuracy: 0.0000e+00\n",
            "Epoch 9/128\n",
            "51/51 [==============================] - 31s 614ms/step - loss: 2.1870 - accuracy: 0.2087 - val_loss: 5.9538 - val_accuracy: 0.0000e+00\n",
            "Epoch 10/128\n",
            "51/51 [==============================] - 31s 613ms/step - loss: 2.1810 - accuracy: 0.2183 - val_loss: 6.3262 - val_accuracy: 0.0000e+00\n",
            "Epoch 11/128\n",
            "51/51 [==============================] - 31s 615ms/step - loss: 2.0908 - accuracy: 0.2394 - val_loss: 6.8467 - val_accuracy: 0.0000e+00\n",
            "Epoch 12/128\n",
            "51/51 [==============================] - 31s 613ms/step - loss: 2.0586 - accuracy: 0.2539 - val_loss: 7.4693 - val_accuracy: 0.0000e+00\n",
            "Epoch 13/128\n",
            "51/51 [==============================] - 31s 615ms/step - loss: 2.0262 - accuracy: 0.2577 - val_loss: 8.0388 - val_accuracy: 0.0000e+00\n",
            "Epoch 14/128\n",
            "51/51 [==============================] - 31s 612ms/step - loss: 1.9968 - accuracy: 0.2691 - val_loss: 7.8742 - val_accuracy: 0.0000e+00\n",
            "Epoch 15/128\n",
            "51/51 [==============================] - 31s 614ms/step - loss: 1.9593 - accuracy: 0.2871 - val_loss: 8.4455 - val_accuracy: 0.0000e+00\n",
            "Epoch 16/128\n",
            "51/51 [==============================] - 31s 615ms/step - loss: 1.9259 - accuracy: 0.2886 - val_loss: 8.9319 - val_accuracy: 0.0028\n",
            "Epoch 17/128\n",
            "51/51 [==============================] - 31s 612ms/step - loss: 1.8927 - accuracy: 0.2992 - val_loss: 9.5292 - val_accuracy: 0.0000e+00\n",
            "Epoch 18/128\n",
            "51/51 [==============================] - 31s 613ms/step - loss: 1.8811 - accuracy: 0.3106 - val_loss: 9.7020 - val_accuracy: 0.0000e+00\n",
            "Epoch 19/128\n",
            "51/51 [==============================] - 31s 614ms/step - loss: 1.8673 - accuracy: 0.3208 - val_loss: 9.9259 - val_accuracy: 0.0028\n",
            "Epoch 20/128\n",
            "51/51 [==============================] - 32s 618ms/step - loss: 1.8267 - accuracy: 0.3289 - val_loss: 10.8175 - val_accuracy: 0.0000e+00\n",
            "Epoch 21/128\n",
            "51/51 [==============================] - 31s 616ms/step - loss: 1.8019 - accuracy: 0.3416 - val_loss: 10.9158 - val_accuracy: 0.0000e+00\n",
            "Epoch 22/128\n",
            "51/51 [==============================] - 31s 614ms/step - loss: 1.8048 - accuracy: 0.3425 - val_loss: 11.0743 - val_accuracy: 0.0000e+00\n",
            "Epoch 23/128\n",
            "51/51 [==============================] - 31s 614ms/step - loss: 1.7553 - accuracy: 0.3534 - val_loss: 11.9557 - val_accuracy: 0.0000e+00\n",
            "Epoch 24/128\n",
            "51/51 [==============================] - 31s 614ms/step - loss: 1.7480 - accuracy: 0.3574 - val_loss: 11.0311 - val_accuracy: 0.0000e+00\n",
            "Epoch 25/128\n",
            "51/51 [==============================] - 31s 614ms/step - loss: 1.7146 - accuracy: 0.3592 - val_loss: 12.1513 - val_accuracy: 0.0111\n",
            "Epoch 26/128\n",
            "51/51 [==============================] - 31s 615ms/step - loss: 1.6733 - accuracy: 0.3775 - val_loss: 13.0477 - val_accuracy: 0.0056\n",
            "Epoch 27/128\n",
            "51/51 [==============================] - 31s 614ms/step - loss: 1.6786 - accuracy: 0.3822 - val_loss: 12.6042 - val_accuracy: 0.0028\n",
            "Epoch 28/128\n",
            "51/51 [==============================] - 31s 614ms/step - loss: 1.6128 - accuracy: 0.4110 - val_loss: 13.7982 - val_accuracy: 0.0000e+00\n",
            "Epoch 29/128\n",
            "51/51 [==============================] - 31s 617ms/step - loss: 1.6459 - accuracy: 0.3865 - val_loss: 14.5897 - val_accuracy: 0.0028\n",
            "Epoch 30/128\n",
            "51/51 [==============================] - 31s 615ms/step - loss: 1.5861 - accuracy: 0.4063 - val_loss: 14.4508 - val_accuracy: 0.0000e+00\n",
            "Epoch 31/128\n",
            "51/51 [==============================] - 31s 616ms/step - loss: 1.6057 - accuracy: 0.4069 - val_loss: 14.0581 - val_accuracy: 0.0028\n",
            "Epoch 32/128\n",
            "51/51 [==============================] - 32s 618ms/step - loss: 1.5650 - accuracy: 0.4162 - val_loss: 14.9087 - val_accuracy: 0.0056\n",
            "Epoch 33/128\n",
            "51/51 [==============================] - 31s 616ms/step - loss: 1.5811 - accuracy: 0.4138 - val_loss: 13.4171 - val_accuracy: 0.0000e+00\n",
            "Epoch 34/128\n",
            "51/51 [==============================] - 31s 617ms/step - loss: 1.5292 - accuracy: 0.4317 - val_loss: 15.6587 - val_accuracy: 0.0111\n",
            "Epoch 35/128\n",
            "51/51 [==============================] - 31s 617ms/step - loss: 1.4838 - accuracy: 0.4456 - val_loss: 15.9879 - val_accuracy: 0.0139\n",
            "Epoch 36/128\n",
            "51/51 [==============================] - 31s 616ms/step - loss: 1.4955 - accuracy: 0.4494 - val_loss: 15.2582 - val_accuracy: 0.0000e+00\n",
            "Epoch 37/128\n",
            "51/51 [==============================] - 31s 617ms/step - loss: 1.4696 - accuracy: 0.4562 - val_loss: 16.7703 - val_accuracy: 0.0111\n",
            "Epoch 38/128\n",
            "51/51 [==============================] - 31s 615ms/step - loss: 1.4785 - accuracy: 0.4552 - val_loss: 15.3887 - val_accuracy: 0.0139\n",
            "Epoch 39/128\n",
            "51/51 [==============================] - 31s 617ms/step - loss: 1.4617 - accuracy: 0.4630 - val_loss: 15.5743 - val_accuracy: 0.0028\n",
            "Epoch 40/128\n",
            "51/51 [==============================] - 31s 614ms/step - loss: 1.4775 - accuracy: 0.4648 - val_loss: 17.4952 - val_accuracy: 0.0028\n",
            "Epoch 41/128\n",
            "51/51 [==============================] - 31s 615ms/step - loss: 1.4302 - accuracy: 0.4751 - val_loss: 16.3305 - val_accuracy: 0.0000e+00\n",
            "Epoch 42/128\n",
            "51/51 [==============================] - 31s 615ms/step - loss: 1.4434 - accuracy: 0.4624 - val_loss: 16.5705 - val_accuracy: 0.0195\n",
            "Epoch 43/128\n",
            "51/51 [==============================] - 31s 614ms/step - loss: 1.4039 - accuracy: 0.4819 - val_loss: 16.3488 - val_accuracy: 0.0111\n",
            "Epoch 44/128\n",
            "51/51 [==============================] - 31s 615ms/step - loss: 1.3686 - accuracy: 0.4831 - val_loss: 17.1910 - val_accuracy: 0.0139\n",
            "Epoch 45/128\n",
            "51/51 [==============================] - 31s 617ms/step - loss: 1.3849 - accuracy: 0.4875 - val_loss: 17.8513 - val_accuracy: 0.0195\n",
            "Epoch 46/128\n",
            "51/51 [==============================] - 31s 615ms/step - loss: 1.3821 - accuracy: 0.4992 - val_loss: 18.2111 - val_accuracy: 0.0028\n",
            "Epoch 47/128\n",
            "51/51 [==============================] - 31s 614ms/step - loss: 1.3227 - accuracy: 0.5070 - val_loss: 17.3742 - val_accuracy: 0.0028\n",
            "Epoch 48/128\n",
            "51/51 [==============================] - 32s 619ms/step - loss: 1.3239 - accuracy: 0.5033 - val_loss: 17.3646 - val_accuracy: 0.0167\n",
            "Epoch 49/128\n",
            "51/51 [==============================] - 32s 618ms/step - loss: 1.3199 - accuracy: 0.5156 - val_loss: 19.2583 - val_accuracy: 0.0028\n",
            "Epoch 50/128\n",
            "51/51 [==============================] - 31s 618ms/step - loss: 1.3361 - accuracy: 0.5132 - val_loss: 18.0524 - val_accuracy: 0.0223\n",
            "Epoch 51/128\n",
            "51/51 [==============================] - 31s 616ms/step - loss: 1.3090 - accuracy: 0.5042 - val_loss: 18.3817 - val_accuracy: 0.0084\n",
            "Epoch 52/128\n",
            "51/51 [==============================] - 31s 617ms/step - loss: 1.3024 - accuracy: 0.5197 - val_loss: 18.4495 - val_accuracy: 0.0306\n",
            "Epoch 53/128\n",
            "51/51 [==============================] - 31s 616ms/step - loss: 1.2388 - accuracy: 0.5423 - val_loss: 19.6974 - val_accuracy: 0.0195\n",
            "Epoch 54/128\n",
            "51/51 [==============================] - 31s 617ms/step - loss: 1.2337 - accuracy: 0.5361 - val_loss: 19.3723 - val_accuracy: 0.0056\n",
            "Epoch 55/128\n",
            "51/51 [==============================] - 31s 617ms/step - loss: 1.2678 - accuracy: 0.5373 - val_loss: 19.8975 - val_accuracy: 0.0195\n",
            "Epoch 56/128\n",
            "51/51 [==============================] - 32s 621ms/step - loss: 1.2469 - accuracy: 0.5435 - val_loss: 20.3262 - val_accuracy: 0.0139\n",
            "Epoch 57/128\n",
            "51/51 [==============================] - 32s 619ms/step - loss: 1.2166 - accuracy: 0.5565 - val_loss: 19.5403 - val_accuracy: 0.0139\n",
            "Epoch 58/128\n",
            "51/51 [==============================] - 32s 623ms/step - loss: 1.1979 - accuracy: 0.5537 - val_loss: 19.7437 - val_accuracy: 0.0334\n",
            "Epoch 59/128\n",
            "51/51 [==============================] - 32s 618ms/step - loss: 1.1807 - accuracy: 0.5742 - val_loss: 20.6360 - val_accuracy: 0.0111\n",
            "Epoch 60/128\n",
            "51/51 [==============================] - 31s 617ms/step - loss: 1.1644 - accuracy: 0.5720 - val_loss: 20.8936 - val_accuracy: 0.0167\n",
            "Epoch 61/128\n",
            "51/51 [==============================] - 32s 621ms/step - loss: 1.1629 - accuracy: 0.5701 - val_loss: 21.7995 - val_accuracy: 0.0084\n",
            "Epoch 62/128\n",
            "51/51 [==============================] - 32s 619ms/step - loss: 1.1688 - accuracy: 0.5683 - val_loss: 20.7474 - val_accuracy: 0.0028\n",
            "Epoch 63/128\n",
            "51/51 [==============================] - 31s 617ms/step - loss: 1.1540 - accuracy: 0.5763 - val_loss: 19.6635 - val_accuracy: 0.0223\n",
            "Epoch 64/128\n",
            "51/51 [==============================] - 32s 618ms/step - loss: 1.1120 - accuracy: 0.5773 - val_loss: 21.1436 - val_accuracy: 0.0251\n",
            "Epoch 65/128\n",
            "51/51 [==============================] - 32s 618ms/step - loss: 1.1327 - accuracy: 0.5779 - val_loss: 21.8169 - val_accuracy: 0.0279\n",
            "Epoch 66/128\n",
            "51/51 [==============================] - 31s 616ms/step - loss: 1.1438 - accuracy: 0.5785 - val_loss: 22.3229 - val_accuracy: 0.0167\n",
            "Epoch 67/128\n",
            "51/51 [==============================] - 32s 619ms/step - loss: 1.0909 - accuracy: 0.5965 - val_loss: 22.2139 - val_accuracy: 0.0223\n",
            "Epoch 68/128\n",
            "51/51 [==============================] - 32s 621ms/step - loss: 1.0945 - accuracy: 0.6061 - val_loss: 22.6636 - val_accuracy: 0.0139\n",
            "Epoch 69/128\n",
            "51/51 [==============================] - 32s 620ms/step - loss: 1.0754 - accuracy: 0.6039 - val_loss: 23.4700 - val_accuracy: 0.0084\n",
            "Epoch 70/128\n",
            "51/51 [==============================] - 32s 618ms/step - loss: 1.0748 - accuracy: 0.6129 - val_loss: 22.2759 - val_accuracy: 0.0167\n",
            "Epoch 71/128\n",
            "51/51 [==============================] - 32s 620ms/step - loss: 1.0775 - accuracy: 0.6085 - val_loss: 21.7640 - val_accuracy: 0.0195\n",
            "Epoch 72/128\n",
            "51/51 [==============================] - 32s 618ms/step - loss: 1.0510 - accuracy: 0.6209 - val_loss: 21.8429 - val_accuracy: 0.0223\n",
            "Epoch 73/128\n",
            "51/51 [==============================] - 32s 619ms/step - loss: 1.0162 - accuracy: 0.6330 - val_loss: 23.2232 - val_accuracy: 0.0334\n",
            "Epoch 74/128\n",
            "51/51 [==============================] - 32s 619ms/step - loss: 1.0322 - accuracy: 0.6281 - val_loss: 21.5497 - val_accuracy: 0.0223\n",
            "Epoch 75/128\n",
            "51/51 [==============================] - 32s 619ms/step - loss: 1.0024 - accuracy: 0.6296 - val_loss: 24.7080 - val_accuracy: 0.0279\n",
            "Epoch 76/128\n",
            "51/51 [==============================] - 32s 618ms/step - loss: 1.0396 - accuracy: 0.6253 - val_loss: 23.1896 - val_accuracy: 0.0223\n",
            "Epoch 77/128\n",
            "51/51 [==============================] - 32s 621ms/step - loss: 1.0154 - accuracy: 0.6339 - val_loss: 22.9373 - val_accuracy: 0.0279\n",
            "Epoch 78/128\n",
            "51/51 [==============================] - 32s 619ms/step - loss: 0.9447 - accuracy: 0.6522 - val_loss: 23.1935 - val_accuracy: 0.0139\n",
            "Epoch 79/128\n",
            "51/51 [==============================] - 32s 620ms/step - loss: 0.9915 - accuracy: 0.6417 - val_loss: 21.9903 - val_accuracy: 0.0251\n",
            "Epoch 80/128\n",
            "51/51 [==============================] - 32s 618ms/step - loss: 1.0073 - accuracy: 0.6442 - val_loss: 21.6711 - val_accuracy: 0.0279\n",
            "Epoch 81/128\n",
            "51/51 [==============================] - 32s 619ms/step - loss: 0.9687 - accuracy: 0.6439 - val_loss: 24.0195 - val_accuracy: 0.0279\n",
            "Epoch 82/128\n",
            "51/51 [==============================] - 32s 620ms/step - loss: 0.9375 - accuracy: 0.6640 - val_loss: 24.1246 - val_accuracy: 0.0334\n",
            "Epoch 83/128\n",
            "51/51 [==============================] - 32s 620ms/step - loss: 0.9326 - accuracy: 0.6556 - val_loss: 26.0360 - val_accuracy: 0.0223\n",
            "Epoch 84/128\n",
            "51/51 [==============================] - 32s 620ms/step - loss: 0.9191 - accuracy: 0.6696 - val_loss: 24.7647 - val_accuracy: 0.0306\n",
            "Epoch 85/128\n",
            "51/51 [==============================] - 31s 617ms/step - loss: 0.9559 - accuracy: 0.6600 - val_loss: 24.6189 - val_accuracy: 0.0418\n",
            "Epoch 86/128\n",
            "51/51 [==============================] - 32s 621ms/step - loss: 0.9189 - accuracy: 0.6600 - val_loss: 26.5197 - val_accuracy: 0.0362\n",
            "Epoch 87/128\n",
            "51/51 [==============================] - 32s 619ms/step - loss: 0.9195 - accuracy: 0.6649 - val_loss: 23.1580 - val_accuracy: 0.0167\n",
            "Epoch 88/128\n",
            "51/51 [==============================] - 32s 620ms/step - loss: 0.9112 - accuracy: 0.6671 - val_loss: 25.3166 - val_accuracy: 0.0418\n",
            "Epoch 89/128\n",
            "51/51 [==============================] - 32s 620ms/step - loss: 0.9127 - accuracy: 0.6692 - val_loss: 24.5326 - val_accuracy: 0.0362\n",
            "Epoch 90/128\n",
            "51/51 [==============================] - 32s 620ms/step - loss: 0.9049 - accuracy: 0.6779 - val_loss: 20.2860 - val_accuracy: 0.0362\n",
            "Epoch 91/128\n",
            "51/51 [==============================] - 32s 622ms/step - loss: 0.9134 - accuracy: 0.6751 - val_loss: 23.0428 - val_accuracy: 0.0306\n",
            "Epoch 92/128\n",
            "51/51 [==============================] - 32s 621ms/step - loss: 0.8447 - accuracy: 0.6897 - val_loss: 25.7682 - val_accuracy: 0.0334\n",
            "Epoch 93/128\n",
            "51/51 [==============================] - 32s 620ms/step - loss: 0.8475 - accuracy: 0.6875 - val_loss: 26.2427 - val_accuracy: 0.0306\n",
            "Epoch 94/128\n",
            "51/51 [==============================] - 32s 620ms/step - loss: 0.8238 - accuracy: 0.6925 - val_loss: 25.7999 - val_accuracy: 0.0390\n",
            "Epoch 95/128\n",
            "51/51 [==============================] - 32s 620ms/step - loss: 0.8517 - accuracy: 0.6915 - val_loss: 25.2666 - val_accuracy: 0.0418\n",
            "Epoch 96/128\n",
            "51/51 [==============================] - 32s 620ms/step - loss: 0.8362 - accuracy: 0.6931 - val_loss: 25.5761 - val_accuracy: 0.0362\n",
            "Epoch 97/128\n",
            "51/51 [==============================] - 32s 620ms/step - loss: 0.8559 - accuracy: 0.6900 - val_loss: 27.4663 - val_accuracy: 0.0446\n",
            "Epoch 98/128\n",
            "51/51 [==============================] - 32s 620ms/step - loss: 0.8201 - accuracy: 0.7002 - val_loss: 26.2731 - val_accuracy: 0.0501\n",
            "Epoch 99/128\n",
            "51/51 [==============================] - 32s 619ms/step - loss: 0.8176 - accuracy: 0.6971 - val_loss: 23.5089 - val_accuracy: 0.0390\n",
            "Epoch 100/128\n",
            "51/51 [==============================] - 32s 618ms/step - loss: 0.7949 - accuracy: 0.7061 - val_loss: 23.8358 - val_accuracy: 0.0613\n",
            "Epoch 101/128\n",
            "51/51 [==============================] - 32s 618ms/step - loss: 0.8302 - accuracy: 0.7114 - val_loss: 25.2086 - val_accuracy: 0.0501\n",
            "Epoch 102/128\n",
            "51/51 [==============================] - 32s 622ms/step - loss: 0.7691 - accuracy: 0.7238 - val_loss: 25.7828 - val_accuracy: 0.0362\n",
            "Epoch 103/128\n",
            "51/51 [==============================] - 32s 619ms/step - loss: 0.8024 - accuracy: 0.7219 - val_loss: 24.6089 - val_accuracy: 0.0474\n",
            "Epoch 104/128\n",
            "51/51 [==============================] - 32s 619ms/step - loss: 0.7829 - accuracy: 0.7234 - val_loss: 25.9232 - val_accuracy: 0.0362\n",
            "Epoch 105/128\n",
            "51/51 [==============================] - 32s 619ms/step - loss: 0.7768 - accuracy: 0.7092 - val_loss: 25.5366 - val_accuracy: 0.0418\n",
            "Epoch 106/128\n",
            "51/51 [==============================] - 32s 618ms/step - loss: 0.7551 - accuracy: 0.7278 - val_loss: 25.8633 - val_accuracy: 0.0557\n",
            "Epoch 107/128\n",
            "51/51 [==============================] - 32s 621ms/step - loss: 0.7963 - accuracy: 0.7117 - val_loss: 24.0680 - val_accuracy: 0.0529\n",
            "Epoch 108/128\n",
            "51/51 [==============================] - 32s 619ms/step - loss: 0.7888 - accuracy: 0.7194 - val_loss: 25.1222 - val_accuracy: 0.0557\n",
            "Epoch 109/128\n",
            "51/51 [==============================] - 32s 618ms/step - loss: 0.7710 - accuracy: 0.7231 - val_loss: 24.9784 - val_accuracy: 0.0529\n",
            "Epoch 110/128\n",
            "51/51 [==============================] - 32s 619ms/step - loss: 0.7626 - accuracy: 0.7262 - val_loss: 22.9119 - val_accuracy: 0.0474\n",
            "Epoch 111/128\n",
            "51/51 [==============================] - 32s 618ms/step - loss: 0.7569 - accuracy: 0.7154 - val_loss: 27.4522 - val_accuracy: 0.0474\n",
            "Epoch 112/128\n",
            "51/51 [==============================] - 32s 620ms/step - loss: 0.7582 - accuracy: 0.7222 - val_loss: 24.2916 - val_accuracy: 0.0279\n",
            "Epoch 113/128\n",
            "51/51 [==============================] - 32s 618ms/step - loss: 0.7330 - accuracy: 0.7315 - val_loss: 22.1137 - val_accuracy: 0.0306\n",
            "Epoch 114/128\n",
            "51/51 [==============================] - 31s 617ms/step - loss: 0.6871 - accuracy: 0.7495 - val_loss: 23.4815 - val_accuracy: 0.0390\n",
            "Epoch 115/128\n",
            "51/51 [==============================] - 32s 619ms/step - loss: 0.7178 - accuracy: 0.7281 - val_loss: 25.9906 - val_accuracy: 0.0362\n",
            "Epoch 116/128\n",
            "51/51 [==============================] - 32s 618ms/step - loss: 0.7624 - accuracy: 0.7228 - val_loss: 25.1898 - val_accuracy: 0.0529\n",
            "Epoch 117/128\n",
            "51/51 [==============================] - 32s 621ms/step - loss: 0.7383 - accuracy: 0.7361 - val_loss: 23.9247 - val_accuracy: 0.0446\n",
            "Epoch 118/128\n",
            "51/51 [==============================] - 31s 617ms/step - loss: 0.7052 - accuracy: 0.7464 - val_loss: 29.3140 - val_accuracy: 0.0279\n",
            "Epoch 119/128\n",
            "51/51 [==============================] - 32s 618ms/step - loss: 0.6875 - accuracy: 0.7470 - val_loss: 26.0205 - val_accuracy: 0.0390\n",
            "Epoch 120/128\n",
            "51/51 [==============================] - 31s 617ms/step - loss: 0.7054 - accuracy: 0.7414 - val_loss: 26.0617 - val_accuracy: 0.0390\n",
            "Epoch 121/128\n",
            "51/51 [==============================] - 31s 617ms/step - loss: 0.6694 - accuracy: 0.7560 - val_loss: 27.0080 - val_accuracy: 0.0529\n",
            "Epoch 122/128\n",
            "51/51 [==============================] - 32s 621ms/step - loss: 0.6680 - accuracy: 0.7498 - val_loss: 24.2793 - val_accuracy: 0.0501\n",
            "Epoch 123/128\n",
            "51/51 [==============================] - 32s 619ms/step - loss: 0.6639 - accuracy: 0.7535 - val_loss: 28.1032 - val_accuracy: 0.0334\n",
            "Epoch 124/128\n",
            "51/51 [==============================] - 32s 618ms/step - loss: 0.7017 - accuracy: 0.7504 - val_loss: 25.7763 - val_accuracy: 0.0529\n",
            "Epoch 125/128\n",
            "51/51 [==============================] - 32s 618ms/step - loss: 0.6910 - accuracy: 0.7433 - val_loss: 25.1926 - val_accuracy: 0.0474\n",
            "Epoch 126/128\n",
            "51/51 [==============================] - 31s 618ms/step - loss: 0.6658 - accuracy: 0.7587 - val_loss: 23.6954 - val_accuracy: 0.0390\n",
            "Epoch 127/128\n",
            "51/51 [==============================] - 31s 617ms/step - loss: 0.6746 - accuracy: 0.7522 - val_loss: 24.8106 - val_accuracy: 0.0362\n",
            "Epoch 128/128\n",
            "51/51 [==============================] - 32s 618ms/step - loss: 0.6544 - accuracy: 0.7674 - val_loss: 25.2174 - val_accuracy: 0.0390\n"
          ],
          "name": "stdout"
        }
      ]
    },
    {
      "cell_type": "code",
      "metadata": {
        "colab": {
          "base_uri": "https://localhost:8080/"
        },
        "id": "gZCD2tYVBGPh",
        "outputId": "b8608d57-bd36-47bd-f515-36c7a79af7b8"
      },
      "source": [
        "# accuracy in train data\r\n",
        "model.evaluate(X_train, y_train_one_hot)"
      ],
      "execution_count": 13,
      "outputs": [
        {
          "output_type": "stream",
          "text": [
            "113/113 [==============================] - 10s 86ms/step - loss: 2.7851 - accuracy: 0.8102\n"
          ],
          "name": "stdout"
        },
        {
          "output_type": "execute_result",
          "data": {
            "text/plain": [
              "[2.785051107406616, 0.8102006912231445]"
            ]
          },
          "metadata": {
            "tags": []
          },
          "execution_count": 13
        }
      ]
    },
    {
      "cell_type": "code",
      "metadata": {
        "colab": {
          "base_uri": "https://localhost:8080/"
        },
        "id": "nUuFHB27Q18J",
        "outputId": "aec0ca03-c18c-460a-cedb-8a2c5f312a7b"
      },
      "source": [
        "# accuracy in test data\r\n",
        "test_result = model.evaluate(X_test, y_test_one_hot)"
      ],
      "execution_count": 14,
      "outputs": [
        {
          "output_type": "stream",
          "text": [
            "29/29 [==============================] - 2s 83ms/step - loss: 5.3172 - accuracy: 0.6578\n"
          ],
          "name": "stdout"
        }
      ]
    },
    {
      "cell_type": "code",
      "metadata": {
        "colab": {
          "base_uri": "https://localhost:8080/",
          "height": 421
        },
        "id": "-oyoEoZul9AS",
        "outputId": "29515bbf-5683-4b32-e4c4-de5780f6c9a2"
      },
      "source": [
        "import matplotlib.pyplot as plt\r\n",
        "plt.figure(figsize=(16, 6))\r\n",
        "\r\n",
        "plt.subplot(1, 2, 1)\r\n",
        "plt.plot(history.history['loss'])\r\n",
        "plt.plot(history.history['val_loss'])\r\n",
        "plt.xlabel('Epoch')\r\n",
        "plt.ylabel('Loss')\r\n",
        "plt.legend(['Training', 'Validation'])\r\n",
        "plt.title('Loss')\r\n",
        "\r\n",
        "plt.subplot(1, 2, 2)\r\n",
        "plt.plot(history.history['accuracy'])\r\n",
        "plt.plot(history.history['val_loss'])\r\n",
        "plt.xlabel('Epoch')\r\n",
        "plt.ylabel('Accuracy')\r\n",
        "plt.legend(['Training', 'Validation'])\r\n",
        "plt.title('Accuracy')"
      ],
      "execution_count": 15,
      "outputs": [
        {
          "output_type": "execute_result",
          "data": {
            "text/plain": [
              "Text(0.5, 1.0, 'Accuracy')"
            ]
          },
          "metadata": {
            "tags": []
          },
          "execution_count": 15
        },
        {
          "output_type": "display_data",
          "data": {
            "image/png": "[encoded data removed]",
            "text/plain": [
              "<Figure size 1152x432 with 2 Axes>"
            ]
          },
          "metadata": {
            "tags": [],
            "needs_background": "light"
          }
        }
      ]
    },
    {
      "cell_type": "markdown",
      "metadata": {
        "id": "WRG0EMy-wqVl"
      },
      "source": [
        "The model is overfitted, however test accuracy ca 65%."
      ]
    }
  ]
}