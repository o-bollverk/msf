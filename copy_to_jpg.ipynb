{
 "cells": [
  {
   "cell_type": "code",
   "execution_count": 27,
   "metadata": {},
   "outputs": [],
   "source": [
    "# Once those are run, copying only jpg files\n",
    "from shutil import copyfile\n",
    "import random\n",
    "import shutil\n",
    "#dir_before = \"~/msf_local/\"\n",
    "dir_before = \"\"\n",
    "\n",
    "def copier(loc1):\n",
    "    for i in os.listdir(loc1):\n",
    "        for j in os.listdir(loc1 + \"/\" + i):\n",
    "            if j[len(j)-4:] == \".jpg\":\n",
    "                if(loc1[len(loc1)-5:] == \"train\"):\n",
    "                    #print(dir_before + \"msf/random_selection_augmented/random_selection_train\" + \"/\" + i)\n",
    "                    if os.path.isdir(dir_before + \"msf/random_selection_augmented_jpg/random_selection_train\" + \"/\" + i)  == False:\n",
    "                        os.mkdir(dir_before + \"msf/random_selection_augmented_jpg/random_selection_train\" + \"/\" + i)   \n",
    "                    shutil.copy(loc1 + \"/\" + i + \"/\" +  j , \n",
    "                        dir_before + \"msf/random_selection_augmented_jpg/random_selection_train\"+ \"/\" + i + \"/\" + j)\n",
    "                elif(loc1[len(loc1)-4:] == \"test\"):\n",
    "                    if os.path.isdir(dir_before + \"msf/random_selection_augmented_jpg/random_selection_test\" + \"/\" + i)  == False:\n",
    "                       os.mkdir(dir_before + \"msf/random_selection_augmented_jpg/random_selection_test\" + \"/\" + i)\n",
    "                    shutil.copy(loc1 + \"/\" + i + \"/\" +  j , \n",
    "                        dir_before + \"msf/random_selection_augmented_jpg/random_selection_test\"+ \"/\" + i + \"/\" + j)\n",
    "                    \n",
    "loc1 = dir_before + \"msf/random_selection_augmented/random_selection_train\"\n",
    "loc2 = dir_before + \"msf/random_selection_augmented/random_selection_test\"\n",
    "copier(loc1)\n",
    "copier(loc2)\n",
    "\n"
   ]
  }
 ],
 "metadata": {
  "kernelspec": {
   "display_name": "Python 3",
   "language": "python",
   "name": "python3"
  },
  "language_info": {
   "codemirror_mode": {
    "name": "ipython",
    "version": 3
   },
   "file_extension": ".py",
   "mimetype": "text/x-python",
   "name": "python",
   "nbconvert_exporter": "python",
   "pygments_lexer": "ipython3",
   "version": "3.8.5"
  }
 },
 "nbformat": 4,
 "nbformat_minor": 4
}
