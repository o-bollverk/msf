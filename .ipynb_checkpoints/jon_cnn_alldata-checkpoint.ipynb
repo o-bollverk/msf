{
 "cells": [
  {
   "cell_type": "markdown",
   "metadata": {
    "colab_type": "text",
    "id": "view-in-github"
   },
   "source": [
    "<a href=\"https://colab.research.google.com/github/o-bollverk/msf/blob/main/nomm_cnn.ipynb\" target=\"_parent\"><img src=\"https://colab.research.google.com/assets/colab-badge.svg\" alt=\"Open In Colab\"/></a>"
   ]
  },
  {
   "cell_type": "code",
   "execution_count": 1,
   "metadata": {
    "id": "kTOjf_-UUgYm"
   },
   "outputs": [],
   "source": [
    "from urllib.request import urlopen\n",
    "from fastai.vision import *\n",
    "from fastai.metrics import error_rate\n",
    "from PIL import Image\n",
    "#from google.colab import drive\n",
    "from os import listdir\n",
    "import numpy as np \n",
    "import cv2\n",
    "from matplotlib import image\n",
    "from matplotlib import pyplot\n",
    "import numpy as np\n",
    "import warnings\n",
    "import torch\n",
    "import pandas as pd\n",
    "from pathlib import Path\n",
    "import os\n",
    "# start: 10:34"
   ]
  },
  {
   "cell_type": "markdown",
   "metadata": {
    "id": "qNKvcJ4_Owfl"
   },
   "source": [
    "Klassid:\n",
    "\n",
    "Airbus A320neo\n",
    "\n",
    "Boeing 747-8 Intercontinental\n",
    "\n",
    "Aviat Pitts Special S2S\n",
    "\n",
    "Cub Crafter X Cub\n",
    "\n",
    "Daher TBM 930\n",
    "\n",
    "Diamond DA40NG\n",
    "\n",
    "Diamond DA62\n",
    "\n",
    "EXTRA 330LT\n",
    "\n"
   ]
  },
  {
   "cell_type": "markdown",
   "metadata": {
    "id": "WNf-snFoK_27"
   },
   "source": [
    "https://www.windowscentral.com/list-microsoft-flight-simulator-planes\n"
   ]
  },
  {
   "cell_type": "markdown",
   "metadata": {
    "id": "eDzGa8gzYcpu"
   },
   "source": [
    "Cloning the repository"
   ]
  },
  {
   "cell_type": "code",
   "execution_count": null,
   "metadata": {
    "colab": {
     "base_uri": "https://localhost:8080/"
    },
    "id": "0tMQ3NHTYg7i",
    "outputId": "c0f6c609-72b6-4f41-da5e-bb3e9c491f4f"
   },
   "outputs": [],
   "source": [
    "# Clone the entire repo.\n",
    "!git clone -l -s git://github.com/o-bollverk/msf cloned-repo\n",
    "%cd cloned-repo\n",
    "!ls"
   ]
  },
  {
   "cell_type": "code",
   "execution_count": null,
   "metadata": {
    "id": "c6hEjGIHYQYH"
   },
   "outputs": [],
   "source": [
    "#! git pull"
   ]
  },
  {
   "cell_type": "code",
   "execution_count": 2,
   "metadata": {
    "id": "eez_VOeq6qsx"
   },
   "outputs": [],
   "source": [
    "nimede_vastavus = pd.DataFrame({\"web_name\": np.sort(listdir(\"all_data_color/\")),\n",
    "                                \"game_name\": np.sort(np.unique([x.split(\"_clear\")[0] for x in listdir(\"msf_data/image_data_clear\")]))})"
   ]
  },
  {
   "cell_type": "code",
   "execution_count": 3,
   "metadata": {
    "colab": {
     "base_uri": "https://localhost:8080/"
    },
    "id": "JnfZU7kTDePx",
    "outputId": "bae96c7d-def1-422e-e0b1-c29f3e1b921c"
   },
   "outputs": [],
   "source": [
    "!mkdir random_selection_train\n",
    "!mkdir random_selection_test\n"
   ]
  },
  {
   "cell_type": "code",
   "execution_count": 4,
   "metadata": {
    "colab": {
     "base_uri": "https://localhost:8080/",
     "height": 235
    },
    "id": "n2kZ8DuP3Oya",
    "outputId": "b969679c-0ef2-4a0c-ae72-4e370406c3eb"
   },
   "outputs": [],
   "source": [
    "# creating temporary folder for selected files\n",
    "from shutil import copyfile\n",
    "import random\n",
    "import shutil\n",
    "\n",
    "def abifun(x):\n",
    "    return x[:len(nimede_vastavus.game_name[i])] == nimede_vastavus.game_name[i]\n",
    " \n",
    "for i in range(nimede_vastavus.shape[0]):\n",
    "    \n",
    "    web_files = listdir(\"all_data_color/\" + nimede_vastavus.web_name[i])\n",
    "    game_files_clear = listdir(\"msf_data/image_data_clear/\")    \n",
    "    game_files_clear_selected = np.array(game_files_clear)[[abifun(x) for x in game_files_clear]]\n",
    "    game_files_rainy = listdir(\"msf_data/image_data_rainy/\")\n",
    "    game_files_rainy_selected = np.array(game_files_rainy)[[abifun(x) for x in game_files_rainy]]\n",
    "\n",
    "    # making a random selection\n",
    "    \n",
    "    max_taken =len(web_files)\n",
    "  \n",
    "    selected_web = random.sample(web_files, max_taken)\n",
    "    selected_web2 = [\"all_data_color/\" + nimede_vastavus.web_name[i] + \"/\" + x for x in selected_web]\n",
    "    \n",
    "    selected_web2_test = selected_web2[0:int(len(selected_web2)*0.2)]\n",
    "    selected_web2_train = selected_web2[int(len(selected_web2)*0.2):]\n",
    "\n",
    "    \n",
    "    selected_clear = random.sample(set(game_files_clear_selected), len(game_files_clear_selected))\n",
    "    selected_clear2 = [\"msf_data/image_data_clear/\" + x for x in selected_clear]\n",
    "    selected_clear2_test = selected_clear2[0:int(len(selected_clear2)*0.2)]\n",
    "    selected_clear2_train = selected_clear2[int(len(selected_clear2)*0.2):]\n",
    "\n",
    "    \n",
    "    selected_rainy = random.sample(set(game_files_rainy_selected), len(game_files_rainy_selected))\n",
    "    selected_rainy2 = [\"msf_data/image_data_rainy/\" + x for x in selected_rainy]\n",
    "    selected_rainy2_test = selected_rainy2[0:int(len(selected_rainy2)*0.2)]\n",
    "    selected_rainy2_train = selected_rainy2[int(len(selected_rainy2)*0.2):]\n",
    "\n",
    "    complete_selection_train = np.concatenate([selected_web2_train, selected_clear2_train, selected_rainy2_train])\n",
    "    complete_selection_test = np.concatenate([selected_web2_test, selected_clear2_test, selected_rainy2_test])\n",
    "    \n",
    "    complete_selection_train = np.concatenate([selected_web2_train, selected_clear2_train, selected_rainy2_train])\n",
    "    complete_selection_test = np.concatenate([selected_web2_test, selected_clear2_test, selected_rainy2_test])\n",
    "    \n",
    "    os.mkdir(\"random_selection_train/\" +  nimede_vastavus.game_name[i])\n",
    "    for filename in complete_selection_train:\n",
    "        shutil.copy(filename, \"random_selection_train/\" +  nimede_vastavus.game_name[i])\n",
    "\n",
    "    os.mkdir(\"random_selection_test/\" +  nimede_vastavus.game_name[i])\n",
    "    for filename in complete_selection_test:\n",
    "        shutil.copy(filename, \"random_selection_test/\" +  nimede_vastavus.game_name[i])"
   ]
  },
  {
   "cell_type": "code",
   "execution_count": 5,
   "metadata": {
    "id": "5Dr_KTQIkfet"
   },
   "outputs": [],
   "source": [
    "path = Path(\"random_selection_train\")"
   ]
  },
  {
   "cell_type": "code",
   "execution_count": 6,
   "metadata": {
    "colab": {
     "base_uri": "https://localhost:8080/"
    },
    "id": "iumNV9Vb3qfa",
    "outputId": "38f94e09-3d6c-4125-d0ab-b04a04ff3dc0"
   },
   "outputs": [
    {
     "name": "stdout",
     "output_type": "stream",
     "text": [
      "Train data shape:  (29333, 64, 64, 3)\n",
      "Train labels shape:  (29333,)\n"
     ]
    }
   ],
   "source": [
    "# loading train data\n",
    "import cv2\n",
    "from matplotlib import pyplot as plt\n",
    "from keras.preprocessing.image import load_img\n",
    "from keras.preprocessing.image import img_to_array\n",
    "import os, sys\n",
    "\n",
    "d = {}\n",
    "x=['aviat', 'diamond40ng', 'cessna_172', 'cessna_cj', 'boeing', 'diamondda62', 'airbus', 'cessna_208', 'extra', 'daher', 'cubcraft', 'cessna_152']\n",
    "count = 0\n",
    "for i in x:\n",
    "  if i not in d:\n",
    "     d[i] = count\n",
    "     count += 1\n",
    "actual = []\n",
    "X_train = []\n",
    "y_train = []\n",
    "IMG_SIZE = (64, 64)\n",
    "for i in listdir(\"random_selection_train\"):\n",
    "  for j in listdir(\"random_selection_train\" + \"/\" + i):\n",
    "    actual.append(i)\n",
    "    a = cv2.imread(\"random_selection_train/\" + i +\"/\" + j)\n",
    "    y_train.append(d[i])\n",
    "    resized = cv2.resize(a, IMG_SIZE)\n",
    "    X_train.append(resized)\n",
    "    #plt.imshow(a)\n",
    "    #plt.show()\n",
    "    #print(a.shape)\n",
    "\n",
    "X_train = np.array(X_train)\n",
    "y_train = np.array(y_train)\n",
    "print('Train data shape: ', X_train.shape)\n",
    "print('Train labels shape: ', y_train.shape)"
   ]
  },
  {
   "cell_type": "code",
   "execution_count": 7,
   "metadata": {
    "colab": {
     "base_uri": "https://localhost:8080/"
    },
    "id": "e9oLEpGKg_7U",
    "outputId": "8a50325e-ca71-43b7-e62c-01bedeedecec"
   },
   "outputs": [
    {
     "name": "stdout",
     "output_type": "stream",
     "text": [
      "Train data shape:  (7317, 64, 64, 3)\n",
      "Train labels shape:  (7317,)\n"
     ]
    }
   ],
   "source": [
    "# loading test data\n",
    "from keras.utils import to_categorical\n",
    "\n",
    "actual = []\n",
    "X_test = []\n",
    "y_test = []\n",
    "IMG_SIZE = (64, 64)\n",
    "for i in listdir(\"random_selection_test\"):\n",
    "  for j in listdir(\"random_selection_test\" + \"/\" + i):\n",
    "    actual.append(i)\n",
    "    a = cv2.imread(\"random_selection_test/\" + i +\"/\" + j)\n",
    "    y_test.append(d[i])\n",
    "    resized = cv2.resize(a, IMG_SIZE)\n",
    "    X_test.append(resized)\n",
    "    #plt.imshow(a)\n",
    "    #plt.show()\n",
    "    #print(a.shape)\n",
    "\n",
    "X_test = np.array(X_test)\n",
    "y_test = np.array(y_test)\n",
    "print('Train data shape: ', X_test.shape)\n",
    "print('Train labels shape: ', y_test.shape)\n",
    "y_test_one_hot = to_categorical(y_test)"
   ]
  },
  {
   "cell_type": "markdown",
   "metadata": {
    "id": "-t24_0nWAk0g"
   },
   "source": [
    "## Train model"
   ]
  },
  {
   "cell_type": "code",
   "execution_count": 8,
   "metadata": {
    "colab": {
     "base_uri": "https://localhost:8080/"
    },
    "id": "LQjx5qE1heSx",
    "outputId": "fa63e681-ed63-49db-d780-8429d931cc23"
   },
   "outputs": [
    {
     "name": "stdout",
     "output_type": "stream",
     "text": [
      "Train data shape:  (29333, 64, 64, 3)\n",
      "Train labels shape:  (29333,)\n",
      "Epoch 1/128\n",
      "413/413 [==============================] - 134s 325ms/step - loss: 3.3387 - accuracy: 0.5724 - val_loss: 24.2725 - val_accuracy: 0.0617\n",
      "Epoch 2/128\n",
      "413/413 [==============================] - 137s 331ms/step - loss: 0.6073 - accuracy: 0.7991 - val_loss: 26.0313 - val_accuracy: 0.0600\n",
      "Epoch 3/128\n",
      "413/413 [==============================] - 137s 331ms/step - loss: 0.4494 - accuracy: 0.8497 - val_loss: 41.2259 - val_accuracy: 0.0569\n",
      "Epoch 4/128\n",
      "413/413 [==============================] - 137s 333ms/step - loss: 0.3705 - accuracy: 0.8760 - val_loss: 29.3571 - val_accuracy: 0.0675\n",
      "Epoch 5/128\n",
      "413/413 [==============================] - 139s 335ms/step - loss: 0.3175 - accuracy: 0.8931 - val_loss: 42.7573 - val_accuracy: 0.0631\n",
      "Epoch 6/128\n",
      "413/413 [==============================] - 138s 334ms/step - loss: 0.2889 - accuracy: 0.9011 - val_loss: 52.6344 - val_accuracy: 0.0671\n",
      "Epoch 7/128\n",
      "413/413 [==============================] - 138s 334ms/step - loss: 0.2640 - accuracy: 0.9101 - val_loss: 49.6276 - val_accuracy: 0.0566\n",
      "Epoch 8/128\n",
      "413/413 [==============================] - 138s 333ms/step - loss: 0.2204 - accuracy: 0.9252 - val_loss: 51.7609 - val_accuracy: 0.0671\n",
      "Epoch 9/128\n",
      "413/413 [==============================] - 138s 334ms/step - loss: 0.2257 - accuracy: 0.9223 - val_loss: 81.7306 - val_accuracy: 0.0654\n",
      "Epoch 10/128\n",
      "413/413 [==============================] - 138s 335ms/step - loss: 0.2052 - accuracy: 0.9330 - val_loss: 61.0556 - val_accuracy: 0.0648\n",
      "Epoch 11/128\n",
      "413/413 [==============================] - 136s 329ms/step - loss: 0.1981 - accuracy: 0.9369 - val_loss: 68.5517 - val_accuracy: 0.0634\n",
      "Epoch 12/128\n",
      "413/413 [==============================] - 137s 331ms/step - loss: 0.1793 - accuracy: 0.9432 - val_loss: 90.1398 - val_accuracy: 0.0651\n",
      "Epoch 13/128\n",
      "413/413 [==============================] - 136s 330ms/step - loss: 0.1772 - accuracy: 0.9428 - val_loss: 73.9798 - val_accuracy: 0.0634\n",
      "Epoch 14/128\n",
      "413/413 [==============================] - 137s 331ms/step - loss: 0.1972 - accuracy: 0.9380 - val_loss: 79.8972 - val_accuracy: 0.0651\n",
      "Epoch 15/128\n",
      "413/413 [==============================] - 137s 333ms/step - loss: 0.1733 - accuracy: 0.9451 - val_loss: 88.5285 - val_accuracy: 0.0661\n",
      "Epoch 16/128\n",
      "413/413 [==============================] - 139s 336ms/step - loss: 0.1421 - accuracy: 0.9544 - val_loss: 70.5502 - val_accuracy: 0.0648\n",
      "Epoch 17/128\n",
      "413/413 [==============================] - 138s 334ms/step - loss: 0.1368 - accuracy: 0.9593 - val_loss: 140.3927 - val_accuracy: 0.0651\n",
      "Epoch 18/128\n",
      "413/413 [==============================] - 139s 336ms/step - loss: 0.1267 - accuracy: 0.9598 - val_loss: 82.2251 - val_accuracy: 0.0668\n",
      "Epoch 19/128\n",
      "413/413 [==============================] - 139s 336ms/step - loss: 0.1443 - accuracy: 0.9580 - val_loss: 147.8182 - val_accuracy: 0.0596\n",
      "Epoch 20/128\n",
      "413/413 [==============================] - 138s 335ms/step - loss: 0.1573 - accuracy: 0.9536 - val_loss: 142.9319 - val_accuracy: 0.0631\n",
      "Epoch 21/128\n",
      "413/413 [==============================] - 139s 335ms/step - loss: 0.1514 - accuracy: 0.9564 - val_loss: 125.9677 - val_accuracy: 0.0579\n",
      "Epoch 22/128\n",
      "413/413 [==============================] - 138s 333ms/step - loss: 0.1029 - accuracy: 0.9705 - val_loss: 157.3227 - val_accuracy: 0.0637\n",
      "Epoch 23/128\n",
      "413/413 [==============================] - 136s 330ms/step - loss: 0.1357 - accuracy: 0.9609 - val_loss: 157.0750 - val_accuracy: 0.0559\n",
      "Epoch 24/128\n",
      "413/413 [==============================] - 136s 328ms/step - loss: 0.1025 - accuracy: 0.9711 - val_loss: 170.6198 - val_accuracy: 0.0593\n",
      "Epoch 25/128\n",
      "413/413 [==============================] - 138s 334ms/step - loss: 0.0977 - accuracy: 0.9725 - val_loss: 155.1631 - val_accuracy: 0.0675\n",
      "Epoch 26/128\n",
      "413/413 [==============================] - 138s 333ms/step - loss: 0.1159 - accuracy: 0.9689 - val_loss: 179.0196 - val_accuracy: 0.0654\n",
      "Epoch 27/128\n",
      "413/413 [==============================] - 138s 334ms/step - loss: 0.1476 - accuracy: 0.9614 - val_loss: 159.0859 - val_accuracy: 0.0658\n",
      "Epoch 28/128\n",
      "413/413 [==============================] - 138s 334ms/step - loss: 0.0934 - accuracy: 0.9741 - val_loss: 129.4091 - val_accuracy: 0.0641\n",
      "Epoch 29/128\n",
      "413/413 [==============================] - 137s 333ms/step - loss: 0.0790 - accuracy: 0.9784 - val_loss: 146.1848 - val_accuracy: 0.0665\n",
      "Epoch 30/128\n",
      "413/413 [==============================] - 138s 333ms/step - loss: 0.1244 - accuracy: 0.9690 - val_loss: 140.1588 - val_accuracy: 0.0654\n",
      "Epoch 31/128\n",
      "413/413 [==============================] - 139s 336ms/step - loss: 0.0951 - accuracy: 0.9748 - val_loss: 232.8329 - val_accuracy: 0.0668\n",
      "Epoch 32/128\n",
      "413/413 [==============================] - 138s 335ms/step - loss: 0.1184 - accuracy: 0.9701 - val_loss: 192.1001 - val_accuracy: 0.0682\n",
      "Epoch 33/128\n",
      "413/413 [==============================] - 138s 335ms/step - loss: 0.1017 - accuracy: 0.9747 - val_loss: 107.5161 - val_accuracy: 0.0613\n",
      "Epoch 34/128\n",
      "413/413 [==============================] - 140s 338ms/step - loss: 0.0906 - accuracy: 0.9772 - val_loss: 107.1532 - val_accuracy: 0.0678\n",
      "Epoch 35/128\n",
      "413/413 [==============================] - 138s 335ms/step - loss: 0.1091 - accuracy: 0.9735 - val_loss: 114.8766 - val_accuracy: 0.0729\n",
      "Epoch 36/128\n",
      "413/413 [==============================] - 138s 335ms/step - loss: 0.0961 - accuracy: 0.9745 - val_loss: 255.5450 - val_accuracy: 0.0668\n",
      "Epoch 37/128\n",
      "413/413 [==============================] - 138s 335ms/step - loss: 0.1016 - accuracy: 0.9755 - val_loss: 151.8239 - val_accuracy: 0.0651\n",
      "Epoch 38/128\n",
      "413/413 [==============================] - 139s 336ms/step - loss: 0.0589 - accuracy: 0.9850 - val_loss: 163.3177 - val_accuracy: 0.0661\n",
      "Epoch 39/128\n",
      "413/413 [==============================] - 138s 335ms/step - loss: 0.0693 - accuracy: 0.9819 - val_loss: 191.9414 - val_accuracy: 0.0600\n",
      "Epoch 40/128\n",
      "413/413 [==============================] - 139s 336ms/step - loss: 0.0834 - accuracy: 0.9801 - val_loss: 135.6961 - val_accuracy: 0.0600\n",
      "Epoch 41/128\n",
      "413/413 [==============================] - 139s 336ms/step - loss: 0.1429 - accuracy: 0.9654 - val_loss: 271.4737 - val_accuracy: 0.0613\n",
      "Epoch 42/128\n",
      "413/413 [==============================] - 138s 335ms/step - loss: 0.1306 - accuracy: 0.9682 - val_loss: 211.4212 - val_accuracy: 0.0651\n",
      "Epoch 43/128\n",
      "413/413 [==============================] - 139s 337ms/step - loss: 0.0767 - accuracy: 0.9806 - val_loss: 213.5756 - val_accuracy: 0.0648\n",
      "Epoch 44/128\n",
      "413/413 [==============================] - 139s 337ms/step - loss: 0.1112 - accuracy: 0.9727 - val_loss: 179.7218 - val_accuracy: 0.0634\n",
      "Epoch 45/128\n",
      "413/413 [==============================] - 139s 337ms/step - loss: 0.1962 - accuracy: 0.9539 - val_loss: 429.9985 - val_accuracy: 0.0610\n",
      "Epoch 46/128\n",
      "413/413 [==============================] - 139s 337ms/step - loss: 0.0944 - accuracy: 0.9769 - val_loss: 513.0273 - val_accuracy: 0.0665\n",
      "Epoch 47/128\n",
      "413/413 [==============================] - 139s 338ms/step - loss: 0.0604 - accuracy: 0.9858 - val_loss: 636.7203 - val_accuracy: 0.0675\n",
      "Epoch 48/128\n",
      "413/413 [==============================] - 139s 337ms/step - loss: 0.0848 - accuracy: 0.9806 - val_loss: 475.3337 - val_accuracy: 0.0641\n",
      "Epoch 49/128\n",
      "413/413 [==============================] - 140s 338ms/step - loss: 0.0914 - accuracy: 0.9783 - val_loss: 632.8955 - val_accuracy: 0.0637\n",
      "Epoch 50/128\n",
      "413/413 [==============================] - 139s 337ms/step - loss: 0.0837 - accuracy: 0.9794 - val_loss: 422.5823 - val_accuracy: 0.0613\n",
      "Epoch 51/128\n",
      "413/413 [==============================] - 140s 339ms/step - loss: 0.0609 - accuracy: 0.9853 - val_loss: 403.4432 - val_accuracy: 0.0624\n",
      "Epoch 52/128\n",
      "413/413 [==============================] - 139s 338ms/step - loss: 0.1120 - accuracy: 0.9731 - val_loss: 445.5639 - val_accuracy: 0.0706\n",
      "Epoch 53/128\n",
      "413/413 [==============================] - 138s 335ms/step - loss: 0.0461 - accuracy: 0.9885 - val_loss: 688.7424 - val_accuracy: 0.0695\n",
      "Epoch 54/128\n",
      "413/413 [==============================] - 138s 335ms/step - loss: 0.1425 - accuracy: 0.9669 - val_loss: 281.9647 - val_accuracy: 0.0562\n",
      "Epoch 55/128\n"
     ]
    },
    {
     "name": "stdout",
     "output_type": "stream",
     "text": [
      "413/413 [==============================] - 138s 335ms/step - loss: 0.1110 - accuracy: 0.9748 - val_loss: 420.0335 - val_accuracy: 0.0644\n",
      "Epoch 56/128\n",
      "413/413 [==============================] - 138s 334ms/step - loss: 0.0679 - accuracy: 0.9834 - val_loss: 401.2520 - val_accuracy: 0.0665\n",
      "Epoch 57/128\n",
      "413/413 [==============================] - 138s 335ms/step - loss: 0.0203 - accuracy: 0.9942 - val_loss: 385.3193 - val_accuracy: 0.0648\n",
      "Epoch 58/128\n",
      "413/413 [==============================] - 139s 335ms/step - loss: 0.1276 - accuracy: 0.9764 - val_loss: 566.8287 - val_accuracy: 0.0634\n",
      "Epoch 59/128\n",
      "413/413 [==============================] - 138s 333ms/step - loss: 0.0683 - accuracy: 0.9842 - val_loss: 562.2889 - val_accuracy: 0.0668\n",
      "Epoch 60/128\n",
      "413/413 [==============================] - 135s 327ms/step - loss: 0.2852 - accuracy: 0.9364 - val_loss: 978.9569 - val_accuracy: 0.0624\n",
      "Epoch 61/128\n",
      "413/413 [==============================] - 135s 327ms/step - loss: 0.0678 - accuracy: 0.9837 - val_loss: 1196.1942 - val_accuracy: 0.0685\n",
      "Epoch 62/128\n",
      "413/413 [==============================] - 135s 327ms/step - loss: 0.0365 - accuracy: 0.9915 - val_loss: 964.4038 - val_accuracy: 0.0665\n",
      "Epoch 63/128\n",
      "413/413 [==============================] - 135s 327ms/step - loss: 0.0627 - accuracy: 0.9874 - val_loss: 661.0527 - val_accuracy: 0.0695\n",
      "Epoch 64/128\n",
      "413/413 [==============================] - 135s 326ms/step - loss: 0.0573 - accuracy: 0.9870 - val_loss: 1329.4520 - val_accuracy: 0.0651\n",
      "Epoch 65/128\n",
      "413/413 [==============================] - 135s 328ms/step - loss: 0.0621 - accuracy: 0.9864 - val_loss: 1136.0603 - val_accuracy: 0.0590\n",
      "Epoch 66/128\n",
      "413/413 [==============================] - 136s 330ms/step - loss: 0.0757 - accuracy: 0.9836 - val_loss: 1042.4160 - val_accuracy: 0.0648\n",
      "Epoch 67/128\n",
      "413/413 [==============================] - 137s 332ms/step - loss: 0.1826 - accuracy: 0.9643 - val_loss: 1543.2690 - val_accuracy: 0.0617\n",
      "Epoch 68/128\n",
      "413/413 [==============================] - 138s 333ms/step - loss: 0.0547 - accuracy: 0.9873 - val_loss: 1283.7654 - val_accuracy: 0.0641\n",
      "Epoch 69/128\n",
      "413/413 [==============================] - 138s 335ms/step - loss: 0.0360 - accuracy: 0.9921 - val_loss: 1004.0316 - val_accuracy: 0.0654\n",
      "Epoch 70/128\n",
      "413/413 [==============================] - 139s 337ms/step - loss: 0.0514 - accuracy: 0.9889 - val_loss: 739.2433 - val_accuracy: 0.0658\n",
      "Epoch 71/128\n",
      "413/413 [==============================] - 139s 337ms/step - loss: 0.0888 - accuracy: 0.9830 - val_loss: 1039.2177 - val_accuracy: 0.0675\n",
      "Epoch 72/128\n",
      "413/413 [==============================] - 139s 336ms/step - loss: 0.1465 - accuracy: 0.9716 - val_loss: 1284.7693 - val_accuracy: 0.0603\n",
      "Epoch 73/128\n",
      "413/413 [==============================] - 139s 336ms/step - loss: 0.0830 - accuracy: 0.9822 - val_loss: 1314.9237 - val_accuracy: 0.0637\n",
      "Epoch 74/128\n",
      "413/413 [==============================] - 138s 335ms/step - loss: 0.2220 - accuracy: 0.9544 - val_loss: 960.4112 - val_accuracy: 0.0648\n",
      "Epoch 75/128\n",
      "413/413 [==============================] - 138s 335ms/step - loss: 0.0864 - accuracy: 0.9808 - val_loss: 901.6048 - val_accuracy: 0.0607\n",
      "Epoch 76/128\n",
      "413/413 [==============================] - 138s 335ms/step - loss: 0.0406 - accuracy: 0.9908 - val_loss: 1172.1036 - val_accuracy: 0.0675\n",
      "Epoch 77/128\n",
      "413/413 [==============================] - 139s 336ms/step - loss: 0.0742 - accuracy: 0.9869 - val_loss: 1165.3370 - val_accuracy: 0.0644\n",
      "Epoch 78/128\n",
      "413/413 [==============================] - 139s 335ms/step - loss: 0.0808 - accuracy: 0.9856 - val_loss: 1287.4745 - val_accuracy: 0.0658\n",
      "Epoch 79/128\n",
      "413/413 [==============================] - 139s 336ms/step - loss: 0.0535 - accuracy: 0.9908 - val_loss: 1132.9073 - val_accuracy: 0.0641\n",
      "Epoch 80/128\n",
      "413/413 [==============================] - 139s 336ms/step - loss: 0.1006 - accuracy: 0.9815 - val_loss: 790.8694 - val_accuracy: 0.0685\n",
      "Epoch 81/128\n",
      "413/413 [==============================] - 138s 334ms/step - loss: 0.0621 - accuracy: 0.9870 - val_loss: 756.1926 - val_accuracy: 0.0692\n",
      "Epoch 82/128\n",
      "413/413 [==============================] - 138s 334ms/step - loss: 0.0523 - accuracy: 0.9885 - val_loss: 954.3785 - val_accuracy: 0.0661\n",
      "Epoch 83/128\n",
      "413/413 [==============================] - 138s 334ms/step - loss: 0.0486 - accuracy: 0.9902 - val_loss: 1476.1813 - val_accuracy: 0.0675\n",
      "Epoch 84/128\n",
      "413/413 [==============================] - 138s 334ms/step - loss: 0.1255 - accuracy: 0.9777 - val_loss: 1125.7423 - val_accuracy: 0.0613\n",
      "Epoch 85/128\n",
      "413/413 [==============================] - 138s 335ms/step - loss: 0.0887 - accuracy: 0.9842 - val_loss: 1192.5874 - val_accuracy: 0.0712\n",
      "Epoch 86/128\n",
      "413/413 [==============================] - 138s 334ms/step - loss: 0.2000 - accuracy: 0.9537 - val_loss: 1354.7755 - val_accuracy: 0.0627\n",
      "Epoch 87/128\n",
      "413/413 [==============================] - 138s 333ms/step - loss: 0.0286 - accuracy: 0.9931 - val_loss: 1466.0549 - val_accuracy: 0.0668\n",
      "Epoch 88/128\n",
      "413/413 [==============================] - 138s 333ms/step - loss: 0.0328 - accuracy: 0.9931 - val_loss: 1316.8223 - val_accuracy: 0.0658\n",
      "Epoch 89/128\n",
      "413/413 [==============================] - 137s 333ms/step - loss: 0.0251 - accuracy: 0.9952 - val_loss: 1267.5529 - val_accuracy: 0.0654\n",
      "Epoch 90/128\n",
      "413/413 [==============================] - 138s 334ms/step - loss: 0.0284 - accuracy: 0.9941 - val_loss: 1339.6251 - val_accuracy: 0.0668\n",
      "Epoch 91/128\n",
      "413/413 [==============================] - 138s 335ms/step - loss: 0.0742 - accuracy: 0.9841 - val_loss: 973.3279 - val_accuracy: 0.0607\n",
      "Epoch 92/128\n",
      "413/413 [==============================] - 138s 335ms/step - loss: 0.0491 - accuracy: 0.9898 - val_loss: 1114.4265 - val_accuracy: 0.0631\n",
      "Epoch 93/128\n",
      "413/413 [==============================] - 138s 334ms/step - loss: 0.0996 - accuracy: 0.9818 - val_loss: 2010.6415 - val_accuracy: 0.0678\n",
      "Epoch 94/128\n",
      "413/413 [==============================] - 138s 335ms/step - loss: 0.1228 - accuracy: 0.9789 - val_loss: 1998.4672 - val_accuracy: 0.0603\n",
      "Epoch 95/128\n",
      "413/413 [==============================] - 137s 332ms/step - loss: 0.0912 - accuracy: 0.9851 - val_loss: 1167.4877 - val_accuracy: 0.0627\n",
      "Epoch 96/128\n",
      "413/413 [==============================] - 138s 335ms/step - loss: 0.0907 - accuracy: 0.9837 - val_loss: 2296.8853 - val_accuracy: 0.0631\n",
      "Epoch 97/128\n",
      "413/413 [==============================] - 138s 335ms/step - loss: 0.0210 - accuracy: 0.9951 - val_loss: 2608.8862 - val_accuracy: 0.0675\n",
      "Epoch 98/128\n",
      "413/413 [==============================] - 137s 333ms/step - loss: 0.0467 - accuracy: 0.9915 - val_loss: 2062.1738 - val_accuracy: 0.0607\n",
      "Epoch 99/128\n",
      "413/413 [==============================] - 135s 326ms/step - loss: 0.0857 - accuracy: 0.9834 - val_loss: 1625.8441 - val_accuracy: 0.0651\n",
      "Epoch 100/128\n",
      "413/413 [==============================] - 135s 328ms/step - loss: 0.0872 - accuracy: 0.9863 - val_loss: 1843.6506 - val_accuracy: 0.0613\n",
      "Epoch 101/128\n",
      "413/413 [==============================] - 135s 328ms/step - loss: 0.0280 - accuracy: 0.9941 - val_loss: 2186.5930 - val_accuracy: 0.0675\n",
      "Epoch 102/128\n",
      "413/413 [==============================] - 134s 324ms/step - loss: 0.0887 - accuracy: 0.9848 - val_loss: 1171.3339 - val_accuracy: 0.0610\n",
      "Epoch 103/128\n",
      "413/413 [==============================] - 134s 325ms/step - loss: 0.2350 - accuracy: 0.9593 - val_loss: 1778.8328 - val_accuracy: 0.0665\n",
      "Epoch 104/128\n",
      "413/413 [==============================] - 136s 329ms/step - loss: 0.0775 - accuracy: 0.9887 - val_loss: 1806.2129 - val_accuracy: 0.0665\n",
      "Epoch 105/128\n",
      "413/413 [==============================] - 136s 330ms/step - loss: 0.0691 - accuracy: 0.9866 - val_loss: 1525.9474 - val_accuracy: 0.0688\n",
      "Epoch 106/128\n",
      "413/413 [==============================] - 136s 329ms/step - loss: 0.0562 - accuracy: 0.9903 - val_loss: 1221.9291 - val_accuracy: 0.0661\n",
      "Epoch 107/128\n",
      "413/413 [==============================] - 136s 329ms/step - loss: 0.0227 - accuracy: 0.9957 - val_loss: 1413.6107 - val_accuracy: 0.0661\n",
      "Epoch 108/128\n",
      "413/413 [==============================] - 136s 329ms/step - loss: 0.2033 - accuracy: 0.9714 - val_loss: 1142.4926 - val_accuracy: 0.0648\n",
      "Epoch 109/128\n"
     ]
    },
    {
     "name": "stdout",
     "output_type": "stream",
     "text": [
      "413/413 [==============================] - 137s 331ms/step - loss: 0.0360 - accuracy: 0.9925 - val_loss: 1884.6515 - val_accuracy: 0.0644\n",
      "Epoch 110/128\n",
      "413/413 [==============================] - 137s 332ms/step - loss: 0.0320 - accuracy: 0.9937 - val_loss: 1902.4321 - val_accuracy: 0.0634\n",
      "Epoch 111/128\n",
      "413/413 [==============================] - 138s 334ms/step - loss: 0.0931 - accuracy: 0.9865 - val_loss: 1955.6351 - val_accuracy: 0.0648\n",
      "Epoch 112/128\n",
      "413/413 [==============================] - 138s 335ms/step - loss: 0.0854 - accuracy: 0.9844 - val_loss: 1771.8890 - val_accuracy: 0.0607\n",
      "Epoch 113/128\n",
      "413/413 [==============================] - 138s 334ms/step - loss: 0.0626 - accuracy: 0.9893 - val_loss: 1724.9906 - val_accuracy: 0.0627\n",
      "Epoch 114/128\n",
      "413/413 [==============================] - 135s 326ms/step - loss: 0.0403 - accuracy: 0.9929 - val_loss: 1882.3312 - val_accuracy: 0.0671\n",
      "Epoch 115/128\n",
      "413/413 [==============================] - 135s 327ms/step - loss: 0.0452 - accuracy: 0.9924 - val_loss: 1803.2913 - val_accuracy: 0.0658\n",
      "Epoch 116/128\n",
      "413/413 [==============================] - 136s 328ms/step - loss: 0.0881 - accuracy: 0.9859 - val_loss: 1792.9777 - val_accuracy: 0.0671\n",
      "Epoch 117/128\n",
      "413/413 [==============================] - 135s 328ms/step - loss: 0.1194 - accuracy: 0.9814 - val_loss: 2053.1794 - val_accuracy: 0.0613\n",
      "Epoch 118/128\n",
      "413/413 [==============================] - 136s 328ms/step - loss: 0.1044 - accuracy: 0.9828 - val_loss: 2953.4739 - val_accuracy: 0.0624\n",
      "Epoch 119/128\n",
      "413/413 [==============================] - 136s 330ms/step - loss: 0.1665 - accuracy: 0.9755 - val_loss: 1811.6290 - val_accuracy: 0.0613\n",
      "Epoch 120/128\n",
      "413/413 [==============================] - 137s 331ms/step - loss: 0.0852 - accuracy: 0.9850 - val_loss: 2315.9397 - val_accuracy: 0.0631\n",
      "Epoch 121/128\n",
      "413/413 [==============================] - 138s 333ms/step - loss: 0.1617 - accuracy: 0.9739 - val_loss: 1300.9032 - val_accuracy: 0.0562\n",
      "Epoch 122/128\n",
      "413/413 [==============================] - 138s 334ms/step - loss: 0.0569 - accuracy: 0.9886 - val_loss: 1111.1791 - val_accuracy: 0.0617\n",
      "Epoch 123/128\n",
      "413/413 [==============================] - 138s 334ms/step - loss: 0.0596 - accuracy: 0.9910 - val_loss: 1916.7213 - val_accuracy: 0.0658\n",
      "Epoch 124/128\n",
      "413/413 [==============================] - 138s 333ms/step - loss: 0.0365 - accuracy: 0.9927 - val_loss: 1765.7205 - val_accuracy: 0.0658\n",
      "Epoch 125/128\n",
      "413/413 [==============================] - 135s 328ms/step - loss: 0.0313 - accuracy: 0.9949 - val_loss: 1682.2496 - val_accuracy: 0.0682\n",
      "Epoch 126/128\n",
      "413/413 [==============================] - 135s 326ms/step - loss: 0.1089 - accuracy: 0.9831 - val_loss: 912.3113 - val_accuracy: 0.0641\n",
      "Epoch 127/128\n",
      "413/413 [==============================] - 135s 327ms/step - loss: 0.0696 - accuracy: 0.9899 - val_loss: 1433.4707 - val_accuracy: 0.0658\n",
      "Epoch 128/128\n",
      "413/413 [==============================] - 135s 328ms/step - loss: 0.1093 - accuracy: 0.9843 - val_loss: 3228.3821 - val_accuracy: 0.0648\n"
     ]
    }
   ],
   "source": [
    "#%tensorflow_version 1.x\n",
    "from keras.utils import to_categorical\n",
    "from keras.models import Sequential, Model\n",
    "from keras.layers import Input, Conv2D, Activation, Flatten, Dense, MaxPooling2D, BatchNormalization, Dropout\n",
    "from keras.preprocessing.image import load_img\n",
    "from keras.preprocessing.image import img_to_array\n",
    "from keras.optimizers import Adam\n",
    "\n",
    "# https://towardsdatascience.com/convolutional-neural-networks-most-common-architectures-6a2b5d22479d VGG16 & VGG19\n",
    "model = Sequential()\n",
    "model.add(Conv2D(64, (3, 3), activation = 'relu', input_shape = (64, 64, 3)))\n",
    "model.add(MaxPooling2D(pool_size = (2, 2)))\n",
    "model.add(Conv2D(128, (3, 3), activation = 'relu'))\n",
    "model.add(MaxPooling2D(pool_size = (2, 2)))\n",
    "model.add(Conv2D(256, (3, 3), activation = 'relu'))\n",
    "model.add(MaxPooling2D(pool_size = (2, 2)))\n",
    "model.add(Conv2D(512, (3, 3), activation = 'relu'))\n",
    "model.add(MaxPooling2D(pool_size = (2, 2)))\n",
    "model.add(Flatten())\n",
    "model.add(Dense(4096, activation = 'relu'))\n",
    "model.add(Dense(4096, activation = 'relu'))\n",
    "model.add(Dense(12, activation = 'softmax'))\n",
    "\n",
    "model.compile(loss='categorical_crossentropy', \n",
    "              optimizer='adam',\n",
    "              metrics=['accuracy'])\n",
    "\n",
    "print('Train data shape: ', X_train.shape)\n",
    "print('Train labels shape: ', y_train.shape)\n",
    "\n",
    "y_train_one_hot = to_categorical(y_train)\n",
    "\n",
    "history = model.fit(X_train, y_train_one_hot, batch_size=64, epochs=128, validation_split=0.1)"
   ]
  },
  {
   "cell_type": "code",
   "execution_count": 9,
   "metadata": {
    "colab": {
     "base_uri": "https://localhost:8080/"
    },
    "id": "gZCD2tYVBGPh",
    "outputId": "51c5fd53-c546-4501-a546-4ade7f908f13"
   },
   "outputs": [
    {
     "name": "stdout",
     "output_type": "stream",
     "text": [
      "917/917 [==============================] - 27s 30ms/step - loss: 323.1511 - accuracy: 0.8808\n"
     ]
    },
    {
     "data": {
      "text/plain": [
       "[323.1510925292969, 0.8808168172836304]"
      ]
     },
     "execution_count": 9,
     "metadata": {},
     "output_type": "execute_result"
    }
   ],
   "source": [
    "# accuracy in train data\n",
    "model.evaluate(X_train, y_train_one_hot)"
   ]
  },
  {
   "cell_type": "code",
   "execution_count": 10,
   "metadata": {
    "colab": {
     "base_uri": "https://localhost:8080/"
    },
    "id": "nUuFHB27Q18J",
    "outputId": "14cfbba4-8aae-4378-a2f4-d095c2d7a106"
   },
   "outputs": [
    {
     "name": "stdout",
     "output_type": "stream",
     "text": [
      "229/229 [==============================] - 7s 30ms/step - loss: 294.4434 - accuracy: 0.7916s - loss: 10.8640 - ac\n"
     ]
    }
   ],
   "source": [
    "# accuracy in test data\n",
    "test_result = model.evaluate(X_test, y_test_one_hot)"
   ]
  },
  {
   "cell_type": "code",
   "execution_count": 11,
   "metadata": {
    "colab": {
     "base_uri": "https://localhost:8080/",
     "height": 421
    },
    "id": "-oyoEoZul9AS",
    "outputId": "65de3ca1-2335-4541-e0d8-b8baaa751465"
   },
   "outputs": [
    {
     "data": {
      "text/plain": [
       "Text(0.5, 1.0, 'Accuracy')"
      ]
     },
     "execution_count": 11,
     "metadata": {},
     "output_type": "execute_result"
    },
    {
     "data": {
      "image/png": "[encoded data removed]",
      "text/plain": [
       "<Figure size 1152x432 with 2 Axes>"
      ]
     },
     "metadata": {
      "needs_background": "light"
     },
     "output_type": "display_data"
    }
   ],
   "source": [
    "import matplotlib.pyplot as plt\n",
    "plt.figure(figsize=(16, 6))\n",
    "\n",
    "plt.subplot(1, 2, 1)\n",
    "plt.plot(history.history['loss'])\n",
    "plt.plot(history.history['val_loss'])\n",
    "plt.xlabel('Epoch')\n",
    "plt.ylabel('Loss')\n",
    "plt.legend(['Training', 'Validation'])\n",
    "plt.title('Loss')\n",
    "\n",
    "plt.subplot(1, 2, 2)\n",
    "plt.plot(history.history['accuracy'])\n",
    "plt.plot(history.history['val_loss'])\n",
    "plt.xlabel('Epoch')\n",
    "plt.ylabel('Accuracy')\n",
    "plt.legend(['Training', 'Validation'])\n",
    "plt.title('Accuracy')"
   ]
  }
 ],
 "metadata": {
  "colab": {
   "collapsed_sections": [],
   "include_colab_link": true,
   "name": "nomm_cnn.ipynb",
   "provenance": []
  },
  "kernelspec": {
   "display_name": "Python 3",
   "language": "python",
   "name": "python3"
  },
  "language_info": {
   "codemirror_mode": {
    "name": "ipython",
    "version": 3
   },
   "file_extension": ".py",
   "mimetype": "text/x-python",
   "name": "python",
   "nbconvert_exporter": "python",
   "pygments_lexer": "ipython3",
   "version": "3.7.9"
  }
 },
 "nbformat": 4,
 "nbformat_minor": 1
}
