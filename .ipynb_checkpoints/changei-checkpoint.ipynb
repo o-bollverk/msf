{
 "cells": [
  {
   "cell_type": "code",
   "execution_count": 12,
   "metadata": {},
   "outputs": [
    {
     "name": "stdout",
     "output_type": "stream",
     "text": [
      "diamond da62\n"
     ]
    },
    {
     "ename": "FileExistsError",
     "evalue": "[Errno 17] File exists: 'diamond da62/diamond da62_bw'",
     "output_type": "error",
     "traceback": [
      "\u001b[0;31m---------------------------------------------------------------------------\u001b[0m",
      "\u001b[0;31mFileExistsError\u001b[0m                           Traceback (most recent call last)",
      "\u001b[0;32m<ipython-input-12-225698dca945>\u001b[0m in \u001b[0;36m<module>\u001b[0;34m\u001b[0m\n\u001b[1;32m     15\u001b[0m         \u001b[0mdirectory\u001b[0m \u001b[0;34m=\u001b[0m \u001b[0mp\u001b[0m \u001b[0;34m+\u001b[0m \u001b[0;34m'_bw'\u001b[0m\u001b[0;34m\u001b[0m\u001b[0;34m\u001b[0m\u001b[0m\n\u001b[1;32m     16\u001b[0m         \u001b[0mmdir\u001b[0m \u001b[0;34m=\u001b[0m \u001b[0mos\u001b[0m\u001b[0;34m.\u001b[0m\u001b[0mpath\u001b[0m\u001b[0;34m.\u001b[0m\u001b[0mjoin\u001b[0m\u001b[0;34m(\u001b[0m\u001b[0mp\u001b[0m\u001b[0;34m,\u001b[0m \u001b[0mdirectory\u001b[0m\u001b[0;34m)\u001b[0m\u001b[0;34m\u001b[0m\u001b[0;34m\u001b[0m\u001b[0m\n\u001b[0;32m---> 17\u001b[0;31m         \u001b[0mos\u001b[0m\u001b[0;34m.\u001b[0m\u001b[0mmkdir\u001b[0m\u001b[0;34m(\u001b[0m\u001b[0mmdir\u001b[0m\u001b[0;34m)\u001b[0m\u001b[0;34m\u001b[0m\u001b[0;34m\u001b[0m\u001b[0m\n\u001b[0m\u001b[1;32m     18\u001b[0m         \u001b[0mnr\u001b[0m \u001b[0;34m=\u001b[0m \u001b[0;36m1\u001b[0m\u001b[0;34m\u001b[0m\u001b[0;34m\u001b[0m\u001b[0m\n\u001b[1;32m     19\u001b[0m         \u001b[0;32mfor\u001b[0m \u001b[0mi\u001b[0m \u001b[0;32min\u001b[0m \u001b[0mos\u001b[0m\u001b[0;34m.\u001b[0m\u001b[0mlistdir\u001b[0m\u001b[0;34m(\u001b[0m\u001b[0mp\u001b[0m \u001b[0;34m+\u001b[0m \u001b[0;34m'/'\u001b[0m\u001b[0;34m)\u001b[0m\u001b[0;34m:\u001b[0m\u001b[0;34m\u001b[0m\u001b[0;34m\u001b[0m\u001b[0m\n",
      "\u001b[0;31mFileExistsError\u001b[0m: [Errno 17] File exists: 'diamond da62/diamond da62_bw'"
     ]
    }
   ],
   "source": [
    "import numpy as np\n",
    "import cv2\n",
    "import os\n",
    "\n",
    "#225, 400\n",
    "\n",
    "#paths['airbus', 'aviat s2s', 'boeing 747', 'cessna 152', 'cessna 172', 'cessna 208', \n",
    "     #'cessna cj4', 'cub crafters xcub', 'daher tbm 930', 'diamon da40', 'diamond da62', 'extra 330' ]\n",
    "\n",
    "paths = ['diamond da62']\n",
    "\n",
    "for p in paths:\n",
    "    if os.path.exists('./' + p+ '_bw') == False:\n",
    "        \n",
    "        directory = p + '_bw'\n",
    "        mdir = os.path.join(p, directory)\n",
    "        os.mkdir(mdir) \n",
    "        nr = 1\n",
    "        for i in os.listdir(p + '/'):\n",
    "            if os.path.isdir('./' + i) == False:\n",
    "                img = cv2.imread(os.path.join(p +'/', i),0)\n",
    "    \n",
    "                if img.shape != (225, 400):\n",
    "                    dim = (400, 225)\n",
    "                    resized = cv2.resize(img, dim, interpolation=cv2.INTER_AREA)\n",
    "                    cv2.imwrite(os.path.join(p +'/'+ p +'_bw' , p +'_bw_' + str(nr) + '.jpg'), resized)\n",
    "                else:\n",
    "                    cv2.imwrite(os.path.join(p +'/' + p +'_bw' , p +'_bw_' + str(nr) + '.jpg'), img)\n",
    "                nr+=1\n",
    "\n",
    "    else:\n",
    "        nr = 1\n",
    "        for i in os.listdir(p + '/'):\n",
    "            if os.path.isdir('./' + i) == False:\n",
    "                img = cv2.imread(os.path.join(p +'/', i),0)\n",
    "    \n",
    "                if img.shape != (225, 400):\n",
    "                    dim = (400, 225)\n",
    "                    resized = cv2.resize(img, dim, interpolation=cv2.INTER_AREA)\n",
    "                    cv2.imwrite(os.path.join(p +'/'+ p +'_bw' , p +'_bw_' + str(nr) + '.jpg'), resized)\n",
    "                else:\n",
    "                    cv2.imwrite(os.path.join(p +'/' + p +'_bw' , p +'_bw_' + str(nr) + '.jpg'), img)\n",
    "                nr+=1\n",
    "    \n",
    "    \n"
   ]
  },
  {
   "cell_type": "code",
   "execution_count": null,
   "metadata": {},
   "outputs": [],
   "source": []
  }
 ],
 "metadata": {
  "kernelspec": {
   "display_name": "Python 3",
   "language": "python",
   "name": "python3"
  },
  "language_info": {
   "codemirror_mode": {
    "name": "ipython",
    "version": 3
   },
   "file_extension": ".py",
   "mimetype": "text/x-python",
   "name": "python",
   "nbconvert_exporter": "python",
   "pygments_lexer": "ipython3",
   "version": "3.8.5"
  }
 },
 "nbformat": 4,
 "nbformat_minor": 4
}
