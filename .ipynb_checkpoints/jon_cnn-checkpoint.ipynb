{
 "cells": [
  {
   "cell_type": "markdown",
   "metadata": {
    "colab_type": "text",
    "id": "view-in-github"
   },
   "source": [
    "<a href=\"https://colab.research.google.com/github/o-bollverk/msf/blob/main/nomm_cnn.ipynb\" target=\"_parent\"><img src=\"https://colab.research.google.com/assets/colab-badge.svg\" alt=\"Open In Colab\"/></a>"
   ]
  },
  {
   "cell_type": "code",
   "execution_count": 2,
   "metadata": {
    "id": "kTOjf_-UUgYm"
   },
   "outputs": [],
   "source": [
    "from urllib.request import urlopen\n",
    "from fastai.vision import *\n",
    "from fastai.metrics import error_rate\n",
    "from PIL import Image\n",
    "#from google.colab import drive\n",
    "from os import listdir\n",
    "import numpy as np \n",
    "import cv2\n",
    "from matplotlib import image\n",
    "from matplotlib import pyplot\n",
    "import numpy as np\n",
    "import warnings\n",
    "import torch\n",
    "import pandas as pd\n",
    "from pathlib import Path\n",
    "import os"
   ]
  },
  {
   "cell_type": "markdown",
   "metadata": {
    "id": "qNKvcJ4_Owfl"
   },
   "source": [
    "Klassid:\n",
    "\n",
    "Airbus A320neo\n",
    "\n",
    "Boeing 747-8 Intercontinental\n",
    "\n",
    "Aviat Pitts Special S2S\n",
    "\n",
    "Cub Crafter X Cub\n",
    "\n",
    "Daher TBM 930\n",
    "\n",
    "Diamond DA40NG\n",
    "\n",
    "Diamond DA62\n",
    "\n",
    "EXTRA 330LT\n",
    "\n"
   ]
  },
  {
   "cell_type": "markdown",
   "metadata": {
    "id": "WNf-snFoK_27"
   },
   "source": [
    "https://www.windowscentral.com/list-microsoft-flight-simulator-planes\n"
   ]
  },
  {
   "cell_type": "markdown",
   "metadata": {
    "id": "eDzGa8gzYcpu"
   },
   "source": [
    "Cloning the repository"
   ]
  },
  {
   "cell_type": "code",
   "execution_count": null,
   "metadata": {
    "colab": {
     "base_uri": "https://localhost:8080/"
    },
    "id": "0tMQ3NHTYg7i",
    "outputId": "c0f6c609-72b6-4f41-da5e-bb3e9c491f4f"
   },
   "outputs": [],
   "source": [
    "# Clone the entire repo.\n",
    "!git clone -l -s git://github.com/o-bollverk/msf cloned-repo\n",
    "%cd cloned-repo\n",
    "!ls"
   ]
  },
  {
   "cell_type": "code",
   "execution_count": null,
   "metadata": {
    "id": "c6hEjGIHYQYH"
   },
   "outputs": [],
   "source": [
    "#! git pull"
   ]
  },
  {
   "cell_type": "code",
   "execution_count": 3,
   "metadata": {
    "id": "eez_VOeq6qsx"
   },
   "outputs": [],
   "source": [
    "nimede_vastavus = pd.DataFrame({\"web_name\": np.sort(listdir(\"all_data_color/\")),\n",
    "                                \"game_name\": np.sort(np.unique([x.split(\"_clear\")[0] for x in listdir(\"msf_data/image_data_clear\")]))})"
   ]
  },
  {
   "cell_type": "code",
   "execution_count": 4,
   "metadata": {
    "colab": {
     "base_uri": "https://localhost:8080/"
    },
    "id": "JnfZU7kTDePx",
    "outputId": "bae96c7d-def1-422e-e0b1-c29f3e1b921c"
   },
   "outputs": [],
   "source": [
    "! mkdir random_selection_train\n",
    "! mkdir random_selection_test\n"
   ]
  },
  {
   "cell_type": "code",
   "execution_count": 5,
   "metadata": {
    "colab": {
     "base_uri": "https://localhost:8080/",
     "height": 235
    },
    "id": "n2kZ8DuP3Oya",
    "outputId": "b969679c-0ef2-4a0c-ae72-4e370406c3eb"
   },
   "outputs": [],
   "source": [
    "# creating temporary folder for selected files\n",
    "from shutil import copyfile\n",
    "import random\n",
    "import shutil\n",
    "\n",
    "selection_size_web = 250\n",
    "selection_size_web_test = int(0.2*selection_size_web)\n",
    "\n",
    "def abifun(x):\n",
    "    return x[:len(nimede_vastavus.game_name[i])] == nimede_vastavus.game_name[i]\n",
    " \n",
    "for i in range(nimede_vastavus.shape[0]):\n",
    "  web_files = listdir(\"all_data_color/\" + nimede_vastavus.web_name[i])\n",
    "  game_files_clear = listdir(\"msf_data/image_data_clear/\")    \n",
    "  game_files_clear_selected = np.array(game_files_clear)[[abifun(x) for x in game_files_clear]]\n",
    "  game_files_rainy = listdir(\"msf_data/image_data_rainy/\")\n",
    "  game_files_rainy_selected = np.array(game_files_rainy)[[abifun(x) for x in game_files_rainy]]\n",
    "  \n",
    "  # making a random selection\n",
    "\n",
    "  selected_web = random.sample(web_files, selection_size_web)\n",
    "  selected_web2 = [\"all_data_color/\" + nimede_vastavus.web_name[i] + \"/\" + x for x in selected_web]\n",
    "  selected_web2_test = selected_web2[0:selection_size_web_test]\n",
    "  selected_web2_train = selected_web2[selection_size_web_test:]\n",
    "\n",
    "  selected_clear = random.sample(set(game_files_clear_selected), int(selection_size_web/4))\n",
    "  selected_clear2 = [\"msf_data/image_data_clear/\" + x for x in selected_clear]\n",
    "  selected_clear2_test = selected_clear2[0:selection_size_web_test]\n",
    "  selected_clear2_train = selected_clear2[selection_size_web_test:]\n",
    "\n",
    "  selected_rainy = random.sample(set(game_files_rainy_selected), int(selection_size_web/4))\n",
    "  selected_rainy2 = [\"msf_data/image_data_rainy/\" + x for x in selected_rainy]\n",
    "  selected_rainy2_test = selected_rainy2[0:selection_size_web_test]\n",
    "  selected_rainy2_train = selected_rainy2[selection_size_web_test:]\n",
    "  \n",
    "  complete_selection_train = np.concatenate([selected_web2_train, selected_clear2_train, selected_rainy2_train])\n",
    "  complete_selection_test = np.concatenate([selected_web2_test, selected_clear2_test, selected_rainy2_test])\n",
    "\n",
    "  os.mkdir(\"random_selection_train/\" +  nimede_vastavus.game_name[i])\n",
    "  for filename in complete_selection_train:\n",
    "    shutil.copy(filename, \"random_selection_train/\" +  nimede_vastavus.game_name[i])\n",
    "\n",
    "  os.mkdir(\"random_selection_test/\" +  nimede_vastavus.game_name[i])\n",
    "  for filename in complete_selection_test:\n",
    "    shutil.copy(filename, \"random_selection_test/\" +  nimede_vastavus.game_name[i])\n",
    "\n"
   ]
  },
  {
   "cell_type": "code",
   "execution_count": 6,
   "metadata": {
    "id": "5Dr_KTQIkfet"
   },
   "outputs": [],
   "source": [
    "path = Path(\"random_selection_train\")"
   ]
  },
  {
   "cell_type": "code",
   "execution_count": 7,
   "metadata": {
    "colab": {
     "base_uri": "https://localhost:8080/"
    },
    "id": "iumNV9Vb3qfa",
    "outputId": "38f94e09-3d6c-4125-d0ab-b04a04ff3dc0"
   },
   "outputs": [
    {
     "name": "stdout",
     "output_type": "stream",
     "text": [
      "Train data shape:  (2688, 64, 64, 3)\n",
      "Train labels shape:  (2688,)\n"
     ]
    }
   ],
   "source": [
    "# loading train data\n",
    "import cv2\n",
    "from matplotlib import pyplot as plt\n",
    "from keras.preprocessing.image import load_img\n",
    "from keras.preprocessing.image import img_to_array\n",
    "import os, sys\n",
    "\n",
    "d = {}\n",
    "x=['aviat', 'diamond40ng', 'cessna_172', 'cessna_cj', 'boeing', 'diamondda62', 'airbus', 'cessna_208', 'extra', 'daher', 'cubcraft', 'cessna_152']\n",
    "count = 0\n",
    "for i in x:\n",
    "  if i not in d:\n",
    "     d[i] = count\n",
    "     count += 1\n",
    "actual = []\n",
    "X_train = []\n",
    "y_train = []\n",
    "IMG_SIZE = (64, 64)\n",
    "for i in listdir(\"random_selection_train\"):\n",
    "  for j in listdir(\"random_selection_train\" + \"/\" + i):\n",
    "    actual.append(i)\n",
    "    a = cv2.imread(\"random_selection_train/\" + i +\"/\" + j)\n",
    "    y_train.append(d[i])\n",
    "    resized = cv2.resize(a, IMG_SIZE)\n",
    "    X_train.append(resized)\n",
    "    #plt.imshow(a)\n",
    "    #plt.show()\n",
    "    #print(a.shape)\n",
    "\n",
    "X_train = np.array(X_train)\n",
    "y_train = np.array(y_train)\n",
    "print('Train data shape: ', X_train.shape)\n",
    "print('Train labels shape: ', y_train.shape)"
   ]
  },
  {
   "cell_type": "code",
   "execution_count": 8,
   "metadata": {
    "colab": {
     "base_uri": "https://localhost:8080/"
    },
    "id": "e9oLEpGKg_7U",
    "outputId": "8a50325e-ca71-43b7-e62c-01bedeedecec"
   },
   "outputs": [
    {
     "name": "stdout",
     "output_type": "stream",
     "text": [
      "Train data shape:  (1800, 64, 64, 3)\n",
      "Train labels shape:  (1800,)\n"
     ]
    }
   ],
   "source": [
    "# loading test data\n",
    "from keras.utils import to_categorical\n",
    "\n",
    "actual = []\n",
    "X_test = []\n",
    "y_test = []\n",
    "IMG_SIZE = (64, 64)\n",
    "for i in listdir(\"random_selection_test\"):\n",
    "  for j in listdir(\"random_selection_test\" + \"/\" + i):\n",
    "    actual.append(i)\n",
    "    a = cv2.imread(\"random_selection_test/\" + i +\"/\" + j)\n",
    "    y_test.append(d[i])\n",
    "    resized = cv2.resize(a, IMG_SIZE)\n",
    "    X_test.append(resized)\n",
    "    #plt.imshow(a)\n",
    "    #plt.show()\n",
    "    #print(a.shape)\n",
    "\n",
    "X_test = np.array(X_test)\n",
    "y_test = np.array(y_test)\n",
    "print('Train data shape: ', X_test.shape)\n",
    "print('Train labels shape: ', y_test.shape)\n",
    "y_test_one_hot = to_categorical(y_test)"
   ]
  },
  {
   "cell_type": "markdown",
   "metadata": {
    "id": "-t24_0nWAk0g"
   },
   "source": [
    "## Train model"
   ]
  },
  {
   "cell_type": "code",
   "execution_count": 16,
   "metadata": {
    "colab": {
     "base_uri": "https://localhost:8080/"
    },
    "id": "LQjx5qE1heSx",
    "outputId": "fa63e681-ed63-49db-d780-8429d931cc23"
   },
   "outputs": [
    {
     "name": "stdout",
     "output_type": "stream",
     "text": [
      "Train data shape:  (2688, 64, 64, 3)\n",
      "Train labels shape:  (2688,)\n",
      "Epoch 1/128\n",
      "34/34 [==============================] - 11s 327ms/step - loss: 13.4443 - accuracy: 0.1112 - val_loss: 5.6673 - val_accuracy: 0.0000e+00\n",
      "Epoch 2/128\n",
      "34/34 [==============================] - 11s 337ms/step - loss: 2.1263 - accuracy: 0.1935 - val_loss: 7.1990 - val_accuracy: 0.0000e+00\n",
      "Epoch 3/128\n",
      "34/34 [==============================] - 11s 332ms/step - loss: 2.0104 - accuracy: 0.2274 - val_loss: 7.8265 - val_accuracy: 0.0186\n",
      "Epoch 4/128\n",
      "34/34 [==============================] - 11s 331ms/step - loss: 1.8480 - accuracy: 0.2972 - val_loss: 9.3900 - val_accuracy: 0.0130\n",
      "Epoch 5/128\n",
      "34/34 [==============================] - 12s 340ms/step - loss: 1.6507 - accuracy: 0.3926 - val_loss: 10.8328 - val_accuracy: 0.0911\n",
      "Epoch 6/128\n",
      "34/34 [==============================] - 12s 354ms/step - loss: 1.4970 - accuracy: 0.4414 - val_loss: 9.9754 - val_accuracy: 0.0967\n",
      "Epoch 7/128\n",
      "34/34 [==============================] - 12s 353ms/step - loss: 1.3338 - accuracy: 0.5195 - val_loss: 11.4145 - val_accuracy: 0.0799\n",
      "Epoch 8/128\n",
      "34/34 [==============================] - 12s 344ms/step - loss: 1.1089 - accuracy: 0.5912 - val_loss: 12.9789 - val_accuracy: 0.0743\n",
      "Epoch 9/128\n",
      "34/34 [==============================] - 12s 344ms/step - loss: 0.8966 - accuracy: 0.6791 - val_loss: 16.4379 - val_accuracy: 0.0911\n",
      "Epoch 10/128\n",
      "34/34 [==============================] - 11s 337ms/step - loss: 0.8088 - accuracy: 0.7140 - val_loss: 16.4385 - val_accuracy: 0.0743\n",
      "Epoch 11/128\n",
      "34/34 [==============================] - 11s 334ms/step - loss: 0.6351 - accuracy: 0.7670 - val_loss: 18.0489 - val_accuracy: 0.0576\n",
      "Epoch 12/128\n",
      "34/34 [==============================] - 11s 332ms/step - loss: 0.5656 - accuracy: 0.7986 - val_loss: 21.4748 - val_accuracy: 0.0706\n",
      "Epoch 13/128\n",
      "34/34 [==============================] - 11s 333ms/step - loss: 0.3881 - accuracy: 0.8530 - val_loss: 21.1277 - val_accuracy: 0.0632\n",
      "Epoch 14/128\n",
      "34/34 [==============================] - 11s 331ms/step - loss: 0.4319 - accuracy: 0.8442 - val_loss: 19.7413 - val_accuracy: 0.1004\n",
      "Epoch 15/128\n",
      "34/34 [==============================] - 11s 331ms/step - loss: 0.3051 - accuracy: 0.8874 - val_loss: 27.9554 - val_accuracy: 0.0762\n",
      "Epoch 16/128\n",
      "34/34 [==============================] - 11s 331ms/step - loss: 0.2641 - accuracy: 0.9088 - val_loss: 24.2127 - val_accuracy: 0.0762\n",
      "Epoch 17/128\n",
      "34/34 [==============================] - 11s 332ms/step - loss: 0.3616 - accuracy: 0.8800 - val_loss: 22.7002 - val_accuracy: 0.0874\n",
      "Epoch 18/128\n",
      "34/34 [==============================] - 11s 334ms/step - loss: 0.1630 - accuracy: 0.9460 - val_loss: 31.7784 - val_accuracy: 0.0818\n",
      "Epoch 19/128\n",
      "34/34 [==============================] - 11s 332ms/step - loss: 0.1498 - accuracy: 0.9465 - val_loss: 31.7957 - val_accuracy: 0.0967\n",
      "Epoch 20/128\n",
      "34/34 [==============================] - 11s 338ms/step - loss: 0.2236 - accuracy: 0.9214 - val_loss: 25.3323 - val_accuracy: 0.0651\n",
      "Epoch 21/128\n",
      "34/34 [==============================] - 11s 334ms/step - loss: 0.2165 - accuracy: 0.9298 - val_loss: 28.0489 - val_accuracy: 0.0818\n",
      "Epoch 22/128\n",
      "34/34 [==============================] - 11s 334ms/step - loss: 0.1424 - accuracy: 0.9558 - val_loss: 30.7914 - val_accuracy: 0.1022\n",
      "Epoch 23/128\n",
      "34/34 [==============================] - 11s 334ms/step - loss: 0.1662 - accuracy: 0.9423 - val_loss: 28.0595 - val_accuracy: 0.0558\n",
      "Epoch 24/128\n",
      "34/34 [==============================] - 11s 335ms/step - loss: 0.2124 - accuracy: 0.9284 - val_loss: 26.0046 - val_accuracy: 0.0818\n",
      "Epoch 25/128\n",
      "34/34 [==============================] - 11s 334ms/step - loss: 0.1516 - accuracy: 0.9553 - val_loss: 27.6161 - val_accuracy: 0.0929\n",
      "Epoch 26/128\n",
      "34/34 [==============================] - 11s 335ms/step - loss: 0.0908 - accuracy: 0.9693 - val_loss: 29.4177 - val_accuracy: 0.0799\n",
      "Epoch 27/128\n",
      "34/34 [==============================] - 11s 333ms/step - loss: 0.0729 - accuracy: 0.9777 - val_loss: 34.3224 - val_accuracy: 0.0855\n",
      "Epoch 28/128\n",
      "34/34 [==============================] - 11s 332ms/step - loss: 0.0834 - accuracy: 0.9730 - val_loss: 33.5456 - val_accuracy: 0.0743\n",
      "Epoch 29/128\n",
      "34/34 [==============================] - 12s 340ms/step - loss: 0.1420 - accuracy: 0.9507 - val_loss: 31.4775 - val_accuracy: 0.0799\n",
      "Epoch 30/128\n",
      "34/34 [==============================] - 12s 339ms/step - loss: 0.1158 - accuracy: 0.9633 - val_loss: 35.3167 - val_accuracy: 0.0836\n",
      "Epoch 31/128\n",
      "34/34 [==============================] - 11s 334ms/step - loss: 0.1532 - accuracy: 0.9563 - val_loss: 27.8171 - val_accuracy: 0.0948\n",
      "Epoch 32/128\n",
      "34/34 [==============================] - 12s 339ms/step - loss: 0.1558 - accuracy: 0.9474 - val_loss: 27.4030 - val_accuracy: 0.0836\n",
      "Epoch 33/128\n",
      "34/34 [==============================] - 12s 341ms/step - loss: 0.1328 - accuracy: 0.9591 - val_loss: 32.8240 - val_accuracy: 0.0613\n",
      "Epoch 34/128\n",
      "34/34 [==============================] - 12s 344ms/step - loss: 0.0883 - accuracy: 0.9698 - val_loss: 30.4456 - val_accuracy: 0.0483\n",
      "Epoch 35/128\n",
      "34/34 [==============================] - 12s 341ms/step - loss: 0.0651 - accuracy: 0.9814 - val_loss: 32.5500 - val_accuracy: 0.0892\n",
      "Epoch 36/128\n",
      "34/34 [==============================] - 11s 336ms/step - loss: 0.0549 - accuracy: 0.9842 - val_loss: 34.2587 - val_accuracy: 0.0948\n",
      "Epoch 37/128\n",
      "34/34 [==============================] - 11s 338ms/step - loss: 0.0634 - accuracy: 0.9814 - val_loss: 33.4837 - val_accuracy: 0.0836\n",
      "Epoch 38/128\n",
      "34/34 [==============================] - 12s 338ms/step - loss: 0.0638 - accuracy: 0.9819 - val_loss: 32.1423 - val_accuracy: 0.0985\n",
      "Epoch 39/128\n",
      "34/34 [==============================] - 12s 341ms/step - loss: 0.0322 - accuracy: 0.9879 - val_loss: 36.5796 - val_accuracy: 0.0818\n",
      "Epoch 40/128\n",
      "34/34 [==============================] - 11s 337ms/step - loss: 0.0357 - accuracy: 0.9893 - val_loss: 37.5360 - val_accuracy: 0.0892\n",
      "Epoch 41/128\n",
      "34/34 [==============================] - 12s 345ms/step - loss: 0.1722 - accuracy: 0.9516 - val_loss: 29.3862 - val_accuracy: 0.0781\n",
      "Epoch 42/128\n",
      "34/34 [==============================] - 11s 337ms/step - loss: 0.2165 - accuracy: 0.9386 - val_loss: 26.7806 - val_accuracy: 0.0818\n",
      "Epoch 43/128\n",
      "34/34 [==============================] - 11s 332ms/step - loss: 0.0931 - accuracy: 0.9721 - val_loss: 30.2717 - val_accuracy: 0.0818\n",
      "Epoch 44/128\n",
      "34/34 [==============================] - 12s 339ms/step - loss: 0.0243 - accuracy: 0.9912 - val_loss: 33.8030 - val_accuracy: 0.0743\n",
      "Epoch 45/128\n",
      "34/34 [==============================] - 11s 335ms/step - loss: 0.0230 - accuracy: 0.9926 - val_loss: 33.6911 - val_accuracy: 0.0762\n",
      "Epoch 46/128\n",
      "34/34 [==============================] - 11s 335ms/step - loss: 0.0134 - accuracy: 0.9953 - val_loss: 34.7155 - val_accuracy: 0.0632\n",
      "Epoch 47/128\n",
      "34/34 [==============================] - 11s 335ms/step - loss: 0.0307 - accuracy: 0.9907 - val_loss: 34.3816 - val_accuracy: 0.0613\n",
      "Epoch 48/128\n",
      "34/34 [==============================] - 11s 336ms/step - loss: 0.0350 - accuracy: 0.9870 - val_loss: 36.6109 - val_accuracy: 0.0855\n",
      "Epoch 49/128\n",
      "34/34 [==============================] - 11s 337ms/step - loss: 0.0554 - accuracy: 0.9809 - val_loss: 34.6978 - val_accuracy: 0.0632\n",
      "Epoch 50/128\n",
      "34/34 [==============================] - 11s 337ms/step - loss: 0.0827 - accuracy: 0.9744 - val_loss: 34.1143 - val_accuracy: 0.0892\n",
      "Epoch 51/128\n",
      "34/34 [==============================] - 11s 335ms/step - loss: 0.1121 - accuracy: 0.9637 - val_loss: 29.3369 - val_accuracy: 0.0706\n",
      "Epoch 52/128\n",
      "34/34 [==============================] - 11s 338ms/step - loss: 0.1427 - accuracy: 0.9577 - val_loss: 28.7881 - val_accuracy: 0.0855\n",
      "Epoch 53/128\n",
      "34/34 [==============================] - 12s 340ms/step - loss: 0.1575 - accuracy: 0.9526 - val_loss: 26.6664 - val_accuracy: 0.0743\n",
      "Epoch 54/128\n",
      "34/34 [==============================] - 12s 338ms/step - loss: 0.0706 - accuracy: 0.9800 - val_loss: 28.4552 - val_accuracy: 0.0967\n",
      "Epoch 55/128\n",
      "34/34 [==============================] - 12s 340ms/step - loss: 0.1181 - accuracy: 0.9688 - val_loss: 29.9907 - val_accuracy: 0.0855\n",
      "Epoch 56/128\n",
      "34/34 [==============================] - 11s 338ms/step - loss: 0.1165 - accuracy: 0.9693 - val_loss: 27.7623 - val_accuracy: 0.0892\n"
     ]
    },
    {
     "name": "stdout",
     "output_type": "stream",
     "text": [
      "Epoch 57/128\n",
      "34/34 [==============================] - 11s 335ms/step - loss: 0.0570 - accuracy: 0.9870 - val_loss: 32.8614 - val_accuracy: 0.0855\n",
      "Epoch 58/128\n",
      "34/34 [==============================] - 11s 337ms/step - loss: 0.0244 - accuracy: 0.9912 - val_loss: 33.2851 - val_accuracy: 0.0836\n",
      "Epoch 59/128\n",
      "34/34 [==============================] - 12s 340ms/step - loss: 0.0422 - accuracy: 0.9888 - val_loss: 31.9309 - val_accuracy: 0.0836\n",
      "Epoch 60/128\n",
      "34/34 [==============================] - 11s 337ms/step - loss: 0.0382 - accuracy: 0.9870 - val_loss: 30.8788 - val_accuracy: 0.0818\n",
      "Epoch 61/128\n",
      "34/34 [==============================] - 11s 336ms/step - loss: 0.0324 - accuracy: 0.9888 - val_loss: 30.3339 - val_accuracy: 0.0929\n",
      "Epoch 62/128\n",
      "34/34 [==============================] - 11s 336ms/step - loss: 0.0285 - accuracy: 0.9935 - val_loss: 36.6547 - val_accuracy: 0.0688\n",
      "Epoch 63/128\n",
      "34/34 [==============================] - 12s 338ms/step - loss: 0.0716 - accuracy: 0.9809 - val_loss: 34.2232 - val_accuracy: 0.0595\n",
      "Epoch 64/128\n",
      "34/34 [==============================] - 12s 339ms/step - loss: 0.0546 - accuracy: 0.9786 - val_loss: 30.4931 - val_accuracy: 0.0948\n",
      "Epoch 65/128\n",
      "34/34 [==============================] - 11s 334ms/step - loss: 0.0580 - accuracy: 0.9809 - val_loss: 32.8343 - val_accuracy: 0.0874\n",
      "Epoch 66/128\n",
      "34/34 [==============================] - 11s 336ms/step - loss: 0.0990 - accuracy: 0.9702 - val_loss: 28.4378 - val_accuracy: 0.0762\n",
      "Epoch 67/128\n",
      "34/34 [==============================] - 11s 336ms/step - loss: 0.1887 - accuracy: 0.9474 - val_loss: 26.9883 - val_accuracy: 0.0836\n",
      "Epoch 68/128\n",
      "34/34 [==============================] - 11s 338ms/step - loss: 0.1716 - accuracy: 0.9567 - val_loss: 32.5837 - val_accuracy: 0.0911\n",
      "Epoch 69/128\n",
      "34/34 [==============================] - 11s 335ms/step - loss: 0.1138 - accuracy: 0.9688 - val_loss: 27.9637 - val_accuracy: 0.0911\n",
      "Epoch 70/128\n",
      "34/34 [==============================] - 11s 335ms/step - loss: 0.0918 - accuracy: 0.9749 - val_loss: 31.9775 - val_accuracy: 0.0799\n",
      "Epoch 71/128\n",
      "34/34 [==============================] - 11s 336ms/step - loss: 0.0427 - accuracy: 0.9851 - val_loss: 32.2318 - val_accuracy: 0.0929\n",
      "Epoch 72/128\n",
      "34/34 [==============================] - 11s 337ms/step - loss: 0.0540 - accuracy: 0.9847 - val_loss: 36.5641 - val_accuracy: 0.0781\n",
      "Epoch 73/128\n",
      "34/34 [==============================] - 12s 340ms/step - loss: 0.0559 - accuracy: 0.9837 - val_loss: 32.1741 - val_accuracy: 0.0948\n",
      "Epoch 74/128\n",
      "34/34 [==============================] - 12s 339ms/step - loss: 0.0357 - accuracy: 0.9888 - val_loss: 31.3333 - val_accuracy: 0.0948\n",
      "Epoch 75/128\n",
      "34/34 [==============================] - 11s 338ms/step - loss: 0.0944 - accuracy: 0.9749 - val_loss: 30.8210 - val_accuracy: 0.0762\n",
      "Epoch 76/128\n",
      "34/34 [==============================] - 12s 341ms/step - loss: 0.0869 - accuracy: 0.9763 - val_loss: 33.7859 - val_accuracy: 0.0836\n",
      "Epoch 77/128\n",
      "34/34 [==============================] - 12s 340ms/step - loss: 0.1577 - accuracy: 0.9572 - val_loss: 28.9035 - val_accuracy: 0.0874\n",
      "Epoch 78/128\n",
      "34/34 [==============================] - 11s 337ms/step - loss: 0.1048 - accuracy: 0.9693 - val_loss: 26.9106 - val_accuracy: 0.0762\n",
      "Epoch 79/128\n",
      "34/34 [==============================] - 11s 337ms/step - loss: 0.0456 - accuracy: 0.9860 - val_loss: 33.8666 - val_accuracy: 0.0651\n",
      "Epoch 80/128\n",
      "34/34 [==============================] - 11s 337ms/step - loss: 0.0460 - accuracy: 0.9860 - val_loss: 34.5361 - val_accuracy: 0.0762\n",
      "Epoch 81/128\n",
      "34/34 [==============================] - 12s 343ms/step - loss: 0.0623 - accuracy: 0.9791 - val_loss: 28.9000 - val_accuracy: 0.0799\n",
      "Epoch 82/128\n",
      "34/34 [==============================] - 11s 338ms/step - loss: 0.0748 - accuracy: 0.9767 - val_loss: 31.7799 - val_accuracy: 0.0929\n",
      "Epoch 83/128\n",
      "34/34 [==============================] - 11s 337ms/step - loss: 0.0422 - accuracy: 0.9847 - val_loss: 36.8163 - val_accuracy: 0.0669\n",
      "Epoch 84/128\n",
      "34/34 [==============================] - 12s 342ms/step - loss: 0.0389 - accuracy: 0.9898 - val_loss: 36.4601 - val_accuracy: 0.0836\n",
      "Epoch 85/128\n",
      "34/34 [==============================] - 12s 340ms/step - loss: 0.0727 - accuracy: 0.9823 - val_loss: 35.6882 - val_accuracy: 0.0911\n",
      "Epoch 86/128\n",
      "34/34 [==============================] - 11s 337ms/step - loss: 0.0939 - accuracy: 0.9740 - val_loss: 29.5793 - val_accuracy: 0.1004\n",
      "Epoch 87/128\n",
      "34/34 [==============================] - 11s 337ms/step - loss: 0.0742 - accuracy: 0.9837 - val_loss: 28.9690 - val_accuracy: 0.0892\n",
      "Epoch 88/128\n",
      "34/34 [==============================] - 11s 334ms/step - loss: 0.0479 - accuracy: 0.9856 - val_loss: 29.5782 - val_accuracy: 0.0874\n",
      "Epoch 89/128\n",
      "34/34 [==============================] - 11s 337ms/step - loss: 0.0327 - accuracy: 0.9902 - val_loss: 31.7013 - val_accuracy: 0.0836\n",
      "Epoch 90/128\n",
      "34/34 [==============================] - 11s 336ms/step - loss: 0.0198 - accuracy: 0.9949 - val_loss: 30.2454 - val_accuracy: 0.0836\n",
      "Epoch 91/128\n",
      "34/34 [==============================] - 11s 335ms/step - loss: 0.0191 - accuracy: 0.9944 - val_loss: 30.2703 - val_accuracy: 0.0855\n",
      "Epoch 92/128\n",
      "34/34 [==============================] - 11s 338ms/step - loss: 0.0489 - accuracy: 0.9893 - val_loss: 28.6990 - val_accuracy: 0.0929\n",
      "Epoch 93/128\n",
      "34/34 [==============================] - 11s 336ms/step - loss: 0.0112 - accuracy: 0.9967 - val_loss: 31.1186 - val_accuracy: 0.0948\n",
      "Epoch 94/128\n",
      "34/34 [==============================] - 11s 338ms/step - loss: 0.0018 - accuracy: 0.9995 - val_loss: 32.4838 - val_accuracy: 0.0874\n",
      "Epoch 95/128\n",
      "34/34 [==============================] - 12s 339ms/step - loss: 1.8811e-04 - accuracy: 1.0000 - val_loss: 33.1380 - val_accuracy: 0.0911\n",
      "Epoch 96/128\n",
      "34/34 [==============================] - 12s 345ms/step - loss: 4.0237e-05 - accuracy: 1.0000 - val_loss: 33.5760 - val_accuracy: 0.0929\n",
      "Epoch 97/128\n",
      "34/34 [==============================] - 11s 335ms/step - loss: 2.7099e-05 - accuracy: 1.0000 - val_loss: 33.8818 - val_accuracy: 0.0929\n",
      "Epoch 98/128\n",
      "34/34 [==============================] - 12s 339ms/step - loss: 2.0730e-05 - accuracy: 1.0000 - val_loss: 34.0987 - val_accuracy: 0.0929\n",
      "Epoch 99/128\n",
      "34/34 [==============================] - 11s 338ms/step - loss: 1.6881e-05 - accuracy: 1.0000 - val_loss: 34.3262 - val_accuracy: 0.0929\n",
      "Epoch 100/128\n",
      "34/34 [==============================] - 12s 339ms/step - loss: 1.4101e-05 - accuracy: 1.0000 - val_loss: 34.5247 - val_accuracy: 0.0929\n",
      "Epoch 101/128\n",
      "34/34 [==============================] - 11s 338ms/step - loss: 1.0998e-05 - accuracy: 1.0000 - val_loss: 35.7792 - val_accuracy: 0.0892\n",
      "Epoch 102/128\n",
      "34/34 [==============================] - 11s 338ms/step - loss: 5.5605e-06 - accuracy: 1.0000 - val_loss: 40.8669 - val_accuracy: 0.0911\n",
      "Epoch 103/128\n",
      "34/34 [==============================] - 11s 336ms/step - loss: 1.3703e-06 - accuracy: 1.0000 - val_loss: 44.1573 - val_accuracy: 0.0911\n",
      "Epoch 104/128\n",
      "34/34 [==============================] - 11s 338ms/step - loss: 6.2487e-07 - accuracy: 1.0000 - val_loss: 47.8370 - val_accuracy: 0.0892\n",
      "Epoch 105/128\n",
      "34/34 [==============================] - 12s 340ms/step - loss: 3.5857e-07 - accuracy: 1.0000 - val_loss: 50.1310 - val_accuracy: 0.0892\n",
      "Epoch 106/128\n",
      "34/34 [==============================] - 12s 339ms/step - loss: 2.4285e-07 - accuracy: 1.0000 - val_loss: 52.2697 - val_accuracy: 0.0892\n",
      "Epoch 107/128\n",
      "34/34 [==============================] - 12s 344ms/step - loss: 1.8874e-07 - accuracy: 1.0000 - val_loss: 53.5791 - val_accuracy: 0.0892\n",
      "Epoch 108/128\n",
      "34/34 [==============================] - 12s 339ms/step - loss: 1.5309e-07 - accuracy: 1.0000 - val_loss: 54.7522 - val_accuracy: 0.0892\n",
      "Epoch 109/128\n",
      "34/34 [==============================] - 12s 339ms/step - loss: 1.2625e-07 - accuracy: 1.0000 - val_loss: 55.7818 - val_accuracy: 0.0892\n",
      "Epoch 110/128\n",
      "34/34 [==============================] - 12s 344ms/step - loss: 1.0684e-07 - accuracy: 1.0000 - val_loss: 56.7373 - val_accuracy: 0.0892\n",
      "Epoch 111/128\n",
      "34/34 [==============================] - 12s 344ms/step - loss: 9.2151e-08 - accuracy: 1.0000 - val_loss: 57.5777 - val_accuracy: 0.0911\n",
      "Epoch 112/128\n",
      "34/34 [==============================] - 11s 336ms/step - loss: 7.9454e-08 - accuracy: 1.0000 - val_loss: 58.2692 - val_accuracy: 0.0911\n",
      "Epoch 113/128\n",
      "34/34 [==============================] - 11s 337ms/step - loss: 7.0971e-08 - accuracy: 1.0000 - val_loss: 58.7514 - val_accuracy: 0.0911\n",
      "Epoch 114/128\n",
      "34/34 [==============================] - 11s 336ms/step - loss: 6.4539e-08 - accuracy: 1.0000 - val_loss: 59.3910 - val_accuracy: 0.0911\n",
      "Epoch 115/128\n",
      "34/34 [==============================] - 11s 336ms/step - loss: 5.8551e-08 - accuracy: 1.0000 - val_loss: 59.9563 - val_accuracy: 0.0911\n",
      "Epoch 116/128\n",
      "34/34 [==============================] - 11s 337ms/step - loss: 5.3783e-08 - accuracy: 1.0000 - val_loss: 60.5039 - val_accuracy: 0.0911\n",
      "Epoch 117/128\n",
      "34/34 [==============================] - 12s 340ms/step - loss: 4.9125e-08 - accuracy: 1.0000 - val_loss: 60.9994 - val_accuracy: 0.0911\n",
      "Epoch 118/128\n",
      "34/34 [==============================] - 12s 338ms/step - loss: 4.5299e-08 - accuracy: 1.0000 - val_loss: 61.4520 - val_accuracy: 0.0911\n",
      "Epoch 119/128\n",
      "34/34 [==============================] - 11s 338ms/step - loss: 4.2084e-08 - accuracy: 1.0000 - val_loss: 61.9287 - val_accuracy: 0.0911\n",
      "Epoch 120/128\n",
      "34/34 [==============================] - 12s 340ms/step - loss: 3.8757e-08 - accuracy: 1.0000 - val_loss: 62.3326 - val_accuracy: 0.0911\n",
      "Epoch 121/128\n",
      "34/34 [==============================] - 11s 338ms/step - loss: 3.6206e-08 - accuracy: 1.0000 - val_loss: 62.7596 - val_accuracy: 0.0911\n",
      "Epoch 122/128\n",
      "34/34 [==============================] - 12s 351ms/step - loss: 3.4210e-08 - accuracy: 1.0000 - val_loss: 63.1217 - val_accuracy: 0.0911\n",
      "Epoch 123/128\n",
      "34/34 [==============================] - 12s 355ms/step - loss: 3.1992e-08 - accuracy: 1.0000 - val_loss: 63.5196 - val_accuracy: 0.0911\n",
      "Epoch 124/128\n",
      "34/34 [==============================] - 12s 342ms/step - loss: 3.0274e-08 - accuracy: 1.0000 - val_loss: 63.8277 - val_accuracy: 0.0911\n",
      "Epoch 125/128\n",
      "34/34 [==============================] - 12s 341ms/step - loss: 2.9054e-08 - accuracy: 1.0000 - val_loss: 64.1803 - val_accuracy: 0.0911\n",
      "Epoch 126/128\n",
      "34/34 [==============================] - 12s 346ms/step - loss: 2.7335e-08 - accuracy: 1.0000 - val_loss: 64.4924 - val_accuracy: 0.0911\n",
      "Epoch 127/128\n",
      "34/34 [==============================] - 12s 339ms/step - loss: 2.5838e-08 - accuracy: 1.0000 - val_loss: 64.8128 - val_accuracy: 0.0911\n",
      "Epoch 128/128\n",
      "34/34 [==============================] - 12s 340ms/step - loss: 2.4674e-08 - accuracy: 1.0000 - val_loss: 65.0692 - val_accuracy: 0.0911\n"
     ]
    }
   ],
   "source": [
    "#%tensorflow_version 1.x\n",
    "from keras.utils import to_categorical\n",
    "from keras.models import Sequential, Model\n",
    "from keras.layers import Input, Conv2D, Activation, Flatten, Dense, MaxPooling2D, BatchNormalization, Dropout\n",
    "from keras.preprocessing.image import load_img\n",
    "from keras.preprocessing.image import img_to_array\n",
    "from keras.optimizers import Adam\n",
    "\n",
    "# https://towardsdatascience.com/convolutional-neural-networks-most-common-architectures-6a2b5d22479d VGG16 & VGG19\n",
    "model = Sequential()\n",
    "model.add(Conv2D(64, (3, 3), activation = 'relu', input_shape = (64, 64, 3)))\n",
    "model.add(MaxPooling2D(pool_size = (2, 2)))\n",
    "model.add(Conv2D(128, (3, 3), activation = 'relu'))\n",
    "model.add(MaxPooling2D(pool_size = (2, 2)))\n",
    "model.add(Conv2D(256, (3, 3), activation = 'relu'))\n",
    "model.add(MaxPooling2D(pool_size = (2, 2)))\n",
    "model.add(Conv2D(512, (3, 3), activation = 'relu'))\n",
    "model.add(MaxPooling2D(pool_size = (2, 2)))\n",
    "model.add(Flatten())\n",
    "model.add(Dense(4096, activation = 'relu'))\n",
    "model.add(Dense(4096, activation = 'relu'))\n",
    "model.add(Dense(12, activation = 'softmax'))\n",
    "\n",
    "model.compile(loss='categorical_crossentropy', \n",
    "              optimizer='adam',\n",
    "              metrics=['accuracy'])\n",
    "\n",
    "print('Train data shape: ', X_train.shape)\n",
    "print('Train labels shape: ', y_train.shape)\n",
    "\n",
    "y_train_one_hot = to_categorical(y_train)\n",
    "\n",
    "history = model.fit(X_train, y_train_one_hot, batch_size=64, epochs=128, validation_split=0.2)"
   ]
  },
  {
   "cell_type": "code",
   "execution_count": 17,
   "metadata": {
    "colab": {
     "base_uri": "https://localhost:8080/"
    },
    "id": "gZCD2tYVBGPh",
    "outputId": "51c5fd53-c546-4501-a546-4ade7f908f13"
   },
   "outputs": [
    {
     "name": "stdout",
     "output_type": "stream",
     "text": [
      "84/84 [==============================] - 2s 30ms/step - loss: 13.0235 - accuracy: 0.8181\n"
     ]
    },
    {
     "data": {
      "text/plain": [
       "[13.023515701293945, 0.8180803656578064]"
      ]
     },
     "execution_count": 17,
     "metadata": {},
     "output_type": "execute_result"
    }
   ],
   "source": [
    "# accuracy in train data\n",
    "model.evaluate(X_train, y_train_one_hot)"
   ]
  },
  {
   "cell_type": "code",
   "execution_count": 18,
   "metadata": {
    "colab": {
     "base_uri": "https://localhost:8080/"
    },
    "id": "nUuFHB27Q18J",
    "outputId": "14cfbba4-8aae-4378-a2f4-d095c2d7a106"
   },
   "outputs": [
    {
     "name": "stdout",
     "output_type": "stream",
     "text": [
      "57/57 [==============================] - 2s 29ms/step - loss: 22.4584 - accuracy: 0.5256\n"
     ]
    }
   ],
   "source": [
    "# accuracy in test data\n",
    "test_result = model.evaluate(X_test, y_test_one_hot)"
   ]
  },
  {
   "cell_type": "code",
   "execution_count": 19,
   "metadata": {
    "colab": {
     "base_uri": "https://localhost:8080/",
     "height": 421
    },
    "id": "-oyoEoZul9AS",
    "outputId": "65de3ca1-2335-4541-e0d8-b8baaa751465"
   },
   "outputs": [
    {
     "data": {
      "text/plain": [
       "Text(0.5, 1.0, 'Accuracy')"
      ]
     },
     "execution_count": 19,
     "metadata": {},
     "output_type": "execute_result"
    },
    {
     "data": {
      "image/png": "[encoded data removed]",
      "text/plain": [
       "<Figure size 1152x432 with 2 Axes>"
      ]
     },
     "metadata": {
      "needs_background": "light"
     },
     "output_type": "display_data"
    }
   ],
   "source": [
    "import matplotlib.pyplot as plt\n",
    "plt.figure(figsize=(16, 6))\n",
    "\n",
    "plt.subplot(1, 2, 1)\n",
    "plt.plot(history.history['loss'])\n",
    "plt.plot(history.history['val_loss'])\n",
    "plt.xlabel('Epoch')\n",
    "plt.ylabel('Loss')\n",
    "plt.legend(['Training', 'Validation'])\n",
    "plt.title('Loss')\n",
    "\n",
    "plt.subplot(1, 2, 2)\n",
    "plt.plot(history.history['accuracy'])\n",
    "plt.plot(history.history['val_loss'])\n",
    "plt.xlabel('Epoch')\n",
    "plt.ylabel('Accuracy')\n",
    "plt.legend(['Training', 'Validation'])\n",
    "plt.title('Accuracy')"
   ]
  }
 ],
 "metadata": {
  "colab": {
   "collapsed_sections": [],
   "include_colab_link": true,
   "name": "nomm_cnn.ipynb",
   "provenance": []
  },
  "kernelspec": {
   "display_name": "Python 3",
   "language": "python",
   "name": "python3"
  },
  "language_info": {
   "codemirror_mode": {
    "name": "ipython",
    "version": 3
   },
   "file_extension": ".py",
   "mimetype": "text/x-python",
   "name": "python",
   "nbconvert_exporter": "python",
   "pygments_lexer": "ipython3",
   "version": "3.7.9"
  }
 },
 "nbformat": 4,
 "nbformat_minor": 1
}
