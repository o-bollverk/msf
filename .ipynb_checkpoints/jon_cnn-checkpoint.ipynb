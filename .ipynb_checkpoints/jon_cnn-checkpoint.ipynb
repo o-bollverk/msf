{
 "cells": [
  {
   "cell_type": "markdown",
   "metadata": {
    "colab_type": "text",
    "id": "view-in-github"
   },
   "source": [
    "<a href=\"https://colab.research.google.com/github/o-bollverk/msf/blob/main/nomm_cnn.ipynb\" target=\"_parent\"><img src=\"https://colab.research.google.com/assets/colab-badge.svg\" alt=\"Open In Colab\"/></a>"
   ]
  },
  {
   "cell_type": "code",
   "execution_count": 5,
   "metadata": {
    "id": "kTOjf_-UUgYm"
   },
   "outputs": [],
   "source": [
    "from urllib.request import urlopen\n",
    "from fastai.vision import *\n",
    "from fastai.metrics import error_rate\n",
    "from PIL import Image\n",
    "#from google.colab import drive\n",
    "from os import listdir\n",
    "import numpy as np \n",
    "import cv2\n",
    "from matplotlib import image\n",
    "from matplotlib import pyplot\n",
    "import numpy as np\n",
    "import warnings\n",
    "import torch\n",
    "import pandas as pd\n",
    "from pathlib import Path\n",
    "import os\n",
    "# start: 10:34"
   ]
  },
  {
   "cell_type": "markdown",
   "metadata": {
    "id": "qNKvcJ4_Owfl"
   },
   "source": [
    "Klassid:\n",
    "\n",
    "Airbus A320neo\n",
    "\n",
    "Boeing 747-8 Intercontinental\n",
    "\n",
    "Aviat Pitts Special S2S\n",
    "\n",
    "Cub Crafter X Cub\n",
    "\n",
    "Daher TBM 930\n",
    "\n",
    "Diamond DA40NG\n",
    "\n",
    "Diamond DA62\n",
    "\n",
    "EXTRA 330LT\n",
    "\n"
   ]
  },
  {
   "cell_type": "markdown",
   "metadata": {
    "id": "WNf-snFoK_27"
   },
   "source": [
    "https://www.windowscentral.com/list-microsoft-flight-simulator-planes\n"
   ]
  },
  {
   "cell_type": "markdown",
   "metadata": {
    "id": "eDzGa8gzYcpu"
   },
   "source": [
    "Cloning the repository"
   ]
  },
  {
   "cell_type": "code",
   "execution_count": 2,
   "metadata": {
    "colab": {
     "base_uri": "https://localhost:8080/"
    },
    "id": "0tMQ3NHTYg7i",
    "outputId": "c0f6c609-72b6-4f41-da5e-bb3e9c491f4f"
   },
   "outputs": [
    {
     "name": "stdout",
     "output_type": "stream",
     "text": [
      "fatal: destination path 'cloned-repo' already exists and is not an empty directory.\n",
      "/content/cloned-repo\n",
      "all_data_bw\t\t\t       msf_data\n",
      "all_data_color\t\t\t       msf_project1.ipynb\n",
      "colab\t\t\t\t       msf_project1_mixed.ipynb\n",
      "convert_images.ipynb\t\t       random_selection_test\n",
      "convert_to_bw.ipynb\t\t       random_selection_train\n",
      "data_amounts\t\t\t       web_data_links\n",
      "ludvig_local_msf_project1_mixed.ipynb\n"
     ]
    }
   ],
   "source": [
    "# Clone the entire repo.\n",
    "!git clone -l -s git://github.com/o-bollverk/msf cloned-repo\n",
    "%cd cloned-repo\n",
    "!ls"
   ]
  },
  {
   "cell_type": "code",
   "execution_count": 3,
   "metadata": {
    "id": "c6hEjGIHYQYH"
   },
   "outputs": [],
   "source": [
    "#! git pull"
   ]
  },
  {
   "cell_type": "code",
   "execution_count": 2,
   "metadata": {
    "id": "eez_VOeq6qsx"
   },
   "outputs": [],
   "source": [
    "nimede_vastavus = pd.DataFrame({\"web_name\": np.sort(listdir(\"all_data_color/\")),\n",
    "                                \"game_name\": np.sort(np.unique([x.split(\"_clear\")[0] for x in listdir(\"msf_data/image_data_clear\")]))})"
   ]
  },
  {
   "cell_type": "code",
   "execution_count": 3,
   "metadata": {
    "colab": {
     "base_uri": "https://localhost:8080/"
    },
    "id": "JnfZU7kTDePx",
    "outputId": "bae96c7d-def1-422e-e0b1-c29f3e1b921c"
   },
   "outputs": [],
   "source": [
    "! mkdir random_selection_train\n",
    "! mkdir random_selection_test\n"
   ]
  },
  {
   "cell_type": "code",
   "execution_count": 6,
   "metadata": {
    "colab": {
     "base_uri": "https://localhost:8080/",
     "height": 235
    },
    "id": "n2kZ8DuP3Oya",
    "outputId": "b969679c-0ef2-4a0c-ae72-4e370406c3eb"
   },
   "outputs": [],
   "source": [
    "# creating temporary folder for selected files\n",
    "from shutil import copyfile\n",
    "import random\n",
    "import shutil\n",
    "\n",
    "selection_size_web = 250\n",
    "selection_size_web_test = int(0.2*selection_size_web)\n",
    "\n",
    "def abifun(x):\n",
    "    return x[:len(nimede_vastavus.game_name[i])] == nimede_vastavus.game_name[i]\n",
    " \n",
    "for i in range(nimede_vastavus.shape[0]):\n",
    "  web_files = listdir(\"all_data_color/\" + nimede_vastavus.web_name[i])\n",
    "  game_files_clear = listdir(\"msf_data/image_data_clear/\")    \n",
    "  game_files_clear_selected = np.array(game_files_clear)[[abifun(x) for x in game_files_clear]]\n",
    "  game_files_rainy = listdir(\"msf_data/image_data_rainy/\")\n",
    "  game_files_rainy_selected = np.array(game_files_rainy)[[abifun(x) for x in game_files_rainy]]\n",
    "  \n",
    "  # making a random selection\n",
    "\n",
    "  selected_web = random.sample(web_files, selection_size_web)\n",
    "  selected_web2 = [\"all_data_color/\" + nimede_vastavus.web_name[i] + \"/\" + x for x in selected_web]\n",
    "  selected_web2_test = selected_web2[0:selection_size_web_test]\n",
    "  selected_web2_train = selected_web2[selection_size_web_test:]\n",
    "\n",
    "  selected_clear = random.sample(set(game_files_clear_selected), int(selection_size_web/4))\n",
    "  selected_clear2 = [\"msf_data/image_data_clear/\" + x for x in selected_clear]\n",
    "  selected_clear2_test = selected_clear2[0:selection_size_web_test]\n",
    "  selected_clear2_train = selected_clear2[selection_size_web_test:]\n",
    "\n",
    "  selected_rainy = random.sample(set(game_files_rainy_selected), int(selection_size_web/4))\n",
    "  selected_rainy2 = [\"msf_data/image_data_rainy/\" + x for x in selected_rainy]\n",
    "  selected_rainy2_test = selected_rainy2[0:selection_size_web_test]\n",
    "  selected_rainy2_train = selected_rainy2[selection_size_web_test:]\n",
    "  \n",
    "  complete_selection_train = np.concatenate([selected_web2, selected_clear2, selected_rainy2])\n",
    "  complete_selection_test = np.concatenate([selected_web2_test, selected_clear2_test, selected_rainy2_test])\n",
    "\n",
    "  os.mkdir(\"random_selection_train/\" +  nimede_vastavus.game_name[i])\n",
    "  for filename in complete_selection_train:\n",
    "    shutil.copy(filename, \"random_selection_train/\" +  nimede_vastavus.game_name[i])\n",
    "\n",
    "  os.mkdir(\"random_selection_test/\" +  nimede_vastavus.game_name[i])\n",
    "  for filename in complete_selection_test:\n",
    "    shutil.copy(filename, \"random_selection_test/\" +  nimede_vastavus.game_name[i])\n",
    "\n"
   ]
  },
  {
   "cell_type": "code",
   "execution_count": 7,
   "metadata": {
    "id": "5Dr_KTQIkfet"
   },
   "outputs": [],
   "source": [
    "path = Path(\"random_selection_train\")"
   ]
  },
  {
   "cell_type": "code",
   "execution_count": null,
   "metadata": {
    "colab": {
     "base_uri": "https://localhost:8080/"
    },
    "id": "iumNV9Vb3qfa",
    "outputId": "38f94e09-3d6c-4125-d0ab-b04a04ff3dc0"
   },
   "outputs": [],
   "source": [
    "# loading train data\n",
    "import cv2\n",
    "from matplotlib import pyplot as plt\n",
    "from keras.preprocessing.image import load_img\n",
    "from keras.preprocessing.image import img_to_array\n",
    "import os, sys\n",
    "\n",
    "d = {}\n",
    "x=['aviat', 'diamond40ng', 'cessna_172', 'cessna_cj', 'boeing', 'diamondda62', 'airbus', 'cessna_208', 'extra', 'daher', 'cubcraft', 'cessna_152']\n",
    "count = 0\n",
    "for i in x:\n",
    "  if i not in d:\n",
    "     d[i] = count\n",
    "     count += 1\n",
    "actual = []\n",
    "X_train = []\n",
    "y_train = []\n",
    "IMG_SIZE = (64, 64)\n",
    "for i in listdir(\"random_selection_train\"):\n",
    "  for j in listdir(\"random_selection_train\" + \"/\" + i):\n",
    "    actual.append(i)\n",
    "    a = cv2.imread(\"random_selection_train/\" + i +\"/\" + j)\n",
    "    y_train.append(d[i])\n",
    "    resized = cv2.resize(a, IMG_SIZE)\n",
    "    X_train.append(resized)\n",
    "    #plt.imshow(a)\n",
    "    #plt.show()\n",
    "    #print(a.shape)\n",
    "\n",
    "X_train = np.array(X_train)\n",
    "y_train = np.array(y_train)\n",
    "print('Train data shape: ', X_train.shape)\n",
    "print('Train labels shape: ', y_train.shape)"
   ]
  },
  {
   "cell_type": "code",
   "execution_count": null,
   "metadata": {
    "colab": {
     "base_uri": "https://localhost:8080/"
    },
    "id": "e9oLEpGKg_7U",
    "outputId": "8a50325e-ca71-43b7-e62c-01bedeedecec"
   },
   "outputs": [],
   "source": [
    "# loading test data\n",
    "from keras.utils import to_categorical\n",
    "\n",
    "actual = []\n",
    "X_test = []\n",
    "y_test = []\n",
    "IMG_SIZE = (64, 64)\n",
    "for i in listdir(\"random_selection_test\"):\n",
    "  for j in listdir(\"random_selection_test\" + \"/\" + i):\n",
    "    actual.append(i)\n",
    "    a = cv2.imread(\"random_selection_test/\" + i +\"/\" + j)\n",
    "    y_test.append(d[i])\n",
    "    resized = cv2.resize(a, IMG_SIZE)\n",
    "    X_test.append(resized)\n",
    "    #plt.imshow(a)\n",
    "    #plt.show()\n",
    "    #print(a.shape)\n",
    "\n",
    "X_test = np.array(X_test)\n",
    "y_test = np.array(y_test)\n",
    "print('Train data shape: ', X_test.shape)\n",
    "print('Train labels shape: ', y_test.shape)\n",
    "y_test_one_hot = to_categorical(y_test)"
   ]
  },
  {
   "cell_type": "markdown",
   "metadata": {
    "id": "-t24_0nWAk0g"
   },
   "source": [
    "## Train model"
   ]
  },
  {
   "cell_type": "code",
   "execution_count": 10,
   "metadata": {
    "colab": {
     "base_uri": "https://localhost:8080/"
    },
    "id": "LQjx5qE1heSx",
    "outputId": "fa63e681-ed63-49db-d780-8429d931cc23"
   },
   "outputs": [
    {
     "name": "stdout",
     "output_type": "stream",
     "text": [
      "TensorFlow is already loaded. Please restart the runtime to change versions.\n",
      "Train data shape:  (4488, 32, 32, 3)\n",
      "Train labels shape:  (4488,)\n",
      "Epoch 1/128\n",
      "64/64 [==============================] - 6s 99ms/step - loss: 17.5404 - accuracy: 0.0988 - val_loss: 3.0764 - val_accuracy: 0.0111\n",
      "Epoch 2/128\n",
      "64/64 [==============================] - 6s 93ms/step - loss: 2.4530 - accuracy: 0.1067 - val_loss: 3.0949 - val_accuracy: 0.0022\n",
      "Epoch 3/128\n",
      "64/64 [==============================] - 6s 93ms/step - loss: 2.4172 - accuracy: 0.1112 - val_loss: 3.6086 - val_accuracy: 0.0000e+00\n",
      "Epoch 4/128\n",
      "64/64 [==============================] - 6s 94ms/step - loss: 2.3781 - accuracy: 0.1287 - val_loss: 4.0791 - val_accuracy: 0.0000e+00\n",
      "Epoch 5/128\n",
      "64/64 [==============================] - 6s 93ms/step - loss: 2.3408 - accuracy: 0.1434 - val_loss: 4.5034 - val_accuracy: 0.0000e+00\n",
      "Epoch 6/128\n",
      "64/64 [==============================] - 6s 96ms/step - loss: 2.3407 - accuracy: 0.1359 - val_loss: 4.4436 - val_accuracy: 0.0000e+00\n",
      "Epoch 7/128\n",
      "64/64 [==============================] - 6s 93ms/step - loss: 2.3144 - accuracy: 0.1334 - val_loss: 4.8179 - val_accuracy: 0.0000e+00\n",
      "Epoch 8/128\n",
      "64/64 [==============================] - 6s 93ms/step - loss: 2.3654 - accuracy: 0.1208 - val_loss: 5.2090 - val_accuracy: 0.0000e+00\n",
      "Epoch 9/128\n",
      "64/64 [==============================] - 6s 93ms/step - loss: 2.3153 - accuracy: 0.1270 - val_loss: 5.2527 - val_accuracy: 0.0022\n",
      "Epoch 10/128\n",
      "64/64 [==============================] - 6s 93ms/step - loss: 2.3069 - accuracy: 0.1280 - val_loss: 5.5313 - val_accuracy: 0.0000e+00\n",
      "Epoch 11/128\n",
      "64/64 [==============================] - 6s 93ms/step - loss: 2.2938 - accuracy: 0.1287 - val_loss: 5.7982 - val_accuracy: 0.0000e+00\n",
      "Epoch 12/128\n",
      "64/64 [==============================] - 6s 93ms/step - loss: 2.2744 - accuracy: 0.1461 - val_loss: 5.3416 - val_accuracy: 0.0000e+00\n",
      "Epoch 13/128\n",
      "64/64 [==============================] - 6s 93ms/step - loss: 2.2618 - accuracy: 0.1515 - val_loss: 5.7032 - val_accuracy: 0.0000e+00\n",
      "Epoch 14/128\n",
      "64/64 [==============================] - 6s 96ms/step - loss: 2.2607 - accuracy: 0.1391 - val_loss: 6.0962 - val_accuracy: 0.0000e+00\n",
      "Epoch 15/128\n",
      "64/64 [==============================] - 6s 93ms/step - loss: 2.2474 - accuracy: 0.1597 - val_loss: 5.6257 - val_accuracy: 0.0000e+00\n",
      "Epoch 16/128\n",
      "64/64 [==============================] - 6s 93ms/step - loss: 2.2030 - accuracy: 0.1716 - val_loss: 5.9204 - val_accuracy: 0.0000e+00\n",
      "Epoch 17/128\n",
      "64/64 [==============================] - 6s 93ms/step - loss: 2.1776 - accuracy: 0.1780 - val_loss: 6.1713 - val_accuracy: 0.0178\n",
      "Epoch 18/128\n",
      "64/64 [==============================] - 6s 93ms/step - loss: 2.1370 - accuracy: 0.1986 - val_loss: 5.7863 - val_accuracy: 0.0601\n",
      "Epoch 19/128\n",
      "64/64 [==============================] - 6s 93ms/step - loss: 2.0714 - accuracy: 0.2181 - val_loss: 6.7369 - val_accuracy: 0.0334\n",
      "Epoch 20/128\n",
      "64/64 [==============================] - 6s 94ms/step - loss: 2.0201 - accuracy: 0.2421 - val_loss: 6.5429 - val_accuracy: 0.0445\n",
      "Epoch 21/128\n",
      "64/64 [==============================] - 6s 99ms/step - loss: 1.9811 - accuracy: 0.2615 - val_loss: 7.2238 - val_accuracy: 0.0579\n",
      "Epoch 22/128\n",
      "64/64 [==============================] - 7s 113ms/step - loss: 1.9437 - accuracy: 0.2790 - val_loss: 7.4451 - val_accuracy: 0.0802\n",
      "Epoch 23/128\n",
      "64/64 [==============================] - 7s 114ms/step - loss: 1.8947 - accuracy: 0.2926 - val_loss: 8.4753 - val_accuracy: 0.0646\n",
      "Epoch 24/128\n",
      "64/64 [==============================] - 7s 114ms/step - loss: 1.8283 - accuracy: 0.3142 - val_loss: 9.6610 - val_accuracy: 0.0668\n",
      "Epoch 25/128\n",
      "64/64 [==============================] - 7s 113ms/step - loss: 1.7881 - accuracy: 0.3365 - val_loss: 11.6933 - val_accuracy: 0.0668\n",
      "Epoch 26/128\n",
      "64/64 [==============================] - 7s 114ms/step - loss: 1.7298 - accuracy: 0.3664 - val_loss: 10.0282 - val_accuracy: 0.0668\n",
      "Epoch 27/128\n",
      "64/64 [==============================] - 7s 114ms/step - loss: 1.7128 - accuracy: 0.3627 - val_loss: 11.2013 - val_accuracy: 0.0913\n",
      "Epoch 28/128\n",
      "64/64 [==============================] - 7s 115ms/step - loss: 1.6473 - accuracy: 0.3872 - val_loss: 11.4273 - val_accuracy: 0.0713\n",
      "Epoch 29/128\n",
      "64/64 [==============================] - 7s 113ms/step - loss: 1.6189 - accuracy: 0.3964 - val_loss: 12.3163 - val_accuracy: 0.0624\n",
      "Epoch 30/128\n",
      "64/64 [==============================] - 7s 117ms/step - loss: 1.6170 - accuracy: 0.4001 - val_loss: 11.7673 - val_accuracy: 0.0735\n",
      "Epoch 31/128\n",
      "64/64 [==============================] - 7s 106ms/step - loss: 1.5796 - accuracy: 0.4112 - val_loss: 12.4252 - val_accuracy: 0.0690\n",
      "Epoch 32/128\n",
      "64/64 [==============================] - 7s 117ms/step - loss: 1.5564 - accuracy: 0.4268 - val_loss: 12.6374 - val_accuracy: 0.0780\n",
      "Epoch 33/128\n",
      "64/64 [==============================] - 8s 118ms/step - loss: 1.5094 - accuracy: 0.4370 - val_loss: 12.9471 - val_accuracy: 0.0869\n",
      "Epoch 34/128\n",
      "64/64 [==============================] - 8s 119ms/step - loss: 1.4889 - accuracy: 0.4489 - val_loss: 13.4333 - val_accuracy: 0.1047\n",
      "Epoch 35/128\n",
      "64/64 [==============================] - 7s 111ms/step - loss: 1.4587 - accuracy: 0.4660 - val_loss: 14.0809 - val_accuracy: 0.0757\n",
      "Epoch 36/128\n",
      "64/64 [==============================] - 7s 111ms/step - loss: 1.4646 - accuracy: 0.4617 - val_loss: 13.6425 - val_accuracy: 0.0824\n",
      "Epoch 37/128\n",
      "64/64 [==============================] - 8s 121ms/step - loss: 1.4075 - accuracy: 0.4872 - val_loss: 15.3784 - val_accuracy: 0.0824\n",
      "Epoch 38/128\n",
      "64/64 [==============================] - 7s 115ms/step - loss: 1.3607 - accuracy: 0.5118 - val_loss: 14.8753 - val_accuracy: 0.0913\n",
      "Epoch 39/128\n",
      "64/64 [==============================] - 7s 112ms/step - loss: 1.3554 - accuracy: 0.5103 - val_loss: 15.8548 - val_accuracy: 0.0757\n",
      "Epoch 40/128\n",
      "64/64 [==============================] - 8s 118ms/step - loss: 1.3372 - accuracy: 0.5167 - val_loss: 15.8402 - val_accuracy: 0.0802\n",
      "Epoch 41/128\n",
      "64/64 [==============================] - 7s 114ms/step - loss: 1.3282 - accuracy: 0.5147 - val_loss: 14.7166 - val_accuracy: 0.0713\n",
      "Epoch 42/128\n",
      "64/64 [==============================] - 8s 121ms/step - loss: 1.2707 - accuracy: 0.5328 - val_loss: 14.9914 - val_accuracy: 0.0646\n",
      "Epoch 43/128\n",
      "64/64 [==============================] - 7s 104ms/step - loss: 1.2118 - accuracy: 0.5610 - val_loss: 17.6922 - val_accuracy: 0.1002\n",
      "Epoch 44/128\n",
      "64/64 [==============================] - 8s 121ms/step - loss: 1.2132 - accuracy: 0.5675 - val_loss: 17.0294 - val_accuracy: 0.0869\n",
      "Epoch 45/128\n",
      "64/64 [==============================] - 7s 112ms/step - loss: 1.1512 - accuracy: 0.5846 - val_loss: 17.3825 - val_accuracy: 0.1069\n",
      "Epoch 46/128\n",
      "64/64 [==============================] - 7s 117ms/step - loss: 1.1123 - accuracy: 0.6034 - val_loss: 18.1576 - val_accuracy: 0.0824\n",
      "Epoch 47/128\n",
      "64/64 [==============================] - 8s 123ms/step - loss: 1.1513 - accuracy: 0.5828 - val_loss: 17.9262 - val_accuracy: 0.0780\n",
      "Epoch 48/128\n",
      "64/64 [==============================] - 7s 107ms/step - loss: 1.1150 - accuracy: 0.6011 - val_loss: 17.2242 - val_accuracy: 0.0824\n",
      "Epoch 49/128\n",
      "64/64 [==============================] - 7s 107ms/step - loss: 1.0762 - accuracy: 0.6135 - val_loss: 18.1934 - val_accuracy: 0.0780\n",
      "Epoch 50/128\n",
      "64/64 [==============================] - 7s 113ms/step - loss: 1.0908 - accuracy: 0.6155 - val_loss: 18.0090 - val_accuracy: 0.0846\n",
      "Epoch 51/128\n",
      "64/64 [==============================] - 7s 105ms/step - loss: 1.0419 - accuracy: 0.6343 - val_loss: 18.0022 - val_accuracy: 0.0846\n",
      "Epoch 52/128\n",
      "64/64 [==============================] - 7s 111ms/step - loss: 1.0271 - accuracy: 0.6254 - val_loss: 19.3943 - val_accuracy: 0.0958\n",
      "Epoch 53/128\n",
      "64/64 [==============================] - 7s 104ms/step - loss: 0.9297 - accuracy: 0.6732 - val_loss: 21.2170 - val_accuracy: 0.0913\n",
      "Epoch 54/128\n",
      "64/64 [==============================] - 7s 106ms/step - loss: 0.9563 - accuracy: 0.6583 - val_loss: 20.9771 - val_accuracy: 0.0891\n",
      "Epoch 55/128\n",
      "64/64 [==============================] - 7s 115ms/step - loss: 0.9329 - accuracy: 0.6759 - val_loss: 19.6242 - val_accuracy: 0.0980\n",
      "Epoch 56/128\n",
      "64/64 [==============================] - 7s 108ms/step - loss: 0.9289 - accuracy: 0.6705 - val_loss: 19.1220 - val_accuracy: 0.0846\n",
      "Epoch 57/128\n",
      "64/64 [==============================] - 7s 103ms/step - loss: 0.8616 - accuracy: 0.6957 - val_loss: 20.0133 - val_accuracy: 0.0980\n",
      "Epoch 58/128\n",
      "64/64 [==============================] - 7s 112ms/step - loss: 0.8276 - accuracy: 0.7044 - val_loss: 19.8088 - val_accuracy: 0.0780\n",
      "Epoch 59/128\n",
      "64/64 [==============================] - 8s 127ms/step - loss: 0.8336 - accuracy: 0.7083 - val_loss: 20.9557 - val_accuracy: 0.1002\n",
      "Epoch 60/128\n",
      "64/64 [==============================] - 7s 114ms/step - loss: 0.7874 - accuracy: 0.7205 - val_loss: 20.0551 - val_accuracy: 0.0935\n",
      "Epoch 61/128\n",
      "64/64 [==============================] - 7s 116ms/step - loss: 0.7754 - accuracy: 0.7210 - val_loss: 21.4645 - val_accuracy: 0.0935\n",
      "Epoch 62/128\n",
      "64/64 [==============================] - 8s 128ms/step - loss: 0.7460 - accuracy: 0.7358 - val_loss: 22.1223 - val_accuracy: 0.0891\n",
      "Epoch 63/128\n",
      "64/64 [==============================] - 7s 115ms/step - loss: 0.7283 - accuracy: 0.7400 - val_loss: 20.9069 - val_accuracy: 0.0869\n",
      "Epoch 64/128\n",
      "64/64 [==============================] - 8s 118ms/step - loss: 0.7344 - accuracy: 0.7418 - val_loss: 21.1945 - val_accuracy: 0.0958\n",
      "Epoch 65/128\n",
      "64/64 [==============================] - 8s 122ms/step - loss: 0.7332 - accuracy: 0.7472 - val_loss: 21.9271 - val_accuracy: 0.0980\n",
      "Epoch 66/128\n",
      "64/64 [==============================] - 6s 101ms/step - loss: 0.6568 - accuracy: 0.7673 - val_loss: 21.6441 - val_accuracy: 0.1024\n",
      "Epoch 67/128\n",
      "64/64 [==============================] - 7s 102ms/step - loss: 0.6680 - accuracy: 0.7692 - val_loss: 22.6536 - val_accuracy: 0.1069\n",
      "Epoch 68/128\n",
      "64/64 [==============================] - 7s 113ms/step - loss: 0.6385 - accuracy: 0.7779 - val_loss: 20.5184 - val_accuracy: 0.1047\n",
      "Epoch 69/128\n",
      "64/64 [==============================] - 8s 119ms/step - loss: 0.6391 - accuracy: 0.7792 - val_loss: 22.3840 - val_accuracy: 0.1024\n",
      "Epoch 70/128\n",
      "64/64 [==============================] - 7s 104ms/step - loss: 0.6139 - accuracy: 0.7868 - val_loss: 24.1944 - val_accuracy: 0.1114\n",
      "Epoch 71/128\n",
      "64/64 [==============================] - 6s 96ms/step - loss: 0.5757 - accuracy: 0.7957 - val_loss: 22.3900 - val_accuracy: 0.0935\n",
      "Epoch 72/128\n",
      "64/64 [==============================] - 7s 111ms/step - loss: 0.5744 - accuracy: 0.8017 - val_loss: 22.5602 - val_accuracy: 0.0869\n",
      "Epoch 73/128\n",
      "64/64 [==============================] - 7s 116ms/step - loss: 0.5570 - accuracy: 0.8066 - val_loss: 22.5325 - val_accuracy: 0.0891\n",
      "Epoch 74/128\n",
      "64/64 [==============================] - 7s 115ms/step - loss: 0.5359 - accuracy: 0.8096 - val_loss: 23.2050 - val_accuracy: 0.1091\n",
      "Epoch 75/128\n",
      "64/64 [==============================] - 7s 111ms/step - loss: 0.5195 - accuracy: 0.8220 - val_loss: 22.8471 - val_accuracy: 0.0980\n",
      "Epoch 76/128\n",
      "64/64 [==============================] - 7s 103ms/step - loss: 0.5813 - accuracy: 0.7962 - val_loss: 22.1702 - val_accuracy: 0.1024\n",
      "Epoch 77/128\n",
      "64/64 [==============================] - 6s 100ms/step - loss: 0.5016 - accuracy: 0.8284 - val_loss: 23.7785 - val_accuracy: 0.0913\n",
      "Epoch 78/128\n",
      "64/64 [==============================] - 6s 99ms/step - loss: 0.5147 - accuracy: 0.8212 - val_loss: 21.3094 - val_accuracy: 0.1136\n",
      "Epoch 79/128\n",
      "64/64 [==============================] - 6s 96ms/step - loss: 0.5070 - accuracy: 0.8304 - val_loss: 23.0878 - val_accuracy: 0.1002\n",
      "Epoch 80/128\n",
      "64/64 [==============================] - 6s 98ms/step - loss: 0.4922 - accuracy: 0.8376 - val_loss: 22.2275 - val_accuracy: 0.0980\n",
      "Epoch 81/128\n",
      "64/64 [==============================] - 6s 94ms/step - loss: 0.4895 - accuracy: 0.8383 - val_loss: 25.5726 - val_accuracy: 0.0891\n",
      "Epoch 82/128\n",
      "64/64 [==============================] - 7s 102ms/step - loss: 0.4570 - accuracy: 0.8460 - val_loss: 22.9341 - val_accuracy: 0.1002\n",
      "Epoch 83/128\n",
      "64/64 [==============================] - 7s 116ms/step - loss: 0.4647 - accuracy: 0.8410 - val_loss: 23.9306 - val_accuracy: 0.0913\n",
      "Epoch 84/128\n",
      "64/64 [==============================] - 6s 97ms/step - loss: 0.4052 - accuracy: 0.8666 - val_loss: 24.1364 - val_accuracy: 0.1091\n",
      "Epoch 85/128\n",
      "64/64 [==============================] - 7s 117ms/step - loss: 0.4307 - accuracy: 0.8542 - val_loss: 24.6335 - val_accuracy: 0.1024\n",
      "Epoch 86/128\n",
      "64/64 [==============================] - 7s 112ms/step - loss: 0.4276 - accuracy: 0.8562 - val_loss: 24.9535 - val_accuracy: 0.0913\n",
      "Epoch 87/128\n",
      "64/64 [==============================] - 6s 97ms/step - loss: 0.3956 - accuracy: 0.8623 - val_loss: 24.7089 - val_accuracy: 0.0958\n",
      "Epoch 88/128\n",
      "64/64 [==============================] - 7s 102ms/step - loss: 0.4507 - accuracy: 0.8524 - val_loss: 22.6781 - val_accuracy: 0.0824\n",
      "Epoch 89/128\n",
      "64/64 [==============================] - 8s 117ms/step - loss: 0.4370 - accuracy: 0.8611 - val_loss: 24.2171 - val_accuracy: 0.0980\n",
      "Epoch 90/128\n",
      "64/64 [==============================] - 7s 111ms/step - loss: 0.3781 - accuracy: 0.8732 - val_loss: 25.8747 - val_accuracy: 0.0980\n",
      "Epoch 91/128\n",
      "64/64 [==============================] - 7s 106ms/step - loss: 0.3681 - accuracy: 0.8787 - val_loss: 23.2454 - val_accuracy: 0.1024\n",
      "Epoch 92/128\n",
      "64/64 [==============================] - 7s 112ms/step - loss: 0.3715 - accuracy: 0.8750 - val_loss: 24.8193 - val_accuracy: 0.0869\n",
      "Epoch 93/128\n",
      "64/64 [==============================] - 7s 106ms/step - loss: 0.3553 - accuracy: 0.8784 - val_loss: 24.2156 - val_accuracy: 0.0935\n",
      "Epoch 94/128\n",
      "64/64 [==============================] - 7s 105ms/step - loss: 0.3497 - accuracy: 0.8839 - val_loss: 25.6777 - val_accuracy: 0.0958\n",
      "Epoch 95/128\n",
      "64/64 [==============================] - 7s 104ms/step - loss: 0.3502 - accuracy: 0.8799 - val_loss: 27.0759 - val_accuracy: 0.1091\n",
      "Epoch 96/128\n",
      "64/64 [==============================] - 7s 108ms/step - loss: 0.3139 - accuracy: 0.8955 - val_loss: 26.2264 - val_accuracy: 0.1047\n",
      "Epoch 97/128\n",
      "64/64 [==============================] - 7s 112ms/step - loss: 0.3454 - accuracy: 0.8921 - val_loss: 25.6933 - val_accuracy: 0.1069\n",
      "Epoch 98/128\n",
      "64/64 [==============================] - 7s 109ms/step - loss: 0.3210 - accuracy: 0.8916 - val_loss: 27.0826 - val_accuracy: 0.1069\n",
      "Epoch 99/128\n",
      "64/64 [==============================] - 7s 103ms/step - loss: 0.3488 - accuracy: 0.8898 - val_loss: 26.4160 - val_accuracy: 0.1091\n",
      "Epoch 100/128\n",
      "64/64 [==============================] - 7s 113ms/step - loss: 0.3461 - accuracy: 0.8888 - val_loss: 25.3555 - val_accuracy: 0.1002\n",
      "Epoch 101/128\n",
      "64/64 [==============================] - 7s 115ms/step - loss: 0.3509 - accuracy: 0.8864 - val_loss: 24.0917 - val_accuracy: 0.0958\n",
      "Epoch 102/128\n",
      "64/64 [==============================] - 6s 96ms/step - loss: 0.3785 - accuracy: 0.8782 - val_loss: 26.5827 - val_accuracy: 0.0958\n",
      "Epoch 103/128\n",
      "64/64 [==============================] - 7s 115ms/step - loss: 0.2945 - accuracy: 0.9094 - val_loss: 27.1182 - val_accuracy: 0.0980\n",
      "Epoch 104/128\n",
      "64/64 [==============================] - 7s 111ms/step - loss: 0.3238 - accuracy: 0.8953 - val_loss: 28.0043 - val_accuracy: 0.1047\n",
      "Epoch 105/128\n",
      "64/64 [==============================] - 7s 108ms/step - loss: 0.3353 - accuracy: 0.8970 - val_loss: 27.1143 - val_accuracy: 0.0980\n",
      "Epoch 106/128\n",
      "64/64 [==============================] - 8s 118ms/step - loss: 0.2915 - accuracy: 0.9042 - val_loss: 26.1896 - val_accuracy: 0.1024\n",
      "Epoch 107/128\n",
      "64/64 [==============================] - 7s 106ms/step - loss: 0.3207 - accuracy: 0.9032 - val_loss: 25.4114 - val_accuracy: 0.0958\n",
      "Epoch 108/128\n",
      "64/64 [==============================] - 7s 109ms/step - loss: 0.2900 - accuracy: 0.9025 - val_loss: 28.2318 - val_accuracy: 0.0980\n",
      "Epoch 109/128\n",
      "64/64 [==============================] - 7s 113ms/step - loss: 0.2773 - accuracy: 0.9091 - val_loss: 30.1618 - val_accuracy: 0.1069\n",
      "Epoch 110/128\n",
      "64/64 [==============================] - 7s 112ms/step - loss: 0.2983 - accuracy: 0.9077 - val_loss: 29.3977 - val_accuracy: 0.1002\n",
      "Epoch 111/128\n",
      "64/64 [==============================] - 7s 105ms/step - loss: 0.2918 - accuracy: 0.9161 - val_loss: 26.6781 - val_accuracy: 0.0935\n",
      "Epoch 112/128\n",
      "64/64 [==============================] - 7s 114ms/step - loss: 0.2808 - accuracy: 0.9128 - val_loss: 28.0016 - val_accuracy: 0.0935\n",
      "Epoch 113/128\n",
      "64/64 [==============================] - 7s 107ms/step - loss: 0.2491 - accuracy: 0.9213 - val_loss: 28.0779 - val_accuracy: 0.1047\n",
      "Epoch 114/128\n",
      "64/64 [==============================] - 7s 114ms/step - loss: 0.2684 - accuracy: 0.9136 - val_loss: 28.7381 - val_accuracy: 0.0958\n",
      "Epoch 115/128\n",
      "64/64 [==============================] - 7s 116ms/step - loss: 0.2666 - accuracy: 0.9148 - val_loss: 28.1437 - val_accuracy: 0.0980\n",
      "Epoch 116/128\n",
      "64/64 [==============================] - 7s 111ms/step - loss: 0.2870 - accuracy: 0.9062 - val_loss: 29.2849 - val_accuracy: 0.1091\n",
      "Epoch 117/128\n",
      "64/64 [==============================] - 7s 105ms/step - loss: 0.2779 - accuracy: 0.9153 - val_loss: 29.3708 - val_accuracy: 0.1024\n",
      "Epoch 118/128\n",
      "64/64 [==============================] - 7s 112ms/step - loss: 0.2255 - accuracy: 0.9280 - val_loss: 31.0998 - val_accuracy: 0.1024\n",
      "Epoch 119/128\n",
      "64/64 [==============================] - 7s 113ms/step - loss: 0.2548 - accuracy: 0.9203 - val_loss: 29.1014 - val_accuracy: 0.0980\n",
      "Epoch 120/128\n",
      "64/64 [==============================] - 8s 120ms/step - loss: 0.2584 - accuracy: 0.9173 - val_loss: 29.0220 - val_accuracy: 0.1069\n",
      "Epoch 121/128\n",
      "64/64 [==============================] - 7s 117ms/step - loss: 0.2700 - accuracy: 0.9143 - val_loss: 28.0867 - val_accuracy: 0.1024\n",
      "Epoch 122/128\n",
      "64/64 [==============================] - 7s 116ms/step - loss: 0.2052 - accuracy: 0.9379 - val_loss: 29.5477 - val_accuracy: 0.1047\n",
      "Epoch 123/128\n",
      "64/64 [==============================] - 7s 111ms/step - loss: 0.2567 - accuracy: 0.9180 - val_loss: 28.1382 - val_accuracy: 0.1024\n",
      "Epoch 124/128\n",
      "64/64 [==============================] - 8s 120ms/step - loss: 0.2283 - accuracy: 0.9312 - val_loss: 27.7861 - val_accuracy: 0.1024\n",
      "Epoch 125/128\n",
      "64/64 [==============================] - 7s 117ms/step - loss: 0.2074 - accuracy: 0.9364 - val_loss: 27.1783 - val_accuracy: 0.0935\n",
      "Epoch 126/128\n",
      "64/64 [==============================] - 7s 117ms/step - loss: 0.2124 - accuracy: 0.9319 - val_loss: 30.6270 - val_accuracy: 0.1136\n",
      "Epoch 127/128\n",
      "64/64 [==============================] - 7s 113ms/step - loss: 0.2443 - accuracy: 0.9240 - val_loss: 28.7583 - val_accuracy: 0.1047\n",
      "Epoch 128/128\n",
      "64/64 [==============================] - 7s 107ms/step - loss: 0.2233 - accuracy: 0.9307 - val_loss: 30.1923 - val_accuracy: 0.1024\n"
     ]
    }
   ],
   "source": [
    "%tensorflow_version 1.x\n",
    "from keras.utils import to_categorical\n",
    "from keras.models import Sequential, Model\n",
    "from keras.layers import Input, Conv2D, Activation, Flatten, Dense, MaxPooling2D, BatchNormalization, Dropout\n",
    "from keras.preprocessing.image import load_img\n",
    "from keras.preprocessing.image import img_to_array\n",
    "from keras.optimizers import Adam\n",
    "\n",
    "model = Sequential()\n",
    "model.add(Conv2D(32, (1, 1), activation='relu', input_shape=(32,32,3)))\n",
    "model.add(MaxPooling2D(pool_size=(2, 2)))\n",
    "model.add(Conv2D(64, (1, 1), activation='relu'))\n",
    "model.add(MaxPooling2D(pool_size=(2, 2)))\n",
    "model.add(Flatten())\n",
    "model.add(Dense(1000, activation='relu'))\n",
    "model.add(Dropout(0.5))\n",
    "model.add(Dense(500, activation='relu'))\n",
    "model.add(Dropout(0.5))\n",
    "model.add(Dense(250, activation='relu'))\n",
    "model.add(Dense(12, activation='softmax'))\n",
    "\n",
    "model.compile(loss='categorical_crossentropy', \n",
    "              optimizer='adam',\n",
    "              metrics=['accuracy'])\n",
    "\n",
    "print('Train data shape: ', X_train.shape)\n",
    "print('Train labels shape: ', y_train.shape)\n",
    "\n",
    "y_train_one_hot = to_categorical(y_train)\n",
    "\n",
    "history = model.fit(X_train, y_train_one_hot, batch_size=64, epochs=128, validation_split=0.1)"
   ]
  },
  {
   "cell_type": "code",
   "execution_count": 11,
   "metadata": {
    "colab": {
     "base_uri": "https://localhost:8080/"
    },
    "id": "gZCD2tYVBGPh",
    "outputId": "51c5fd53-c546-4501-a546-4ade7f908f13"
   },
   "outputs": [
    {
     "name": "stdout",
     "output_type": "stream",
     "text": [
      "141/141 [==============================] - 3s 22ms/step - loss: 3.0470 - accuracy: 0.9049\n"
     ]
    },
    {
     "data": {
      "text/plain": [
       "[3.04704213142395, 0.9048573970794678]"
      ]
     },
     "execution_count": 11,
     "metadata": {
      "tags": []
     },
     "output_type": "execute_result"
    }
   ],
   "source": [
    "# accuracy in train data\n",
    "model.evaluate(X_train, y_train_one_hot)"
   ]
  },
  {
   "cell_type": "code",
   "execution_count": 12,
   "metadata": {
    "colab": {
     "base_uri": "https://localhost:8080/"
    },
    "id": "nUuFHB27Q18J",
    "outputId": "14cfbba4-8aae-4378-a2f4-d095c2d7a106"
   },
   "outputs": [
    {
     "name": "stdout",
     "output_type": "stream",
     "text": [
      "57/57 [==============================] - 1s 18ms/step - loss: 4.1582 - accuracy: 0.9072\n"
     ]
    }
   ],
   "source": [
    "# accuracy in test data\n",
    "test_result = model.evaluate(X_test, y_test_one_hot)"
   ]
  },
  {
   "cell_type": "code",
   "execution_count": 13,
   "metadata": {
    "colab": {
     "base_uri": "https://localhost:8080/",
     "height": 421
    },
    "id": "-oyoEoZul9AS",
    "outputId": "65de3ca1-2335-4541-e0d8-b8baaa751465"
   },
   "outputs": [
    {
     "data": {
      "text/plain": [
       "Text(0.5, 1.0, 'Accuracy')"
      ]
     },
     "execution_count": 13,
     "metadata": {
      "tags": []
     },
     "output_type": "execute_result"
    },
    {
     "data": {
      "image/png": "[encoded data removed]",
      "text/plain": [
       "<Figure size 1152x432 with 2 Axes>"
      ]
     },
     "metadata": {
      "needs_background": "light",
      "tags": []
     },
     "output_type": "display_data"
    }
   ],
   "source": [
    "import matplotlib.pyplot as plt\n",
    "plt.figure(figsize=(16, 6))\n",
    "\n",
    "plt.subplot(1, 2, 1)\n",
    "plt.plot(history.history['loss'])\n",
    "plt.plot(history.history['val_loss'])\n",
    "plt.xlabel('Epoch')\n",
    "plt.ylabel('Loss')\n",
    "plt.legend(['Training', 'Validation'])\n",
    "plt.title('Loss')\n",
    "\n",
    "plt.subplot(1, 2, 2)\n",
    "plt.plot(history.history['accuracy'])\n",
    "plt.plot(history.history['val_loss'])\n",
    "plt.xlabel('Epoch')\n",
    "plt.ylabel('Accuracy')\n",
    "plt.legend(['Training', 'Validation'])\n",
    "plt.title('Accuracy')"
   ]
  },
  {
   "cell_type": "markdown",
   "metadata": {
    "id": "WRG0EMy-wqVl"
   },
   "source": [
    "The model is overfitted, however the accuracy in test set is still quite high."
   ]
  }
 ],
 "metadata": {
  "colab": {
   "collapsed_sections": [],
   "include_colab_link": true,
   "name": "nomm_cnn.ipynb",
   "provenance": []
  },
  "kernelspec": {
   "display_name": "Python 3",
   "language": "python",
   "name": "python3"
  },
  "language_info": {
   "codemirror_mode": {
    "name": "ipython",
    "version": 3
   },
   "file_extension": ".py",
   "mimetype": "text/x-python",
   "name": "python",
   "nbconvert_exporter": "python",
   "pygments_lexer": "ipython3",
   "version": "3.7.9"
  }
 },
 "nbformat": 4,
 "nbformat_minor": 1
}
