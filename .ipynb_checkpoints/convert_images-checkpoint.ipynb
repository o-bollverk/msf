{
 "cells": [
  {
   "cell_type": "code",
   "execution_count": 1,
   "metadata": {},
   "outputs": [
    {
     "ename": "FileNotFoundError",
     "evalue": "[Errno 2] No such file or directory: 'diamond da62/diamond da62_color'",
     "output_type": "error",
     "traceback": [
      "\u001b[0;31m---------------------------------------------------------------------------\u001b[0m",
      "\u001b[0;31mFileNotFoundError\u001b[0m                         Traceback (most recent call last)",
      "\u001b[0;32m<ipython-input-1-94f88c3c7051>\u001b[0m in \u001b[0;36m<module>\u001b[0;34m\u001b[0m\n\u001b[1;32m     12\u001b[0m     \u001b[0mmdir\u001b[0m \u001b[0;34m=\u001b[0m \u001b[0mos\u001b[0m\u001b[0;34m.\u001b[0m\u001b[0mpath\u001b[0m\u001b[0;34m.\u001b[0m\u001b[0mjoin\u001b[0m\u001b[0;34m(\u001b[0m\u001b[0mp\u001b[0m\u001b[0;34m,\u001b[0m \u001b[0mdirectory\u001b[0m\u001b[0;34m)\u001b[0m\u001b[0;34m\u001b[0m\u001b[0;34m\u001b[0m\u001b[0m\n\u001b[1;32m     13\u001b[0m     \u001b[0;32mif\u001b[0m \u001b[0mos\u001b[0m\u001b[0;34m.\u001b[0m\u001b[0mpath\u001b[0m\u001b[0;34m.\u001b[0m\u001b[0mexists\u001b[0m\u001b[0;34m(\u001b[0m\u001b[0mmdir\u001b[0m\u001b[0;34m)\u001b[0m \u001b[0;34m==\u001b[0m \u001b[0;32mFalse\u001b[0m\u001b[0;34m:\u001b[0m\u001b[0;34m\u001b[0m\u001b[0;34m\u001b[0m\u001b[0m\n\u001b[0;32m---> 14\u001b[0;31m         \u001b[0mos\u001b[0m\u001b[0;34m.\u001b[0m\u001b[0mmkdir\u001b[0m\u001b[0;34m(\u001b[0m\u001b[0mmdir\u001b[0m\u001b[0;34m)\u001b[0m\u001b[0;34m\u001b[0m\u001b[0;34m\u001b[0m\u001b[0m\n\u001b[0m\u001b[1;32m     15\u001b[0m         \u001b[0mnr\u001b[0m \u001b[0;34m=\u001b[0m \u001b[0;36m1\u001b[0m\u001b[0;34m\u001b[0m\u001b[0;34m\u001b[0m\u001b[0m\n\u001b[1;32m     16\u001b[0m         \u001b[0;32mfor\u001b[0m \u001b[0mi\u001b[0m \u001b[0;32min\u001b[0m \u001b[0mos\u001b[0m\u001b[0;34m.\u001b[0m\u001b[0mlistdir\u001b[0m\u001b[0;34m(\u001b[0m\u001b[0mp\u001b[0m \u001b[0;34m+\u001b[0m \u001b[0;34m'/'\u001b[0m\u001b[0;34m)\u001b[0m\u001b[0;34m:\u001b[0m\u001b[0;34m\u001b[0m\u001b[0;34m\u001b[0m\u001b[0m\n",
      "\u001b[0;31mFileNotFoundError\u001b[0m: [Errno 2] No such file or directory: 'diamond da62/diamond da62_color'"
     ]
    }
   ],
   "source": [
    "import numpy as np\n",
    "import cv2\n",
    "import os, os.path\n",
    "\n",
    "#225, 400\n",
    "\n",
    "paths = ['diamond da62']\n",
    "\n",
    "\n",
    "for p in paths:\n",
    "    directory = p + '_color'\n",
    "    mdir = os.path.join(p, directory)\n",
    "    if os.path.exists(mdir) == False:\n",
    "        os.mkdir(mdir) \n",
    "        nr = 1\n",
    "        for i in os.listdir(p + '/'):\n",
    "            if i != p + '_bw' and i != p + '_color':\n",
    "                img = cv2.imread(os.path.join(p +'/', i),1)\n",
    "    \n",
    "                if img.shape != (225, 400):\n",
    "                    dim = (400, 225)\n",
    "                    resized = cv2.resize(img, dim, interpolation=cv2.INTER_AREA)\n",
    "                    cv2.imwrite(os.path.join(mdir, p +'_color_' + str(nr) + '.jpg'), resized)\n",
    "                else:\n",
    "                    cv2.imwrite(os.path.join(mdir, p +'_color_' + str(nr) + '.jpg'), img)\n",
    "                nr+=1\n",
    "\n",
    "    else:\n",
    "        nr = 1\n",
    "        for i in os.listdir(p + '/'):\n",
    "            if i != p + '_bw' and i != p + '_color':\n",
    "                img = cv2.imread(os.path.join(p +'/', i),1)\n",
    "    \n",
    "                if img.shape != (225, 400):\n",
    "                    dim = (400, 225)\n",
    "                    resized = cv2.resize(img, dim, interpolation=cv2.INTER_AREA)\n",
    "                    cv2.imwrite(os.path.join(mdir, p +'_color_' + str(nr) + '.jpg'), resized)\n",
    "                else:\n",
    "                    cv2.imwrite(os.path.join(mdir, p +'_color_' + str(nr) + '.jpg'), img)\n",
    "                nr+=1\n",
    "    \n",
    "    \n"
   ]
  },
  {
   "cell_type": "code",
   "execution_count": null,
   "metadata": {},
   "outputs": [],
   "source": []
  }
 ],
 "metadata": {
  "kernelspec": {
   "display_name": "Python 3",
   "language": "python",
   "name": "python3"
  },
  "language_info": {
   "codemirror_mode": {
    "name": "ipython",
    "version": 3
   },
   "file_extension": ".py",
   "mimetype": "text/x-python",
   "name": "python",
   "nbconvert_exporter": "python",
   "pygments_lexer": "ipython3",
   "version": "3.8.5"
  }
 },
 "nbformat": 4,
 "nbformat_minor": 4
}
