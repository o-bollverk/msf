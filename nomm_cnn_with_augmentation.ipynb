{
  "nbformat": 4,
  "nbformat_minor": 0,
  "metadata": {
    "colab": {
      "name": "nomm_cnn_with_augmentation.ipynb",
      "provenance": [],
      "collapsed_sections": [],
      "include_colab_link": true
    },
    "kernelspec": {
      "display_name": "Python 3",
      "name": "python3"
    }
  },
  "cells": [
    {
      "cell_type": "markdown",
      "metadata": {
        "id": "view-in-github",
        "colab_type": "text"
      },
      "source": [
        "<a href=\"https://colab.research.google.com/github/o-bollverk/msf/blob/main/nomm_cnn_with_augmentation.ipynb\" target=\"_parent\"><img src=\"https://colab.research.google.com/assets/colab-badge.svg\" alt=\"Open In Colab\"/></a>"
      ]
    },
    {
      "cell_type": "code",
      "metadata": {
        "id": "kTOjf_-UUgYm"
      },
      "source": [
        "from urllib.request import urlopen\n",
        "from fastai.vision import *\n",
        "from fastai.metrics import error_rate\n",
        "from PIL import Image\n",
        "from google.colab import drive\n",
        "from os import listdir\n",
        "import numpy as np \n",
        "import cv2\n",
        "from matplotlib import image\n",
        "from matplotlib import pyplot\n",
        "import numpy as np\n",
        "import warnings\n",
        "\n"
      ],
      "execution_count": 2,
      "outputs": []
    },
    {
      "cell_type": "markdown",
      "metadata": {
        "id": "qNKvcJ4_Owfl"
      },
      "source": [
        "Klassid:\n",
        "\n",
        "Airbus A320neo\n",
        "\n",
        "Boeing 747-8 Intercontinental\n",
        "\n",
        "Aviat Pitts Special S2S\n",
        "\n",
        "Cub Crafter X Cub\n",
        "\n",
        "Daher TBM 930\n",
        "\n",
        "Diamond DA40NG\n",
        "\n",
        "Diamond DA62\n",
        "\n",
        "EXTRA 330LT\n",
        "\n"
      ]
    },
    {
      "cell_type": "markdown",
      "metadata": {
        "id": "WNf-snFoK_27"
      },
      "source": [
        "https://www.windowscentral.com/list-microsoft-flight-simulator-planes\n"
      ]
    },
    {
      "cell_type": "markdown",
      "metadata": {
        "id": "eDzGa8gzYcpu"
      },
      "source": [
        "Cloning the repository"
      ]
    },
    {
      "cell_type": "code",
      "metadata": {
        "colab": {
          "base_uri": "https://localhost:8080/"
        },
        "id": "0tMQ3NHTYg7i",
        "outputId": "18129fa5-f096-41e5-bb41-fd7e849e15a5"
      },
      "source": [
        "# Clone the entire repo.\n",
        "!git clone -l -s git://github.com/o-bollverk/msf cloned-repo\n",
        "%cd cloned-repo\n",
        "!ls"
      ],
      "execution_count": 3,
      "outputs": [
        {
          "output_type": "stream",
          "text": [
            "Cloning into 'cloned-repo'...\n",
            "warning: --local is ignored\n",
            "remote: Enumerating objects: 4517, done.\u001b[K\n",
            "remote: Counting objects: 100% (4517/4517), done.\u001b[K\n",
            "remote: Compressing objects: 100% (4124/4124), done.\u001b[K\n",
            "remote: Total 100380 (delta 396), reused 4510 (delta 393), pack-reused 95863\u001b[K\n",
            "Receiving objects: 100% (100380/100380), 5.29 GiB | 41.36 MiB/s, done.\n",
            "Resolving deltas: 100% (463/463), done.\n",
            "Checking out files: 100% (71762/71762), done.\n",
            "/content/cloned-repo\n",
            "all_data_bw\t\t\t       msf_project1.ipynb\n",
            "all_data_color\t\t\t       msf_project1_mixed.ipynb\n",
            "colab\t\t\t\t       msf_project2.ipynb\n",
            "convert_images.ipynb\t\t       nomm_cnn.ipynb\n",
            "convert_to_bw.ipynb\t\t       random_selection_augmented\n",
            "data_amounts\t\t\t       random_selection_augmented_jpg\n",
            "ludvig_local_msf_project1_mixed.ipynb  tausta_eemaldus_gen.ipynb\n",
            "msf_data\t\t\t       web_data_links\n"
          ],
          "name": "stdout"
        }
      ]
    },
    {
      "cell_type": "code",
      "metadata": {
        "colab": {
          "base_uri": "https://localhost:8080/"
        },
        "id": "c6hEjGIHYQYH",
        "outputId": "0bfb463d-fa10-4b3e-e048-ba2441dfd1d7"
      },
      "source": [
        "! git pull"
      ],
      "execution_count": 4,
      "outputs": [
        {
          "output_type": "stream",
          "text": [
            "Already up to date.\n"
          ],
          "name": "stdout"
        }
      ]
    },
    {
      "cell_type": "code",
      "metadata": {
        "id": "eez_VOeq6qsx"
      },
      "source": [
        "nimede_vastavus = pd.DataFrame({\"web_name\": np.sort(listdir(\"all_data_color/\")),\n",
        "                                \"game_name\": np.sort(np.unique([x.split(\"_clear\")[0] for x in listdir(\"msf_data/image_data_clear\")]))})"
      ],
      "execution_count": 5,
      "outputs": []
    },
    {
      "cell_type": "code",
      "metadata": {
        "id": "JnfZU7kTDePx"
      },
      "source": [
        "! mkdir random_selection_train\n",
        "! mkdir random_selection_test\n"
      ],
      "execution_count": 6,
      "outputs": []
    },
    {
      "cell_type": "code",
      "metadata": {
        "id": "n2kZ8DuP3Oya"
      },
      "source": [
        "# creating temporary folder for selected files\n",
        "from shutil import copyfile\n",
        "import random\n",
        "import shutil\n",
        "\n",
        "selection_size_web = 250\n",
        "selection_size_web_test = int(0.1*selection_size_web)\n",
        "\n",
        "def abifun(x):\n",
        "    return x[:len(nimede_vastavus.game_name[i])] == nimede_vastavus.game_name[i]\n",
        " \n",
        "for i in range(nimede_vastavus.shape[0]):\n",
        "  web_files = listdir(\"all_data_color/\" + nimede_vastavus.web_name[i])\n",
        "  game_files_clear = listdir(\"msf_data/image_data_clear/\")    \n",
        "  game_files_clear_selected = np.array(game_files_clear)[[abifun(x) for x in game_files_clear]]\n",
        "  game_files_rainy = listdir(\"msf_data/image_data_rainy/\")\n",
        "  game_files_rainy_selected = np.array(game_files_rainy)[[abifun(x) for x in game_files_rainy]]\n",
        "  \n",
        "  # making a random selection\n",
        "\n",
        "  selected_web = random.sample(web_files, selection_size_web)\n",
        "  selected_web2 = [\"all_data_color/\" + nimede_vastavus.web_name[i] + \"/\" + x for x in selected_web]\n",
        "  selected_web2_test = selected_web2[0:selection_size_web_test]\n",
        "  selected_web2_train = selected_web2[selection_size_web_test:]\n",
        "\n",
        "  selected_clear = random.sample(set(game_files_clear_selected), int(selection_size_web/4))\n",
        "  selected_clear2 = [\"msf_data/image_data_clear/\" + x for x in selected_clear]\n",
        "  selected_clear2_test = selected_clear2[0:selection_size_web_test]\n",
        "  selected_clear2_train = selected_clear2[selection_size_web_test:]\n",
        "\n",
        "  selected_rainy = random.sample(set(game_files_rainy_selected), int(selection_size_web/4))\n",
        "  selected_rainy2 = [\"msf_data/image_data_rainy/\" + x for x in selected_rainy]\n",
        "  selected_rainy2_test = selected_rainy2[0:selection_size_web_test]\n",
        "  selected_rainy2_train = selected_rainy2[selection_size_web_test:]\n",
        "  \n",
        "#complete_selection_train = np.concatenate([selected_web2, selected_clear2, selected_rainy2])\n",
        "#complete_selection_test = np.concatenate([selected_web2_test, selected_clear2_test, selected_rainy2_test])\n",
        "  complete_selection_train = np.concatenate([selected_web2_train, selected_clear2_train, selected_rainy2_train])\n",
        "  complete_selection_test = np.concatenate([selected_web2_test, selected_clear2_test, selected_rainy2_test])\n",
        "\n",
        "  os.mkdir(\"random_selection_train/\" +  nimede_vastavus.game_name[i])\n",
        "  for filename in complete_selection_train:\n",
        "    shutil.copy(filename, \"random_selection_train/\" +  nimede_vastavus.game_name[i])\n",
        "\n",
        "  os.mkdir(\"random_selection_test/\" +  nimede_vastavus.game_name[i])\n",
        "  for filename in complete_selection_test:\n",
        "    shutil.copy(filename, \"random_selection_test/\" +  nimede_vastavus.game_name[i])\n",
        "\n"
      ],
      "execution_count": 7,
      "outputs": []
    },
    {
      "cell_type": "code",
      "metadata": {
        "id": "e4j1WpEpKM0J"
      },
      "source": [
        "# data augmentation\r\n",
        "def median_transform(img_raw):\r\n",
        "      img = tf.io.decode_image(img_raw)\r\n",
        "      #img = tf.image.convert_image_dtype(tf.expand_dims(img, 0), tf.dtypes.float32)\r\n",
        "      img = tf.image.convert_image_dtype(img, tf.dtypes.float32)\r\n",
        "      #img = tf.image.resize(img, [500,500])\r\n",
        "      mean = tfa.image.mean_filter2d(img, filter_shape=5)\r\n",
        "      return mean\r\n",
        "\r\n",
        "def wrap_transform(img_raw):\r\n",
        "      img = tf.io.decode_image(img_raw)\r\n",
        "      input_img = tf.image.convert_image_dtype(tf.expand_dims(img, 0), tf.dtypes.float32)\r\n",
        "      flow_shape = [1, input_img.shape[1], input_img.shape[2], 2]\r\n",
        "      init_flows = np.float32(np.random.normal(size=flow_shape) * 2.0)\r\n",
        "      dense_img_warp = tfa.image.dense_image_warp(input_img, init_flows)\r\n",
        "      dense_img_warp = tf.squeeze(dense_img_warp, 0)\r\n",
        "      return dense_img_warp\r\n",
        "\r\n",
        "def random_hsv(img_raw):\r\n",
        "    img = tf.io.decode_image(img_raw)\r\n",
        "    #img = tf.image.convert_image_dtype(tf.expand_dims(img, 0), tf.dtypes.float32)\r\n",
        "    delta = 0.5\r\n",
        "    lower_saturation = 0.1\r\n",
        "    upper_saturation = 0.9\r\n",
        "    lower_value = 0.2\r\n",
        "    upper_value = 0.8\r\n",
        "    delta = 0.5\r\n",
        "#    saturation = 0.3\r\n",
        "    value = 0.6\r\n",
        "    #adj_hsvinyiq = tfa.image.adjust_hsv_in_yiq(img, delta, saturation, value)\r\n",
        "\r\n",
        "    rand_hsvinyiq = tfa.image.random_hsv_in_yiq(img, delta, lower_saturation, upper_saturation, lower_value, upper_value)\r\n",
        "    return rand_hsvinyiq\r\n",
        "    #return adj_hsvinyiq\r\n",
        "\r\n",
        "def rotate(img_raw):\r\n",
        "    img = tf.io.decode_image(img_raw)\r\n",
        "    #img = img_raw\r\n",
        "    img = tf.image.convert_image_dtype(img, tf.float32)\r\n",
        "    rotated = tfa.image.rotate(img, tf.constant(np.pi/8))\r\n",
        "    return rotated"
      ],
      "execution_count": 11,
      "outputs": []
    },
    {
      "cell_type": "code",
      "metadata": {
        "id": "VojP12FqLmd7"
      },
      "source": [
        "import tensorflow as tf\r\n",
        "import numpy as np\r\n",
        "import tensorflow_addons as tfa\r\n",
        "import matplotlib.pyplot as plt\r\n",
        "from PIL import Image\r\n",
        "\r\n",
        "# With the entire training set and training after that:\r\n",
        "# No resizing at this point\r\n",
        "\r\n",
        "def image_folder_filter(input_folder, output_folder, method):\r\n",
        "  \r\n",
        "  input_folder = input_folder + \"/\"\r\n",
        "  output_folder = output_folder + \"/\"\r\n",
        "  folders = listdir(input_folder)\r\n",
        "  if os.path.isdir(output_folder) == False:\r\n",
        "    try: \r\n",
        "      os.mkdir(output_folder)\r\n",
        "    except OSError:\r\n",
        "      print(\"Creation of the directory '\" + output_folder + \"' failed\")\r\n",
        "\r\n",
        "  for folder_name in folders:\r\n",
        "    folder_name = folder_name + \"/\"\r\n",
        "    files_in_folder = listdir(input_folder + folder_name)\r\n",
        "\r\n",
        "    if os.path.isdir(output_folder + folder_name) == False:\r\n",
        "      try: \r\n",
        "        os.mkdir(output_folder + folder_name)\r\n",
        "      except OSError:\r\n",
        "        print(\"Creation of the directory '\" + output_folder + folder_name + \"' failed\")\r\n",
        "\r\n",
        "    for filename in files_in_folder:\r\n",
        "      img_raw = tf.io.read_file(input_folder + folder_name + filename)\r\n",
        "      if method == \"median\":\r\n",
        "        transformed_result = median_transform(img_raw)\r\n",
        "      elif method == \"wrap\":\r\n",
        "        transformed_result = wrap_transform(img_raw)\r\n",
        "      elif method == \"random_hsv\":\r\n",
        "        transformed_result = random_hsv(img_raw)\r\n",
        "      elif method == \"rotate\":\r\n",
        "        transformed_result = rotate(img_raw)\r\n",
        "\r\n",
        "      tf.keras.preprocessing.image.save_img( output_folder + folder_name + filename, transformed_result)"
      ],
      "execution_count": 12,
      "outputs": []
    },
    {
      "cell_type": "code",
      "metadata": {
        "id": "ikE4-Qe_LwEj"
      },
      "source": [
        "image_folder_filter(\"random_selection_train\", \"random_selection_train_mean\", method = \"median\")\r\n",
        "image_folder_filter(\"random_selection_test\", \"random_selection_test_mean\", method = \"median\")\r\n",
        "image_folder_filter(\"random_selection_train\", \"random_selection_train_wrap\", method = \"wrap\")\r\n",
        "image_folder_filter(\"random_selection_test\", \"random_selection_test_wrap\", method = \"wrap\")\r\n",
        "#image_folder_filter(\"random_selection_train\", \"random_selection_train_random_hsv\", method = \"random_hsv\")\r\n",
        "#image_folder_filter(\"random_selection_test\", \"random_selection_test_random_hsv\", method = \"random_hsv\")\r\n",
        "#image_folder_filter(\"random_selection_train\", \"random_selection_train_rotate\", method = \"rotate\")\r\n",
        "#image_folder_filter(\"random_selection_test\", \"random_selection_test_rotate\", method = \"rotate\")"
      ],
      "execution_count": 16,
      "outputs": []
    },
    {
      "cell_type": "code",
      "metadata": {
        "id": "5Dr_KTQIkfet"
      },
      "source": [
        "path = Path(\"random_selection_train\")"
      ],
      "execution_count": 17,
      "outputs": []
    },
    {
      "cell_type": "code",
      "metadata": {
        "colab": {
          "base_uri": "https://localhost:8080/"
        },
        "id": "iumNV9Vb3qfa",
        "outputId": "f544867e-16d0-4453-c4a6-89969d03f44b"
      },
      "source": [
        "# loading train data\r\n",
        "import cv2\r\n",
        "from matplotlib import pyplot as plt\r\n",
        "from keras.preprocessing.image import load_img\r\n",
        "from keras.preprocessing.image import img_to_array\r\n",
        "import os, sys\r\n",
        "\r\n",
        "d = {}\r\n",
        "x=['aviat', 'diamond40ng', 'cessna_172', 'cessna_cj', 'boeing', 'diamondda62', 'airbus', 'cessna_208', 'extra', 'daher', 'cubcraft', 'cessna_152']\r\n",
        "count = 0\r\n",
        "for i in x:\r\n",
        "  if i not in d:\r\n",
        "     d[i] = count\r\n",
        "     count += 1\r\n",
        "actual = []\r\n",
        "X_train = []\r\n",
        "y_train = []\r\n",
        "IMG_SIZE = (64, 64)\r\n",
        "for i in listdir(\"random_selection_train\"):\r\n",
        "  for j in listdir(\"random_selection_train\" + \"/\" + i):\r\n",
        "    actual.append(i)\r\n",
        "    a = cv2.imread(\"random_selection_train/\" + i +\"/\" + j)\r\n",
        "    y_train.append(d[i])\r\n",
        "    resized = cv2.resize(a, IMG_SIZE)\r\n",
        "    X_train.append(resized)\r\n",
        "    #plt.imshow(a)\r\n",
        "    #plt.show()\r\n",
        "    #print(a.shape)\r\n",
        "\r\n",
        "X_train = np.array(X_train)\r\n",
        "y_train = np.array(y_train)\r\n",
        "print('Train data shape: ', X_train.shape)\r\n",
        "print('Train labels shape: ', y_train.shape)"
      ],
      "execution_count": 18,
      "outputs": [
        {
          "output_type": "stream",
          "text": [
            "Train data shape:  (3588, 64, 64, 3)\n",
            "Train labels shape:  (3588,)\n"
          ],
          "name": "stdout"
        }
      ]
    },
    {
      "cell_type": "code",
      "metadata": {
        "colab": {
          "base_uri": "https://localhost:8080/"
        },
        "id": "e9oLEpGKg_7U",
        "outputId": "3cd0f5b1-b67a-434e-b2bc-0d37feac6ce9"
      },
      "source": [
        "# loading test data\r\n",
        "from keras.utils import to_categorical\r\n",
        "\r\n",
        "actual = []\r\n",
        "X_test = []\r\n",
        "y_test = []\r\n",
        "IMG_SIZE = (64, 64)\r\n",
        "for i in listdir(\"random_selection_test\"):\r\n",
        "  for j in listdir(\"random_selection_test\" + \"/\" + i):\r\n",
        "    actual.append(i)\r\n",
        "    a = cv2.imread(\"random_selection_test/\" + i +\"/\" + j)\r\n",
        "    y_test.append(d[i])\r\n",
        "    resized = cv2.resize(a, IMG_SIZE)\r\n",
        "    X_test.append(resized)\r\n",
        "\r\n",
        "\r\n",
        "X_test = np.array(X_test)\r\n",
        "y_test = np.array(y_test)\r\n",
        "print('Train data shape: ', X_test.shape)\r\n",
        "print('Train labels shape: ', y_test.shape)\r\n",
        "y_test_one_hot = to_categorical(y_test)"
      ],
      "execution_count": 19,
      "outputs": [
        {
          "output_type": "stream",
          "text": [
            "Train data shape:  (900, 64, 64, 3)\n",
            "Train labels shape:  (900,)\n"
          ],
          "name": "stdout"
        }
      ]
    },
    {
      "cell_type": "markdown",
      "metadata": {
        "id": "-t24_0nWAk0g"
      },
      "source": [
        "## Train model"
      ]
    },
    {
      "cell_type": "code",
      "metadata": {
        "colab": {
          "resources": {
            "http://localhost:8080/nbextensions/google.colab/files.js": {
              "data": "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",
              "ok": true,
              "headers": [
                [
                  "content-type",
                  "application/javascript"
                ]
              ],
              "status": 200,
              "status_text": ""
            }
          },
          "base_uri": "https://localhost:8080/",
          "height": 72
        },
        "id": "SASLIoFQVqEE",
        "outputId": "392e2143-5a51-4c08-9202-28e665f21946"
      },
      "source": [
        "from google.colab import files\r\n",
        "from IPython.display import Image\r\n",
        "uploaded = files.upload()"
      ],
      "execution_count": 24,
      "outputs": [
        {
          "output_type": "display_data",
          "data": {
            "text/html": [
              "\n",
              "     <input type=\"file\" id=\"files-0f3c1e35-4bfc-4079-821d-2ed3b1065e50\" name=\"files[]\" multiple disabled\n",
              "        style=\"border:none\" />\n",
              "     <output id=\"result-0f3c1e35-4bfc-4079-821d-2ed3b1065e50\">\n",
              "      Upload widget is only available when the cell has been executed in the\n",
              "      current browser session. Please rerun this cell to enable.\n",
              "      </output>\n",
              "      <script src=\"/nbextensions/google.colab/files.js\"></script> "
            ],
            "text/plain": [
              "<IPython.core.display.HTML object>"
            ]
          },
          "metadata": {
            "tags": []
          }
        },
        {
          "output_type": "stream",
          "text": [
            "Saving cnn_architecture (1).jpg to cnn_architecture (1).jpg\n"
          ],
          "name": "stdout"
        }
      ]
    },
    {
      "cell_type": "code",
      "metadata": {
        "colab": {
          "base_uri": "https://localhost:8080/",
          "height": 318
        },
        "id": "PXKzo6CnolW8",
        "outputId": "c8e159fb-242b-4e08-9b41-caf1f188d3d5"
      },
      "source": [
        "Image(\"cnn_architecture (1).jpg\")"
      ],
      "execution_count": 26,
      "outputs": [
        {
          "output_type": "execute_result",
          "data": {
            "image/jpeg": "[encoded data removed]",
            "text/plain": [
              "<IPython.core.display.Image object>"
            ]
          },
          "metadata": {
            "tags": []
          },
          "execution_count": 26
        }
      ]
    },
    {
      "cell_type": "code",
      "metadata": {
        "colab": {
          "base_uri": "https://localhost:8080/"
        },
        "id": "LQjx5qE1heSx",
        "outputId": "217a1916-f62c-403b-8cca-a780545e4775"
      },
      "source": [
        "%tensorflow_version 1.x\r\n",
        "from keras.utils import to_categorical\r\n",
        "from keras.models import Sequential, Model\r\n",
        "from keras.layers import Input, Conv2D, Activation, Flatten, Dense, MaxPooling2D, BatchNormalization, Dropout\r\n",
        "from keras.preprocessing.image import load_img\r\n",
        "from keras.preprocessing.image import img_to_array\r\n",
        "from keras.optimizers import Adam\r\n",
        "\r\n",
        "model = Sequential()\r\n",
        "model.add(Conv2D(64, (1, 1), activation='relu', input_shape=(64,64,3)))\r\n",
        "model.add(MaxPooling2D(pool_size=(2, 2)))\r\n",
        "model.add(Conv2D(128, (1, 1), activation='relu'))\r\n",
        "model.add(MaxPooling2D(pool_size=(2, 2)))\r\n",
        "model.add(Flatten())\r\n",
        "model.add(Dense(1000, activation='relu'))\r\n",
        "model.add(Dropout(0.5))\r\n",
        "model.add(Dense(500, activation='relu'))\r\n",
        "model.add(Dropout(0.5))\r\n",
        "model.add(Dense(250, activation='relu'))\r\n",
        "model.add(Dense(12, activation='softmax'))\r\n",
        "\r\n",
        "model.compile(loss='categorical_crossentropy', \r\n",
        "              optimizer='adam',\r\n",
        "              metrics=['accuracy'])\r\n",
        "model.summary()\r\n",
        "print('Train data shape: ', X_train.shape)\r\n",
        "print('Train labels shape: ', y_train.shape)\r\n",
        "\r\n",
        "y_train_one_hot = to_categorical(y_train)\r\n",
        "\r\n",
        "history = model.fit(X_train, y_train_one_hot, batch_size=64, epochs=128, validation_split=0.1)"
      ],
      "execution_count": 27,
      "outputs": [
        {
          "output_type": "stream",
          "text": [
            "TensorFlow is already loaded. Please restart the runtime to change versions.\n",
            "Model: \"sequential\"\n",
            "_________________________________________________________________\n",
            "Layer (type)                 Output Shape              Param #   \n",
            "=================================================================\n",
            "conv2d (Conv2D)              (None, 64, 64, 64)        256       \n",
            "_________________________________________________________________\n",
            "max_pooling2d (MaxPooling2D) (None, 32, 32, 64)        0         \n",
            "_________________________________________________________________\n",
            "conv2d_1 (Conv2D)            (None, 32, 32, 128)       8320      \n",
            "_________________________________________________________________\n",
            "max_pooling2d_1 (MaxPooling2 (None, 16, 16, 128)       0         \n",
            "_________________________________________________________________\n",
            "flatten (Flatten)            (None, 32768)             0         \n",
            "_________________________________________________________________\n",
            "dense (Dense)                (None, 1000)              32769000  \n",
            "_________________________________________________________________\n",
            "dropout (Dropout)            (None, 1000)              0         \n",
            "_________________________________________________________________\n",
            "dense_1 (Dense)              (None, 500)               500500    \n",
            "_________________________________________________________________\n",
            "dropout_1 (Dropout)          (None, 500)               0         \n",
            "_________________________________________________________________\n",
            "dense_2 (Dense)              (None, 250)               125250    \n",
            "_________________________________________________________________\n",
            "dense_3 (Dense)              (None, 12)                3012      \n",
            "=================================================================\n",
            "Total params: 33,406,338\n",
            "Trainable params: 33,406,338\n",
            "Non-trainable params: 0\n",
            "_________________________________________________________________\n",
            "Train data shape:  (3588, 64, 64, 3)\n",
            "Train labels shape:  (3588,)\n",
            "Epoch 1/128\n",
            "51/51 [==============================] - 32s 624ms/step - loss: 89.0619 - accuracy: 0.1003 - val_loss: 2.7508 - val_accuracy: 0.0028\n",
            "Epoch 2/128\n",
            "51/51 [==============================] - 32s 618ms/step - loss: 2.4457 - accuracy: 0.1180 - val_loss: 2.8913 - val_accuracy: 0.0000e+00\n",
            "Epoch 3/128\n",
            "51/51 [==============================] - 32s 619ms/step - loss: 2.3750 - accuracy: 0.1440 - val_loss: 2.9441 - val_accuracy: 0.0000e+00\n",
            "Epoch 4/128\n",
            "51/51 [==============================] - 32s 620ms/step - loss: 2.3117 - accuracy: 0.1629 - val_loss: 3.0553 - val_accuracy: 0.0000e+00\n",
            "Epoch 5/128\n",
            "51/51 [==============================] - 32s 622ms/step - loss: 2.2688 - accuracy: 0.1849 - val_loss: 3.5554 - val_accuracy: 0.0000e+00\n",
            "Epoch 6/128\n",
            "51/51 [==============================] - 32s 621ms/step - loss: 2.2054 - accuracy: 0.2056 - val_loss: 3.6989 - val_accuracy: 0.0000e+00\n",
            "Epoch 7/128\n",
            "51/51 [==============================] - 32s 622ms/step - loss: 2.1721 - accuracy: 0.2168 - val_loss: 3.9838 - val_accuracy: 0.0000e+00\n",
            "Epoch 8/128\n",
            "51/51 [==============================] - 32s 623ms/step - loss: 2.1001 - accuracy: 0.2447 - val_loss: 4.3244 - val_accuracy: 0.0000e+00\n",
            "Epoch 9/128\n",
            "51/51 [==============================] - 32s 620ms/step - loss: 2.0643 - accuracy: 0.2539 - val_loss: 4.2246 - val_accuracy: 0.0000e+00\n",
            "Epoch 10/128\n",
            "51/51 [==============================] - 32s 624ms/step - loss: 2.0271 - accuracy: 0.2753 - val_loss: 4.9382 - val_accuracy: 0.0000e+00\n",
            "Epoch 11/128\n",
            "51/51 [==============================] - 32s 626ms/step - loss: 1.9957 - accuracy: 0.2719 - val_loss: 4.8127 - val_accuracy: 0.0000e+00\n",
            "Epoch 12/128\n",
            "51/51 [==============================] - 32s 623ms/step - loss: 1.9568 - accuracy: 0.2942 - val_loss: 5.2443 - val_accuracy: 0.0000e+00\n",
            "Epoch 13/128\n",
            "51/51 [==============================] - 32s 621ms/step - loss: 1.9012 - accuracy: 0.3150 - val_loss: 5.5335 - val_accuracy: 0.0000e+00\n",
            "Epoch 14/128\n",
            "51/51 [==============================] - 32s 624ms/step - loss: 1.8697 - accuracy: 0.3292 - val_loss: 5.8468 - val_accuracy: 0.0000e+00\n",
            "Epoch 15/128\n",
            "51/51 [==============================] - 32s 626ms/step - loss: 1.8556 - accuracy: 0.3314 - val_loss: 6.0510 - val_accuracy: 0.0000e+00\n",
            "Epoch 16/128\n",
            "51/51 [==============================] - 32s 626ms/step - loss: 1.8272 - accuracy: 0.3425 - val_loss: 6.5170 - val_accuracy: 0.0000e+00\n",
            "Epoch 17/128\n",
            "51/51 [==============================] - 32s 626ms/step - loss: 1.8052 - accuracy: 0.3506 - val_loss: 6.3300 - val_accuracy: 0.0000e+00\n",
            "Epoch 18/128\n",
            "51/51 [==============================] - 32s 625ms/step - loss: 1.7775 - accuracy: 0.3565 - val_loss: 6.4713 - val_accuracy: 0.0000e+00\n",
            "Epoch 19/128\n",
            "51/51 [==============================] - 32s 626ms/step - loss: 1.7550 - accuracy: 0.3648 - val_loss: 6.8515 - val_accuracy: 0.0000e+00\n",
            "Epoch 20/128\n",
            "51/51 [==============================] - 32s 621ms/step - loss: 1.7084 - accuracy: 0.3784 - val_loss: 7.1881 - val_accuracy: 0.0000e+00\n",
            "Epoch 21/128\n",
            "51/51 [==============================] - 32s 621ms/step - loss: 1.6945 - accuracy: 0.3763 - val_loss: 7.2921 - val_accuracy: 0.0000e+00\n",
            "Epoch 22/128\n",
            "51/51 [==============================] - 32s 619ms/step - loss: 1.6614 - accuracy: 0.3949 - val_loss: 6.9902 - val_accuracy: 0.0000e+00\n",
            "Epoch 23/128\n",
            "51/51 [==============================] - 32s 622ms/step - loss: 1.6812 - accuracy: 0.3945 - val_loss: 7.5952 - val_accuracy: 0.0000e+00\n",
            "Epoch 24/128\n",
            "51/51 [==============================] - 32s 628ms/step - loss: 1.6512 - accuracy: 0.3989 - val_loss: 7.7431 - val_accuracy: 0.0000e+00\n",
            "Epoch 25/128\n",
            "51/51 [==============================] - 32s 622ms/step - loss: 1.5794 - accuracy: 0.4258 - val_loss: 7.7655 - val_accuracy: 0.0000e+00\n",
            "Epoch 26/128\n",
            "51/51 [==============================] - 33s 642ms/step - loss: 1.5871 - accuracy: 0.4153 - val_loss: 8.3030 - val_accuracy: 0.0000e+00\n",
            "Epoch 27/128\n",
            "51/51 [==============================] - 32s 630ms/step - loss: 1.5479 - accuracy: 0.4237 - val_loss: 8.4993 - val_accuracy: 0.0000e+00\n",
            "Epoch 28/128\n",
            "51/51 [==============================] - 32s 628ms/step - loss: 1.5255 - accuracy: 0.4295 - val_loss: 8.9191 - val_accuracy: 0.0000e+00\n",
            "Epoch 29/128\n",
            "51/51 [==============================] - 32s 627ms/step - loss: 1.4966 - accuracy: 0.4466 - val_loss: 8.8658 - val_accuracy: 0.0000e+00\n",
            "Epoch 30/128\n",
            "51/51 [==============================] - 32s 628ms/step - loss: 1.4759 - accuracy: 0.4580 - val_loss: 9.4199 - val_accuracy: 0.0000e+00\n",
            "Epoch 31/128\n",
            "51/51 [==============================] - 32s 628ms/step - loss: 1.4511 - accuracy: 0.4587 - val_loss: 9.4064 - val_accuracy: 0.0000e+00\n",
            "Epoch 32/128\n",
            "51/51 [==============================] - 32s 626ms/step - loss: 1.4514 - accuracy: 0.4624 - val_loss: 8.9096 - val_accuracy: 0.0000e+00\n",
            "Epoch 33/128\n",
            "51/51 [==============================] - 32s 622ms/step - loss: 1.4364 - accuracy: 0.4686 - val_loss: 9.8062 - val_accuracy: 0.0000e+00\n",
            "Epoch 34/128\n",
            "51/51 [==============================] - 32s 624ms/step - loss: 1.4133 - accuracy: 0.4769 - val_loss: 9.9403 - val_accuracy: 0.0084\n",
            "Epoch 35/128\n",
            "51/51 [==============================] - 32s 624ms/step - loss: 1.4074 - accuracy: 0.4800 - val_loss: 10.3950 - val_accuracy: 0.0139\n",
            "Epoch 36/128\n",
            "51/51 [==============================] - 32s 626ms/step - loss: 1.3546 - accuracy: 0.5002 - val_loss: 10.8202 - val_accuracy: 0.0000e+00\n",
            "Epoch 37/128\n",
            "51/51 [==============================] - 32s 625ms/step - loss: 1.3544 - accuracy: 0.5008 - val_loss: 10.0586 - val_accuracy: 0.0028\n",
            "Epoch 38/128\n",
            "51/51 [==============================] - 32s 626ms/step - loss: 1.3605 - accuracy: 0.5017 - val_loss: 10.5817 - val_accuracy: 0.0111\n",
            "Epoch 39/128\n",
            "51/51 [==============================] - 32s 627ms/step - loss: 1.3375 - accuracy: 0.5098 - val_loss: 11.2719 - val_accuracy: 0.0056\n",
            "Epoch 40/128\n",
            "51/51 [==============================] - 32s 627ms/step - loss: 1.2803 - accuracy: 0.5209 - val_loss: 11.2609 - val_accuracy: 0.0223\n",
            "Epoch 41/128\n",
            "51/51 [==============================] - 32s 627ms/step - loss: 1.2850 - accuracy: 0.5277 - val_loss: 10.7459 - val_accuracy: 0.0084\n",
            "Epoch 42/128\n",
            "51/51 [==============================] - 32s 625ms/step - loss: 1.2595 - accuracy: 0.5286 - val_loss: 11.5496 - val_accuracy: 0.0251\n",
            "Epoch 43/128\n",
            "51/51 [==============================] - 32s 626ms/step - loss: 1.2211 - accuracy: 0.5472 - val_loss: 11.7897 - val_accuracy: 0.0195\n",
            "Epoch 44/128\n",
            "51/51 [==============================] - 32s 624ms/step - loss: 1.2180 - accuracy: 0.5550 - val_loss: 11.8088 - val_accuracy: 0.0111\n",
            "Epoch 45/128\n",
            "51/51 [==============================] - 32s 633ms/step - loss: 1.1828 - accuracy: 0.5670 - val_loss: 11.7600 - val_accuracy: 0.0390\n",
            "Epoch 46/128\n",
            "51/51 [==============================] - 32s 624ms/step - loss: 1.1290 - accuracy: 0.5841 - val_loss: 12.4930 - val_accuracy: 0.0306\n",
            "Epoch 47/128\n",
            "51/51 [==============================] - 32s 626ms/step - loss: 1.1265 - accuracy: 0.5881 - val_loss: 12.0843 - val_accuracy: 0.0251\n",
            "Epoch 48/128\n",
            "51/51 [==============================] - 32s 624ms/step - loss: 1.1307 - accuracy: 0.5968 - val_loss: 11.8730 - val_accuracy: 0.0279\n",
            "Epoch 49/128\n",
            "51/51 [==============================] - 32s 626ms/step - loss: 1.0796 - accuracy: 0.6048 - val_loss: 11.8262 - val_accuracy: 0.0390\n",
            "Epoch 50/128\n",
            "51/51 [==============================] - 32s 623ms/step - loss: 1.0933 - accuracy: 0.6138 - val_loss: 12.5514 - val_accuracy: 0.0418\n",
            "Epoch 51/128\n",
            "51/51 [==============================] - 32s 619ms/step - loss: 1.0896 - accuracy: 0.6135 - val_loss: 12.8734 - val_accuracy: 0.0279\n",
            "Epoch 52/128\n",
            "51/51 [==============================] - 32s 628ms/step - loss: 1.0715 - accuracy: 0.6169 - val_loss: 12.0895 - val_accuracy: 0.0418\n",
            "Epoch 53/128\n",
            "51/51 [==============================] - 32s 633ms/step - loss: 1.0518 - accuracy: 0.6281 - val_loss: 11.8692 - val_accuracy: 0.0279\n",
            "Epoch 54/128\n",
            "51/51 [==============================] - 32s 629ms/step - loss: 1.0670 - accuracy: 0.6222 - val_loss: 12.2960 - val_accuracy: 0.0418\n",
            "Epoch 55/128\n",
            "51/51 [==============================] - 32s 631ms/step - loss: 1.0106 - accuracy: 0.6392 - val_loss: 12.2965 - val_accuracy: 0.0362\n",
            "Epoch 56/128\n",
            "51/51 [==============================] - 32s 627ms/step - loss: 0.9887 - accuracy: 0.6504 - val_loss: 12.8017 - val_accuracy: 0.0334\n",
            "Epoch 57/128\n",
            "51/51 [==============================] - 32s 628ms/step - loss: 0.9348 - accuracy: 0.6600 - val_loss: 12.5924 - val_accuracy: 0.0251\n",
            "Epoch 58/128\n",
            "51/51 [==============================] - 32s 629ms/step - loss: 0.9435 - accuracy: 0.6658 - val_loss: 12.8018 - val_accuracy: 0.0418\n",
            "Epoch 59/128\n",
            "51/51 [==============================] - 32s 627ms/step - loss: 0.9753 - accuracy: 0.6538 - val_loss: 12.4932 - val_accuracy: 0.0334\n",
            "Epoch 60/128\n",
            "51/51 [==============================] - 32s 627ms/step - loss: 0.9545 - accuracy: 0.6621 - val_loss: 12.9123 - val_accuracy: 0.0167\n",
            "Epoch 61/128\n",
            "51/51 [==============================] - 32s 629ms/step - loss: 0.9563 - accuracy: 0.6609 - val_loss: 12.1833 - val_accuracy: 0.0334\n",
            "Epoch 62/128\n",
            "51/51 [==============================] - 32s 629ms/step - loss: 0.9052 - accuracy: 0.6838 - val_loss: 12.4262 - val_accuracy: 0.0334\n",
            "Epoch 63/128\n",
            "51/51 [==============================] - 32s 634ms/step - loss: 0.8634 - accuracy: 0.6987 - val_loss: 13.6502 - val_accuracy: 0.0390\n",
            "Epoch 64/128\n",
            "51/51 [==============================] - 32s 632ms/step - loss: 0.8173 - accuracy: 0.7092 - val_loss: 13.4827 - val_accuracy: 0.0390\n",
            "Epoch 65/128\n",
            "51/51 [==============================] - 32s 627ms/step - loss: 0.8353 - accuracy: 0.7030 - val_loss: 13.9165 - val_accuracy: 0.0251\n",
            "Epoch 66/128\n",
            "51/51 [==============================] - 32s 627ms/step - loss: 0.8068 - accuracy: 0.7166 - val_loss: 13.9998 - val_accuracy: 0.0223\n",
            "Epoch 67/128\n",
            "51/51 [==============================] - 32s 630ms/step - loss: 0.8266 - accuracy: 0.7067 - val_loss: 14.2863 - val_accuracy: 0.0334\n",
            "Epoch 68/128\n",
            "51/51 [==============================] - 32s 628ms/step - loss: 0.8150 - accuracy: 0.7241 - val_loss: 12.8718 - val_accuracy: 0.0390\n",
            "Epoch 69/128\n",
            "51/51 [==============================] - 32s 631ms/step - loss: 0.7959 - accuracy: 0.7185 - val_loss: 14.1139 - val_accuracy: 0.0334\n",
            "Epoch 70/128\n",
            "51/51 [==============================] - 32s 629ms/step - loss: 0.8053 - accuracy: 0.7287 - val_loss: 13.9249 - val_accuracy: 0.0334\n",
            "Epoch 71/128\n",
            "51/51 [==============================] - 32s 629ms/step - loss: 0.7872 - accuracy: 0.7306 - val_loss: 13.3420 - val_accuracy: 0.0446\n",
            "Epoch 72/128\n",
            "51/51 [==============================] - 32s 629ms/step - loss: 0.7767 - accuracy: 0.7309 - val_loss: 13.6579 - val_accuracy: 0.0446\n",
            "Epoch 73/128\n",
            "51/51 [==============================] - 32s 630ms/step - loss: 0.7698 - accuracy: 0.7340 - val_loss: 14.9446 - val_accuracy: 0.0251\n",
            "Epoch 74/128\n",
            "51/51 [==============================] - 32s 627ms/step - loss: 0.7503 - accuracy: 0.7402 - val_loss: 14.4146 - val_accuracy: 0.0446\n",
            "Epoch 75/128\n",
            "51/51 [==============================] - 32s 627ms/step - loss: 0.7561 - accuracy: 0.7386 - val_loss: 16.1767 - val_accuracy: 0.0306\n",
            "Epoch 76/128\n",
            "51/51 [==============================] - 32s 629ms/step - loss: 0.7315 - accuracy: 0.7457 - val_loss: 14.9182 - val_accuracy: 0.0362\n",
            "Epoch 77/128\n",
            "51/51 [==============================] - 32s 627ms/step - loss: 0.7650 - accuracy: 0.7436 - val_loss: 14.0781 - val_accuracy: 0.0334\n",
            "Epoch 78/128\n",
            "51/51 [==============================] - 32s 629ms/step - loss: 0.7074 - accuracy: 0.7606 - val_loss: 14.1290 - val_accuracy: 0.0418\n",
            "Epoch 79/128\n",
            "51/51 [==============================] - 32s 626ms/step - loss: 0.7577 - accuracy: 0.7510 - val_loss: 13.3114 - val_accuracy: 0.0195\n",
            "Epoch 80/128\n",
            "51/51 [==============================] - 32s 631ms/step - loss: 0.7177 - accuracy: 0.7609 - val_loss: 14.9190 - val_accuracy: 0.0418\n",
            "Epoch 81/128\n",
            "51/51 [==============================] - 32s 630ms/step - loss: 0.7334 - accuracy: 0.7513 - val_loss: 15.6363 - val_accuracy: 0.0390\n",
            "Epoch 82/128\n",
            "51/51 [==============================] - 32s 629ms/step - loss: 0.7251 - accuracy: 0.7557 - val_loss: 13.8450 - val_accuracy: 0.0474\n",
            "Epoch 83/128\n",
            "51/51 [==============================] - 32s 636ms/step - loss: 0.7620 - accuracy: 0.7420 - val_loss: 14.4694 - val_accuracy: 0.0334\n",
            "Epoch 84/128\n",
            "51/51 [==============================] - 32s 631ms/step - loss: 0.7019 - accuracy: 0.7637 - val_loss: 14.4351 - val_accuracy: 0.0334\n",
            "Epoch 85/128\n",
            "51/51 [==============================] - 32s 628ms/step - loss: 0.7092 - accuracy: 0.7718 - val_loss: 15.2147 - val_accuracy: 0.0362\n",
            "Epoch 86/128\n",
            "51/51 [==============================] - 32s 628ms/step - loss: 0.6898 - accuracy: 0.7730 - val_loss: 15.0922 - val_accuracy: 0.0195\n",
            "Epoch 87/128\n",
            "51/51 [==============================] - 32s 631ms/step - loss: 0.6698 - accuracy: 0.7758 - val_loss: 14.7156 - val_accuracy: 0.0279\n",
            "Epoch 88/128\n",
            "51/51 [==============================] - 32s 628ms/step - loss: 0.7017 - accuracy: 0.7668 - val_loss: 14.5195 - val_accuracy: 0.0474\n",
            "Epoch 89/128\n",
            "51/51 [==============================] - 32s 628ms/step - loss: 0.6500 - accuracy: 0.7857 - val_loss: 15.0445 - val_accuracy: 0.0390\n",
            "Epoch 90/128\n",
            "51/51 [==============================] - 32s 630ms/step - loss: 0.6029 - accuracy: 0.8027 - val_loss: 13.9542 - val_accuracy: 0.0529\n",
            "Epoch 91/128\n",
            "51/51 [==============================] - 32s 631ms/step - loss: 0.6371 - accuracy: 0.7897 - val_loss: 14.2511 - val_accuracy: 0.0334\n",
            "Epoch 92/128\n",
            "51/51 [==============================] - 32s 628ms/step - loss: 0.6677 - accuracy: 0.7779 - val_loss: 14.0577 - val_accuracy: 0.0529\n",
            "Epoch 93/128\n",
            "51/51 [==============================] - 32s 632ms/step - loss: 0.6402 - accuracy: 0.7959 - val_loss: 13.4687 - val_accuracy: 0.0390\n",
            "Epoch 94/128\n",
            "51/51 [==============================] - 32s 628ms/step - loss: 0.5959 - accuracy: 0.8058 - val_loss: 13.1194 - val_accuracy: 0.0501\n",
            "Epoch 95/128\n",
            "51/51 [==============================] - 32s 631ms/step - loss: 0.5992 - accuracy: 0.8120 - val_loss: 14.3129 - val_accuracy: 0.0418\n",
            "Epoch 96/128\n",
            "51/51 [==============================] - 32s 624ms/step - loss: 0.6007 - accuracy: 0.8061 - val_loss: 13.9931 - val_accuracy: 0.0418\n",
            "Epoch 97/128\n",
            "51/51 [==============================] - 32s 625ms/step - loss: 0.5633 - accuracy: 0.8061 - val_loss: 13.7266 - val_accuracy: 0.0474\n",
            "Epoch 98/128\n",
            "51/51 [==============================] - 32s 625ms/step - loss: 0.5703 - accuracy: 0.8173 - val_loss: 14.9367 - val_accuracy: 0.0501\n",
            "Epoch 99/128\n",
            "51/51 [==============================] - 32s 625ms/step - loss: 0.5738 - accuracy: 0.8157 - val_loss: 14.1350 - val_accuracy: 0.0501\n",
            "Epoch 100/128\n",
            "51/51 [==============================] - 32s 630ms/step - loss: 0.5926 - accuracy: 0.8191 - val_loss: 12.5037 - val_accuracy: 0.0501\n",
            "Epoch 101/128\n",
            "51/51 [==============================] - 32s 631ms/step - loss: 0.5417 - accuracy: 0.8294 - val_loss: 12.7809 - val_accuracy: 0.0474\n",
            "Epoch 102/128\n",
            "51/51 [==============================] - 32s 626ms/step - loss: 0.5461 - accuracy: 0.8290 - val_loss: 14.0195 - val_accuracy: 0.0362\n",
            "Epoch 103/128\n",
            "51/51 [==============================] - 32s 626ms/step - loss: 0.5532 - accuracy: 0.8337 - val_loss: 15.2387 - val_accuracy: 0.0529\n",
            "Epoch 104/128\n",
            "51/51 [==============================] - 32s 625ms/step - loss: 0.5212 - accuracy: 0.8328 - val_loss: 14.5616 - val_accuracy: 0.0390\n",
            "Epoch 105/128\n",
            "51/51 [==============================] - 32s 630ms/step - loss: 0.5428 - accuracy: 0.8225 - val_loss: 15.1120 - val_accuracy: 0.0474\n",
            "Epoch 106/128\n",
            "51/51 [==============================] - 32s 629ms/step - loss: 0.5425 - accuracy: 0.8238 - val_loss: 14.4220 - val_accuracy: 0.0529\n",
            "Epoch 107/128\n",
            "51/51 [==============================] - 32s 628ms/step - loss: 0.5829 - accuracy: 0.8136 - val_loss: 14.7830 - val_accuracy: 0.0529\n",
            "Epoch 108/128\n",
            "51/51 [==============================] - 32s 629ms/step - loss: 0.5337 - accuracy: 0.8356 - val_loss: 15.9797 - val_accuracy: 0.0529\n",
            "Epoch 109/128\n",
            "51/51 [==============================] - 32s 628ms/step - loss: 0.5448 - accuracy: 0.8321 - val_loss: 15.5391 - val_accuracy: 0.0474\n",
            "Epoch 110/128\n",
            "51/51 [==============================] - 32s 630ms/step - loss: 0.5106 - accuracy: 0.8328 - val_loss: 14.8216 - val_accuracy: 0.0418\n",
            "Epoch 111/128\n",
            "51/51 [==============================] - 32s 630ms/step - loss: 0.5199 - accuracy: 0.8337 - val_loss: 13.9877 - val_accuracy: 0.0418\n",
            "Epoch 112/128\n",
            "51/51 [==============================] - 32s 632ms/step - loss: 0.4791 - accuracy: 0.8445 - val_loss: 13.9191 - val_accuracy: 0.0334\n",
            "Epoch 113/128\n",
            "51/51 [==============================] - 32s 630ms/step - loss: 0.5096 - accuracy: 0.8464 - val_loss: 13.6399 - val_accuracy: 0.0501\n",
            "Epoch 114/128\n",
            "51/51 [==============================] - 32s 630ms/step - loss: 0.4569 - accuracy: 0.8551 - val_loss: 14.2162 - val_accuracy: 0.0557\n",
            "Epoch 115/128\n",
            "51/51 [==============================] - 32s 632ms/step - loss: 0.5151 - accuracy: 0.8414 - val_loss: 14.2266 - val_accuracy: 0.0557\n",
            "Epoch 116/128\n",
            "51/51 [==============================] - 32s 630ms/step - loss: 0.4518 - accuracy: 0.8557 - val_loss: 14.2319 - val_accuracy: 0.0474\n",
            "Epoch 117/128\n",
            "51/51 [==============================] - 32s 628ms/step - loss: 0.4878 - accuracy: 0.8529 - val_loss: 15.0970 - val_accuracy: 0.0529\n",
            "Epoch 118/128\n",
            "51/51 [==============================] - 32s 629ms/step - loss: 0.4457 - accuracy: 0.8591 - val_loss: 14.5946 - val_accuracy: 0.0474\n",
            "Epoch 119/128\n",
            "51/51 [==============================] - 32s 629ms/step - loss: 0.4808 - accuracy: 0.8501 - val_loss: 13.5969 - val_accuracy: 0.0362\n",
            "Epoch 120/128\n",
            "51/51 [==============================] - 32s 633ms/step - loss: 0.4618 - accuracy: 0.8541 - val_loss: 14.8824 - val_accuracy: 0.0390\n",
            "Epoch 121/128\n",
            "51/51 [==============================] - 32s 631ms/step - loss: 0.4197 - accuracy: 0.8699 - val_loss: 15.0597 - val_accuracy: 0.0529\n",
            "Epoch 122/128\n",
            "51/51 [==============================] - 32s 630ms/step - loss: 0.4285 - accuracy: 0.8752 - val_loss: 16.2206 - val_accuracy: 0.0501\n",
            "Epoch 123/128\n",
            "51/51 [==============================] - 32s 631ms/step - loss: 0.3977 - accuracy: 0.8709 - val_loss: 15.6465 - val_accuracy: 0.0557\n",
            "Epoch 124/128\n",
            "51/51 [==============================] - 32s 629ms/step - loss: 0.4010 - accuracy: 0.8777 - val_loss: 15.8230 - val_accuracy: 0.0557\n",
            "Epoch 125/128\n",
            "51/51 [==============================] - 32s 630ms/step - loss: 0.4052 - accuracy: 0.8764 - val_loss: 16.9819 - val_accuracy: 0.0613\n",
            "Epoch 126/128\n",
            "51/51 [==============================] - 32s 622ms/step - loss: 0.4720 - accuracy: 0.8551 - val_loss: 15.7801 - val_accuracy: 0.0529\n",
            "Epoch 127/128\n",
            "51/51 [==============================] - 32s 623ms/step - loss: 0.3726 - accuracy: 0.8897 - val_loss: 16.7362 - val_accuracy: 0.0418\n",
            "Epoch 128/128\n",
            "51/51 [==============================] - 32s 627ms/step - loss: 0.3871 - accuracy: 0.8780 - val_loss: 16.0174 - val_accuracy: 0.0529\n"
          ],
          "name": "stdout"
        }
      ]
    },
    {
      "cell_type": "code",
      "metadata": {
        "colab": {
          "base_uri": "https://localhost:8080/"
        },
        "id": "gZCD2tYVBGPh",
        "outputId": "02aef483-4842-4756-a6c6-47a2383bde0f"
      },
      "source": [
        "# accuracy in train data\r\n",
        "model.evaluate(X_train, y_train_one_hot)"
      ],
      "execution_count": 28,
      "outputs": [
        {
          "output_type": "stream",
          "text": [
            "113/113 [==============================] - 10s 88ms/step - loss: 1.6895 - accuracy: 0.8857\n"
          ],
          "name": "stdout"
        },
        {
          "output_type": "execute_result",
          "data": {
            "text/plain": [
              "[1.6895089149475098, 0.8857302069664001]"
            ]
          },
          "metadata": {
            "tags": []
          },
          "execution_count": 28
        }
      ]
    },
    {
      "cell_type": "code",
      "metadata": {
        "colab": {
          "base_uri": "https://localhost:8080/"
        },
        "id": "nUuFHB27Q18J",
        "outputId": "276f540b-3408-41ca-c9f5-dba9955b6855"
      },
      "source": [
        "# accuracy in test data\r\n",
        "test_result = model.evaluate(X_test, y_test_one_hot)"
      ],
      "execution_count": 29,
      "outputs": [
        {
          "output_type": "stream",
          "text": [
            "29/29 [==============================] - 2s 84ms/step - loss: 4.2085 - accuracy: 0.6456\n"
          ],
          "name": "stdout"
        }
      ]
    },
    {
      "cell_type": "code",
      "metadata": {
        "colab": {
          "base_uri": "https://localhost:8080/",
          "height": 421
        },
        "id": "-oyoEoZul9AS",
        "outputId": "08367cbb-db92-4c0d-e574-70481d7cb097"
      },
      "source": [
        "import matplotlib.pyplot as plt\r\n",
        "plt.figure(figsize=(16, 6))\r\n",
        "\r\n",
        "plt.subplot(1, 2, 1)\r\n",
        "plt.plot(history.history['loss'])\r\n",
        "plt.plot(history.history['val_loss'])\r\n",
        "plt.xlabel('Epoch')\r\n",
        "plt.ylabel('Loss')\r\n",
        "plt.legend(['Training', 'Validation'])\r\n",
        "plt.title('Loss')\r\n",
        "\r\n",
        "plt.subplot(1, 2, 2)\r\n",
        "plt.plot(history.history['accuracy'])\r\n",
        "plt.plot(history.history['val_loss'])\r\n",
        "plt.xlabel('Epoch')\r\n",
        "plt.ylabel('Accuracy')\r\n",
        "plt.legend(['Training', 'Validation'])\r\n",
        "plt.title('Accuracy')"
      ],
      "execution_count": 30,
      "outputs": [
        {
          "output_type": "execute_result",
          "data": {
            "text/plain": [
              "Text(0.5, 1.0, 'Accuracy')"
            ]
          },
          "metadata": {
            "tags": []
          },
          "execution_count": 30
        },
        {
          "output_type": "display_data",
          "data": {
            "image/png": "[encoded data removed]",
            "text/plain": [
              "<Figure size 1152x432 with 2 Axes>"
            ]
          },
          "metadata": {
            "tags": [],
            "needs_background": "light"
          }
        }
      ]
    },
    {
      "cell_type": "markdown",
      "metadata": {
        "id": "WRG0EMy-wqVl"
      },
      "source": [
        "The model is overfitted, however the model is still learning. Train data returns ca 90% accuracy and test data ca 65% accuracy. Data augmentation slightly improved the results, however only median transformation and wrap transforming was used."
      ]
    },
    {
      "cell_type": "code",
      "metadata": {
        "id": "s_0hEkhC_jb6"
      },
      "source": [
        ""
      ],
      "execution_count": null,
      "outputs": []
    }
  ]
}