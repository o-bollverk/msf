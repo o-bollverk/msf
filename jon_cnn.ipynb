{
 "cells": [
  {
   "cell_type": "markdown",
   "metadata": {
    "colab_type": "text",
    "id": "view-in-github"
   },
   "source": [
    "<a href=\"https://colab.research.google.com/github/o-bollverk/msf/blob/main/nomm_cnn.ipynb\" target=\"_parent\"><img src=\"https://colab.research.google.com/assets/colab-badge.svg\" alt=\"Open In Colab\"/></a>"
   ]
  },
  {
   "cell_type": "code",
   "execution_count": 5,
   "metadata": {
    "id": "kTOjf_-UUgYm"
   },
   "outputs": [],
   "source": [
    "from urllib.request import urlopen\n",
    "from fastai.vision import *\n",
    "from fastai.metrics import error_rate\n",
    "from PIL import Image\n",
    "#from google.colab import drive\n",
    "from os import listdir\n",
    "import numpy as np \n",
    "import cv2\n",
    "from matplotlib import image\n",
    "from matplotlib import pyplot\n",
    "import numpy as np\n",
    "import warnings\n",
    "import torch\n",
    "import pandas as pd\n",
    "from pathlib import Path\n",
    "import os\n",
    "# start: 10:34"
   ]
  },
  {
   "cell_type": "markdown",
   "metadata": {
    "id": "qNKvcJ4_Owfl"
   },
   "source": [
    "Klassid:\n",
    "\n",
    "Airbus A320neo\n",
    "\n",
    "Boeing 747-8 Intercontinental\n",
    "\n",
    "Aviat Pitts Special S2S\n",
    "\n",
    "Cub Crafter X Cub\n",
    "\n",
    "Daher TBM 930\n",
    "\n",
    "Diamond DA40NG\n",
    "\n",
    "Diamond DA62\n",
    "\n",
    "EXTRA 330LT\n",
    "\n"
   ]
  },
  {
   "cell_type": "markdown",
   "metadata": {
    "id": "WNf-snFoK_27"
   },
   "source": [
    "https://www.windowscentral.com/list-microsoft-flight-simulator-planes\n"
   ]
  },
  {
   "cell_type": "markdown",
   "metadata": {
    "id": "eDzGa8gzYcpu"
   },
   "source": [
    "Cloning the repository"
   ]
  },
  {
   "cell_type": "code",
   "execution_count": 2,
   "metadata": {
    "colab": {
     "base_uri": "https://localhost:8080/"
    },
    "id": "0tMQ3NHTYg7i",
    "outputId": "c0f6c609-72b6-4f41-da5e-bb3e9c491f4f"
   },
   "outputs": [
    {
     "name": "stdout",
     "output_type": "stream",
     "text": [
      "fatal: destination path 'cloned-repo' already exists and is not an empty directory.\n",
      "/content/cloned-repo\n",
      "all_data_bw\t\t\t       msf_data\n",
      "all_data_color\t\t\t       msf_project1.ipynb\n",
      "colab\t\t\t\t       msf_project1_mixed.ipynb\n",
      "convert_images.ipynb\t\t       random_selection_test\n",
      "convert_to_bw.ipynb\t\t       random_selection_train\n",
      "data_amounts\t\t\t       web_data_links\n",
      "ludvig_local_msf_project1_mixed.ipynb\n"
     ]
    }
   ],
   "source": [
    "# Clone the entire repo.\n",
    "!git clone -l -s git://github.com/o-bollverk/msf cloned-repo\n",
    "%cd cloned-repo\n",
    "!ls"
   ]
  },
  {
   "cell_type": "code",
   "execution_count": 3,
   "metadata": {
    "id": "c6hEjGIHYQYH"
   },
   "outputs": [],
   "source": [
    "#! git pull"
   ]
  },
  {
   "cell_type": "code",
   "execution_count": 2,
   "metadata": {
    "id": "eez_VOeq6qsx"
   },
   "outputs": [],
   "source": [
    "nimede_vastavus = pd.DataFrame({\"web_name\": np.sort(listdir(\"all_data_color/\")),\n",
    "                                \"game_name\": np.sort(np.unique([x.split(\"_clear\")[0] for x in listdir(\"msf_data/image_data_clear\")]))})"
   ]
  },
  {
   "cell_type": "code",
   "execution_count": 3,
   "metadata": {
    "colab": {
     "base_uri": "https://localhost:8080/"
    },
    "id": "JnfZU7kTDePx",
    "outputId": "bae96c7d-def1-422e-e0b1-c29f3e1b921c"
   },
   "outputs": [],
   "source": [
    "! mkdir random_selection_train\n",
    "! mkdir random_selection_test\n"
   ]
  },
  {
   "cell_type": "code",
   "execution_count": 6,
   "metadata": {
    "colab": {
     "base_uri": "https://localhost:8080/",
     "height": 235
    },
    "id": "n2kZ8DuP3Oya",
    "outputId": "b969679c-0ef2-4a0c-ae72-4e370406c3eb"
   },
   "outputs": [],
   "source": [
    "# creating temporary folder for selected files\n",
    "from shutil import copyfile\n",
    "import random\n",
    "import shutil\n",
    "\n",
    "selection_size_web = 250\n",
    "selection_size_web_test = int(0.2*selection_size_web)\n",
    "\n",
    "def abifun(x):\n",
    "    return x[:len(nimede_vastavus.game_name[i])] == nimede_vastavus.game_name[i]\n",
    " \n",
    "for i in range(nimede_vastavus.shape[0]):\n",
    "  web_files = listdir(\"all_data_color/\" + nimede_vastavus.web_name[i])\n",
    "  game_files_clear = listdir(\"msf_data/image_data_clear/\")    \n",
    "  game_files_clear_selected = np.array(game_files_clear)[[abifun(x) for x in game_files_clear]]\n",
    "  game_files_rainy = listdir(\"msf_data/image_data_rainy/\")\n",
    "  game_files_rainy_selected = np.array(game_files_rainy)[[abifun(x) for x in game_files_rainy]]\n",
    "  \n",
    "  # making a random selection\n",
    "\n",
    "  selected_web = random.sample(web_files, selection_size_web)\n",
    "  selected_web2 = [\"all_data_color/\" + nimede_vastavus.web_name[i] + \"/\" + x for x in selected_web]\n",
    "  selected_web2_test = selected_web2[0:selection_size_web_test]\n",
    "  selected_web2_train = selected_web2[selection_size_web_test:]\n",
    "\n",
    "  selected_clear = random.sample(set(game_files_clear_selected), int(selection_size_web/4))\n",
    "  selected_clear2 = [\"msf_data/image_data_clear/\" + x for x in selected_clear]\n",
    "  selected_clear2_test = selected_clear2[0:selection_size_web_test]\n",
    "  selected_clear2_train = selected_clear2[selection_size_web_test:]\n",
    "\n",
    "  selected_rainy = random.sample(set(game_files_rainy_selected), int(selection_size_web/4))\n",
    "  selected_rainy2 = [\"msf_data/image_data_rainy/\" + x for x in selected_rainy]\n",
    "  selected_rainy2_test = selected_rainy2[0:selection_size_web_test]\n",
    "  selected_rainy2_train = selected_rainy2[selection_size_web_test:]\n",
    "  \n",
    "  complete_selection_train = np.concatenate([selected_web2, selected_clear2, selected_rainy2])\n",
    "  complete_selection_test = np.concatenate([selected_web2_test, selected_clear2_test, selected_rainy2_test])\n",
    "\n",
    "  os.mkdir(\"random_selection_train/\" +  nimede_vastavus.game_name[i])\n",
    "  for filename in complete_selection_train:\n",
    "    shutil.copy(filename, \"random_selection_train/\" +  nimede_vastavus.game_name[i])\n",
    "\n",
    "  os.mkdir(\"random_selection_test/\" +  nimede_vastavus.game_name[i])\n",
    "  for filename in complete_selection_test:\n",
    "    shutil.copy(filename, \"random_selection_test/\" +  nimede_vastavus.game_name[i])\n",
    "\n"
   ]
  },
  {
   "cell_type": "code",
   "execution_count": 7,
   "metadata": {
    "id": "5Dr_KTQIkfet"
   },
   "outputs": [],
   "source": [
    "path = Path(\"random_selection_train\")"
   ]
  },
  {
   "cell_type": "code",
   "execution_count": 8,
   "metadata": {
    "colab": {
     "base_uri": "https://localhost:8080/"
    },
    "id": "iumNV9Vb3qfa",
    "outputId": "38f94e09-3d6c-4125-d0ab-b04a04ff3dc0"
   },
   "outputs": [
    {
     "name": "stdout",
     "output_type": "stream",
     "text": [
      "Train data shape:  (4488, 64, 64, 3)\n",
      "Train labels shape:  (4488,)\n"
     ]
    }
   ],
   "source": [
    "# loading train data\n",
    "import cv2\n",
    "from matplotlib import pyplot as plt\n",
    "from keras.preprocessing.image import load_img\n",
    "from keras.preprocessing.image import img_to_array\n",
    "import os, sys\n",
    "\n",
    "d = {}\n",
    "x=['aviat', 'diamond40ng', 'cessna_172', 'cessna_cj', 'boeing', 'diamondda62', 'airbus', 'cessna_208', 'extra', 'daher', 'cubcraft', 'cessna_152']\n",
    "count = 0\n",
    "for i in x:\n",
    "  if i not in d:\n",
    "     d[i] = count\n",
    "     count += 1\n",
    "actual = []\n",
    "X_train = []\n",
    "y_train = []\n",
    "IMG_SIZE = (64, 64)\n",
    "for i in listdir(\"random_selection_train\"):\n",
    "  for j in listdir(\"random_selection_train\" + \"/\" + i):\n",
    "    actual.append(i)\n",
    "    a = cv2.imread(\"random_selection_train/\" + i +\"/\" + j)\n",
    "    y_train.append(d[i])\n",
    "    resized = cv2.resize(a, IMG_SIZE)\n",
    "    X_train.append(resized)\n",
    "    #plt.imshow(a)\n",
    "    #plt.show()\n",
    "    #print(a.shape)\n",
    "\n",
    "X_train = np.array(X_train)\n",
    "y_train = np.array(y_train)\n",
    "print('Train data shape: ', X_train.shape)\n",
    "print('Train labels shape: ', y_train.shape)"
   ]
  },
  {
   "cell_type": "code",
   "execution_count": 9,
   "metadata": {
    "colab": {
     "base_uri": "https://localhost:8080/"
    },
    "id": "e9oLEpGKg_7U",
    "outputId": "8a50325e-ca71-43b7-e62c-01bedeedecec"
   },
   "outputs": [
    {
     "name": "stdout",
     "output_type": "stream",
     "text": [
      "Train data shape:  (1800, 64, 64, 3)\n",
      "Train labels shape:  (1800,)\n"
     ]
    }
   ],
   "source": [
    "# loading test data\n",
    "from keras.utils import to_categorical\n",
    "\n",
    "actual = []\n",
    "X_test = []\n",
    "y_test = []\n",
    "IMG_SIZE = (64, 64)\n",
    "for i in listdir(\"random_selection_test\"):\n",
    "  for j in listdir(\"random_selection_test\" + \"/\" + i):\n",
    "    actual.append(i)\n",
    "    a = cv2.imread(\"random_selection_test/\" + i +\"/\" + j)\n",
    "    y_test.append(d[i])\n",
    "    resized = cv2.resize(a, IMG_SIZE)\n",
    "    X_test.append(resized)\n",
    "    #plt.imshow(a)\n",
    "    #plt.show()\n",
    "    #print(a.shape)\n",
    "\n",
    "X_test = np.array(X_test)\n",
    "y_test = np.array(y_test)\n",
    "print('Train data shape: ', X_test.shape)\n",
    "print('Train labels shape: ', y_test.shape)\n",
    "y_test_one_hot = to_categorical(y_test)"
   ]
  },
  {
   "cell_type": "markdown",
   "metadata": {
    "id": "-t24_0nWAk0g"
   },
   "source": [
    "## Train model"
   ]
  },
  {
   "cell_type": "code",
   "execution_count": 13,
   "metadata": {
    "colab": {
     "base_uri": "https://localhost:8080/"
    },
    "id": "LQjx5qE1heSx",
    "outputId": "fa63e681-ed63-49db-d780-8429d931cc23"
   },
   "outputs": [
    {
     "name": "stdout",
     "output_type": "stream",
     "text": [
      "Train data shape:  (4488, 64, 64, 3)\n",
      "Train labels shape:  (4488,)\n",
      "Epoch 1/128\n",
      "64/64 [==============================] - 21s 327ms/step - loss: 6.7597 - accuracy: 0.1461 - val_loss: 7.5354 - val_accuracy: 0.0000e+00\n",
      "Epoch 2/128\n",
      "64/64 [==============================] - 21s 328ms/step - loss: 1.9521 - accuracy: 0.2904 - val_loss: 13.0071 - val_accuracy: 0.0111\n",
      "Epoch 3/128\n",
      "64/64 [==============================] - 21s 332ms/step - loss: 1.5389 - accuracy: 0.4367 - val_loss: 14.3769 - val_accuracy: 0.1158\n",
      "Epoch 4/128\n",
      "64/64 [==============================] - 21s 324ms/step - loss: 1.3023 - accuracy: 0.5333 - val_loss: 11.9733 - val_accuracy: 0.0624\n",
      "Epoch 5/128\n",
      "64/64 [==============================] - 21s 324ms/step - loss: 1.0289 - accuracy: 0.6274 - val_loss: 18.7505 - val_accuracy: 0.0290\n",
      "Epoch 6/128\n",
      "64/64 [==============================] - 21s 322ms/step - loss: 0.8095 - accuracy: 0.7130 - val_loss: 21.2570 - val_accuracy: 0.0290\n",
      "Epoch 7/128\n",
      "64/64 [==============================] - 21s 322ms/step - loss: 0.6863 - accuracy: 0.7581 - val_loss: 19.7686 - val_accuracy: 0.1359\n",
      "Epoch 8/128\n",
      "64/64 [==============================] - 21s 323ms/step - loss: 0.5052 - accuracy: 0.8272 - val_loss: 26.0117 - val_accuracy: 0.0290\n",
      "Epoch 9/128\n",
      "64/64 [==============================] - 21s 323ms/step - loss: 0.4097 - accuracy: 0.8594 - val_loss: 24.3715 - val_accuracy: 0.0267\n",
      "Epoch 10/128\n",
      "64/64 [==============================] - 21s 322ms/step - loss: 0.3149 - accuracy: 0.8856 - val_loss: 27.8854 - val_accuracy: 0.0290\n",
      "Epoch 11/128\n",
      "64/64 [==============================] - 21s 322ms/step - loss: 0.2336 - accuracy: 0.9220 - val_loss: 28.9884 - val_accuracy: 0.0312\n",
      "Epoch 12/128\n",
      "64/64 [==============================] - 21s 323ms/step - loss: 0.3137 - accuracy: 0.8965 - val_loss: 28.4595 - val_accuracy: 0.0334\n",
      "Epoch 13/128\n",
      "64/64 [==============================] - 21s 325ms/step - loss: 0.1448 - accuracy: 0.9552 - val_loss: 31.1140 - val_accuracy: 0.0290\n",
      "Epoch 14/128\n",
      "64/64 [==============================] - 21s 327ms/step - loss: 0.1252 - accuracy: 0.9589 - val_loss: 34.3258 - val_accuracy: 0.0290\n",
      "Epoch 15/128\n",
      "64/64 [==============================] - 21s 328ms/step - loss: 0.2193 - accuracy: 0.9272 - val_loss: 36.4430 - val_accuracy: 0.0312\n",
      "Epoch 16/128\n",
      "64/64 [==============================] - 21s 327ms/step - loss: 0.1876 - accuracy: 0.9411 - val_loss: 31.7736 - val_accuracy: 0.0290\n",
      "Epoch 17/128\n",
      "64/64 [==============================] - 21s 327ms/step - loss: 0.1343 - accuracy: 0.9641 - val_loss: 32.1304 - val_accuracy: 0.0290\n",
      "Epoch 18/128\n",
      "64/64 [==============================] - 21s 325ms/step - loss: 0.0727 - accuracy: 0.9790 - val_loss: 30.7869 - val_accuracy: 0.0334\n",
      "Epoch 19/128\n",
      "64/64 [==============================] - 21s 328ms/step - loss: 0.1759 - accuracy: 0.9473 - val_loss: 31.6027 - val_accuracy: 0.1002\n",
      "Epoch 20/128\n",
      "64/64 [==============================] - 21s 329ms/step - loss: 0.1671 - accuracy: 0.9502 - val_loss: 33.3398 - val_accuracy: 0.0312\n",
      "Epoch 21/128\n",
      "64/64 [==============================] - 21s 326ms/step - loss: 0.1677 - accuracy: 0.9460 - val_loss: 31.1532 - val_accuracy: 0.0401\n",
      "Epoch 22/128\n",
      "64/64 [==============================] - 21s 328ms/step - loss: 0.0630 - accuracy: 0.9802 - val_loss: 33.4302 - val_accuracy: 0.0401\n",
      "Epoch 23/128\n",
      "64/64 [==============================] - 21s 330ms/step - loss: 0.1360 - accuracy: 0.9636 - val_loss: 32.4314 - val_accuracy: 0.0579\n",
      "Epoch 24/128\n",
      "64/64 [==============================] - 21s 327ms/step - loss: 0.0765 - accuracy: 0.9790 - val_loss: 31.0035 - val_accuracy: 0.0379\n",
      "Epoch 25/128\n",
      "64/64 [==============================] - 21s 327ms/step - loss: 0.1187 - accuracy: 0.9641 - val_loss: 27.9937 - val_accuracy: 0.0290\n",
      "Epoch 26/128\n",
      "64/64 [==============================] - 21s 329ms/step - loss: 0.1030 - accuracy: 0.9708 - val_loss: 28.3900 - val_accuracy: 0.0334\n",
      "Epoch 27/128\n",
      "64/64 [==============================] - 21s 331ms/step - loss: 0.0915 - accuracy: 0.9755 - val_loss: 38.0452 - val_accuracy: 0.0334\n",
      "Epoch 28/128\n",
      "64/64 [==============================] - 21s 327ms/step - loss: 0.0710 - accuracy: 0.9792 - val_loss: 43.3003 - val_accuracy: 0.0223\n",
      "Epoch 29/128\n",
      "64/64 [==============================] - 21s 327ms/step - loss: 0.0681 - accuracy: 0.9834 - val_loss: 40.4416 - val_accuracy: 0.0334\n",
      "Epoch 30/128\n",
      "64/64 [==============================] - 21s 326ms/step - loss: 0.1018 - accuracy: 0.9713 - val_loss: 39.9544 - val_accuracy: 0.0223\n",
      "Epoch 31/128\n",
      "64/64 [==============================] - 21s 327ms/step - loss: 0.0990 - accuracy: 0.9735 - val_loss: 33.0665 - val_accuracy: 0.0178\n",
      "Epoch 32/128\n",
      "64/64 [==============================] - 21s 327ms/step - loss: 0.0609 - accuracy: 0.9822 - val_loss: 29.9342 - val_accuracy: 0.0356\n",
      "Epoch 33/128\n",
      "64/64 [==============================] - 21s 328ms/step - loss: 0.0285 - accuracy: 0.9923 - val_loss: 37.5633 - val_accuracy: 0.0379\n",
      "Epoch 34/128\n",
      "64/64 [==============================] - 21s 328ms/step - loss: 0.0144 - accuracy: 0.9953 - val_loss: 35.9938 - val_accuracy: 0.0334\n",
      "Epoch 35/128\n",
      "64/64 [==============================] - 21s 329ms/step - loss: 0.0252 - accuracy: 0.9946 - val_loss: 39.6993 - val_accuracy: 0.0334\n",
      "Epoch 36/128\n",
      "64/64 [==============================] - 21s 326ms/step - loss: 0.0306 - accuracy: 0.9891 - val_loss: 37.6520 - val_accuracy: 0.0290\n",
      "Epoch 37/128\n",
      "64/64 [==============================] - 21s 327ms/step - loss: 0.1168 - accuracy: 0.9688 - val_loss: 41.1514 - val_accuracy: 0.0267\n",
      "Epoch 38/128\n",
      "64/64 [==============================] - 21s 328ms/step - loss: 0.0646 - accuracy: 0.9802 - val_loss: 39.8100 - val_accuracy: 0.0334\n",
      "Epoch 39/128\n",
      "64/64 [==============================] - 21s 327ms/step - loss: 0.0961 - accuracy: 0.9752 - val_loss: 27.8548 - val_accuracy: 0.0200\n",
      "Epoch 40/128\n",
      "64/64 [==============================] - 21s 328ms/step - loss: 0.0640 - accuracy: 0.9782 - val_loss: 35.3330 - val_accuracy: 0.0200\n",
      "Epoch 41/128\n",
      "64/64 [==============================] - 21s 326ms/step - loss: 0.0288 - accuracy: 0.9931 - val_loss: 39.0768 - val_accuracy: 0.0334\n",
      "Epoch 42/128\n",
      "64/64 [==============================] - 21s 328ms/step - loss: 0.3457 - accuracy: 0.8965 - val_loss: 27.1645 - val_accuracy: 0.0245\n",
      "Epoch 43/128\n",
      "64/64 [==============================] - 21s 325ms/step - loss: 0.1018 - accuracy: 0.9720 - val_loss: 32.3164 - val_accuracy: 0.0735\n",
      "Epoch 44/128\n",
      "64/64 [==============================] - 21s 325ms/step - loss: 0.0540 - accuracy: 0.9859 - val_loss: 34.0659 - val_accuracy: 0.0290\n",
      "Epoch 45/128\n",
      "64/64 [==============================] - 21s 325ms/step - loss: 0.2367 - accuracy: 0.9332 - val_loss: 32.5669 - val_accuracy: 0.0379\n",
      "Epoch 46/128\n",
      "64/64 [==============================] - 21s 326ms/step - loss: 0.0749 - accuracy: 0.9804 - val_loss: 36.2927 - val_accuracy: 0.0290\n",
      "Epoch 47/128\n",
      "64/64 [==============================] - 21s 326ms/step - loss: 0.0901 - accuracy: 0.9770 - val_loss: 32.1602 - val_accuracy: 0.0290\n",
      "Epoch 48/128\n",
      "64/64 [==============================] - 21s 332ms/step - loss: 0.0781 - accuracy: 0.9755 - val_loss: 39.2022 - val_accuracy: 0.0290\n",
      "Epoch 49/128\n",
      "64/64 [==============================] - 21s 324ms/step - loss: 0.0401 - accuracy: 0.9886 - val_loss: 37.1572 - val_accuracy: 0.0846\n",
      "Epoch 50/128\n",
      "64/64 [==============================] - 21s 326ms/step - loss: 0.0234 - accuracy: 0.9946 - val_loss: 39.5471 - val_accuracy: 0.0290\n",
      "Epoch 51/128\n",
      "64/64 [==============================] - 21s 327ms/step - loss: 0.0587 - accuracy: 0.9861 - val_loss: 38.2933 - val_accuracy: 0.0290\n",
      "Epoch 52/128\n",
      "64/64 [==============================] - 21s 327ms/step - loss: 0.0917 - accuracy: 0.9752 - val_loss: 33.1794 - val_accuracy: 0.0290\n",
      "Epoch 53/128\n",
      "64/64 [==============================] - 21s 331ms/step - loss: 0.1793 - accuracy: 0.9544 - val_loss: 31.4454 - val_accuracy: 0.0401\n",
      "Epoch 54/128\n",
      "64/64 [==============================] - 21s 327ms/step - loss: 0.0844 - accuracy: 0.9767 - val_loss: 45.6729 - val_accuracy: 0.0401\n",
      "Epoch 55/128\n",
      "64/64 [==============================] - 21s 328ms/step - loss: 0.0919 - accuracy: 0.9747 - val_loss: 45.6842 - val_accuracy: 0.0356\n",
      "Epoch 56/128\n",
      "64/64 [==============================] - 21s 329ms/step - loss: 0.0372 - accuracy: 0.9896 - val_loss: 44.0271 - val_accuracy: 0.1292\n"
     ]
    },
    {
     "name": "stdout",
     "output_type": "stream",
     "text": [
      "Epoch 57/128\n",
      "64/64 [==============================] - 21s 328ms/step - loss: 0.0470 - accuracy: 0.9879 - val_loss: 47.3203 - val_accuracy: 0.0267\n",
      "Epoch 58/128\n",
      "64/64 [==============================] - 21s 327ms/step - loss: 0.0498 - accuracy: 0.9861 - val_loss: 52.8405 - val_accuracy: 0.0267\n",
      "Epoch 59/128\n",
      "64/64 [==============================] - 21s 326ms/step - loss: 0.0703 - accuracy: 0.9817 - val_loss: 38.0598 - val_accuracy: 0.0290\n",
      "Epoch 60/128\n",
      "64/64 [==============================] - 21s 327ms/step - loss: 0.0564 - accuracy: 0.9856 - val_loss: 51.2215 - val_accuracy: 0.0245\n",
      "Epoch 61/128\n",
      "64/64 [==============================] - 21s 327ms/step - loss: 0.0992 - accuracy: 0.9730 - val_loss: 40.0198 - val_accuracy: 0.0290\n",
      "Epoch 62/128\n",
      "64/64 [==============================] - 21s 328ms/step - loss: 0.0946 - accuracy: 0.9797 - val_loss: 43.2107 - val_accuracy: 0.0290\n",
      "Epoch 63/128\n",
      "64/64 [==============================] - 21s 328ms/step - loss: 0.0373 - accuracy: 0.9908 - val_loss: 51.2399 - val_accuracy: 0.0223\n",
      "Epoch 64/128\n",
      "64/64 [==============================] - 21s 333ms/step - loss: 0.0859 - accuracy: 0.9792 - val_loss: 42.3063 - val_accuracy: 0.0290\n",
      "Epoch 65/128\n",
      "64/64 [==============================] - 21s 333ms/step - loss: 0.1169 - accuracy: 0.9787 - val_loss: 27.7356 - val_accuracy: 0.0290\n",
      "Epoch 66/128\n",
      "64/64 [==============================] - 21s 331ms/step - loss: 0.0622 - accuracy: 0.9832 - val_loss: 32.9967 - val_accuracy: 0.0379\n",
      "Epoch 67/128\n",
      "64/64 [==============================] - 21s 333ms/step - loss: 0.0863 - accuracy: 0.9814 - val_loss: 36.0778 - val_accuracy: 0.0267\n",
      "Epoch 68/128\n",
      "64/64 [==============================] - 22s 338ms/step - loss: 0.0717 - accuracy: 0.9846 - val_loss: 46.0082 - val_accuracy: 0.0267\n",
      "Epoch 69/128\n",
      "64/64 [==============================] - 22s 336ms/step - loss: 0.1698 - accuracy: 0.9616 - val_loss: 31.8791 - val_accuracy: 0.0512\n",
      "Epoch 70/128\n",
      "64/64 [==============================] - 22s 337ms/step - loss: 0.1031 - accuracy: 0.9780 - val_loss: 25.3316 - val_accuracy: 0.0802\n",
      "Epoch 71/128\n",
      "64/64 [==============================] - 21s 332ms/step - loss: 0.0582 - accuracy: 0.9832 - val_loss: 34.0201 - val_accuracy: 0.0401\n",
      "Epoch 72/128\n",
      "64/64 [==============================] - 22s 342ms/step - loss: 0.1778 - accuracy: 0.9572 - val_loss: 35.5768 - val_accuracy: 0.0334\n",
      "Epoch 73/128\n",
      "64/64 [==============================] - 21s 333ms/step - loss: 0.0883 - accuracy: 0.9787 - val_loss: 42.3581 - val_accuracy: 0.0379\n",
      "Epoch 74/128\n",
      "64/64 [==============================] - 21s 330ms/step - loss: 0.0759 - accuracy: 0.9832 - val_loss: 34.1187 - val_accuracy: 0.0557\n",
      "Epoch 75/128\n",
      "64/64 [==============================] - 21s 335ms/step - loss: 0.0574 - accuracy: 0.9827 - val_loss: 37.7423 - val_accuracy: 0.0423\n",
      "Epoch 76/128\n",
      "64/64 [==============================] - 22s 337ms/step - loss: 0.1196 - accuracy: 0.9743 - val_loss: 25.2355 - val_accuracy: 0.0445\n",
      "Epoch 77/128\n",
      "64/64 [==============================] - 22s 341ms/step - loss: 0.0338 - accuracy: 0.9896 - val_loss: 30.8636 - val_accuracy: 0.0379\n",
      "Epoch 78/128\n",
      "64/64 [==============================] - 22s 347ms/step - loss: 0.0118 - accuracy: 0.9968 - val_loss: 33.4017 - val_accuracy: 0.0334\n",
      "Epoch 79/128\n",
      "64/64 [==============================] - 22s 338ms/step - loss: 0.0093 - accuracy: 0.9988 - val_loss: 38.8719 - val_accuracy: 0.0379\n",
      "Epoch 80/128\n",
      "64/64 [==============================] - 22s 339ms/step - loss: 7.4663e-04 - accuracy: 0.9998 - val_loss: 43.4086 - val_accuracy: 0.0423\n",
      "Epoch 81/128\n",
      "64/64 [==============================] - 22s 339ms/step - loss: 5.1935e-04 - accuracy: 0.9998 - val_loss: 43.1003 - val_accuracy: 0.0423\n",
      "Epoch 82/128\n",
      "64/64 [==============================] - 22s 340ms/step - loss: 8.2497e-04 - accuracy: 0.9998 - val_loss: 41.3707 - val_accuracy: 0.0401\n",
      "Epoch 83/128\n",
      "64/64 [==============================] - 22s 340ms/step - loss: 4.6350e-04 - accuracy: 0.9998 - val_loss: 41.9324 - val_accuracy: 0.0401\n",
      "Epoch 84/128\n",
      "64/64 [==============================] - 22s 340ms/step - loss: 4.4077e-04 - accuracy: 0.9995 - val_loss: 42.3698 - val_accuracy: 0.0401\n",
      "Epoch 85/128\n",
      "64/64 [==============================] - 22s 337ms/step - loss: 4.2062e-04 - accuracy: 0.9995 - val_loss: 42.7904 - val_accuracy: 0.0401\n",
      "Epoch 86/128\n",
      "64/64 [==============================] - 21s 331ms/step - loss: 4.3473e-04 - accuracy: 0.9995 - val_loss: 43.1397 - val_accuracy: 0.0401\n",
      "Epoch 87/128\n",
      "64/64 [==============================] - 21s 330ms/step - loss: 0.0011 - accuracy: 0.9998 - val_loss: 42.6508 - val_accuracy: 0.0401\n",
      "Epoch 88/128\n",
      "64/64 [==============================] - 22s 339ms/step - loss: 7.6576e-04 - accuracy: 0.9998 - val_loss: 44.3018 - val_accuracy: 0.0401\n",
      "Epoch 89/128\n",
      "64/64 [==============================] - 22s 341ms/step - loss: 8.2678e-04 - accuracy: 0.9998 - val_loss: 44.5837 - val_accuracy: 0.0401\n",
      "Epoch 90/128\n",
      "64/64 [==============================] - 22s 337ms/step - loss: 5.1765e-04 - accuracy: 0.9998 - val_loss: 44.8655 - val_accuracy: 0.0379\n",
      "Epoch 91/128\n",
      "64/64 [==============================] - 21s 331ms/step - loss: 5.0860e-04 - accuracy: 0.9995 - val_loss: 45.3615 - val_accuracy: 0.0401\n",
      "Epoch 92/128\n",
      "64/64 [==============================] - 21s 330ms/step - loss: 5.2986e-04 - accuracy: 0.9998 - val_loss: 45.7485 - val_accuracy: 0.0401\n",
      "Epoch 93/128\n",
      "64/64 [==============================] - 21s 330ms/step - loss: 3.6967e-04 - accuracy: 0.9998 - val_loss: 45.8634 - val_accuracy: 0.0401\n",
      "Epoch 94/128\n",
      "64/64 [==============================] - 21s 336ms/step - loss: 4.5054e-04 - accuracy: 0.9998 - val_loss: 46.2709 - val_accuracy: 0.0401\n",
      "Epoch 95/128\n",
      "64/64 [==============================] - 21s 329ms/step - loss: 4.8122e-04 - accuracy: 0.9998 - val_loss: 46.5197 - val_accuracy: 0.0401\n",
      "Epoch 96/128\n",
      "64/64 [==============================] - 21s 328ms/step - loss: 4.3483e-04 - accuracy: 0.9995 - val_loss: 46.7637 - val_accuracy: 0.0401\n",
      "Epoch 97/128\n",
      "64/64 [==============================] - 21s 326ms/step - loss: 4.7753e-04 - accuracy: 0.9998 - val_loss: 47.0586 - val_accuracy: 0.0401\n",
      "Epoch 98/128\n",
      "64/64 [==============================] - 21s 327ms/step - loss: 4.3265e-04 - accuracy: 0.9995 - val_loss: 47.3700 - val_accuracy: 0.0401\n",
      "Epoch 99/128\n",
      "64/64 [==============================] - 21s 328ms/step - loss: 4.4101e-04 - accuracy: 0.9995 - val_loss: 47.6104 - val_accuracy: 0.0401\n",
      "Epoch 100/128\n",
      "64/64 [==============================] - 21s 327ms/step - loss: 4.8857e-04 - accuracy: 0.9998 - val_loss: 47.8426 - val_accuracy: 0.0401\n",
      "Epoch 101/128\n",
      "64/64 [==============================] - 21s 329ms/step - loss: 4.2094e-04 - accuracy: 0.9998 - val_loss: 48.0118 - val_accuracy: 0.0401\n",
      "Epoch 102/128\n",
      "64/64 [==============================] - 21s 332ms/step - loss: 4.4073e-04 - accuracy: 0.9998 - val_loss: 48.2959 - val_accuracy: 0.0401\n",
      "Epoch 103/128\n",
      "64/64 [==============================] - 21s 327ms/step - loss: 4.2513e-04 - accuracy: 0.9998 - val_loss: 48.5908 - val_accuracy: 0.0401\n",
      "Epoch 104/128\n",
      "64/64 [==============================] - 21s 326ms/step - loss: 4.0275e-04 - accuracy: 0.9998 - val_loss: 48.8269 - val_accuracy: 0.0401\n",
      "Epoch 105/128\n",
      "64/64 [==============================] - 21s 327ms/step - loss: 3.8097e-04 - accuracy: 0.9998 - val_loss: 49.1162 - val_accuracy: 0.0401\n",
      "Epoch 106/128\n",
      "64/64 [==============================] - 21s 328ms/step - loss: 4.6266e-04 - accuracy: 0.9995 - val_loss: 48.9740 - val_accuracy: 0.0401\n",
      "Epoch 107/128\n",
      "64/64 [==============================] - 21s 329ms/step - loss: 4.3304e-04 - accuracy: 0.9995 - val_loss: 49.1746 - val_accuracy: 0.0401\n",
      "Epoch 108/128\n",
      "64/64 [==============================] - 21s 328ms/step - loss: 4.0033e-04 - accuracy: 0.9995 - val_loss: 49.4204 - val_accuracy: 0.0401\n",
      "Epoch 109/128\n",
      "64/64 [==============================] - 21s 328ms/step - loss: 4.4171e-04 - accuracy: 0.9998 - val_loss: 49.6488 - val_accuracy: 0.0401\n",
      "Epoch 110/128\n",
      "64/64 [==============================] - 21s 329ms/step - loss: 4.0738e-04 - accuracy: 0.9998 - val_loss: 49.8729 - val_accuracy: 0.0401\n",
      "Epoch 111/128\n",
      "64/64 [==============================] - 21s 329ms/step - loss: 3.9626e-04 - accuracy: 0.9998 - val_loss: 50.1476 - val_accuracy: 0.0401\n",
      "Epoch 112/128\n"
     ]
    },
    {
     "name": "stdout",
     "output_type": "stream",
     "text": [
      "64/64 [==============================] - 21s 326ms/step - loss: 4.1379e-04 - accuracy: 0.9995 - val_loss: 50.3782 - val_accuracy: 0.0401\n",
      "Epoch 113/128\n",
      "64/64 [==============================] - 21s 328ms/step - loss: 4.4100e-04 - accuracy: 0.9995 - val_loss: 50.5529 - val_accuracy: 0.0401\n",
      "Epoch 114/128\n",
      "64/64 [==============================] - 21s 329ms/step - loss: 4.3559e-04 - accuracy: 0.9995 - val_loss: 50.9107 - val_accuracy: 0.0401\n",
      "Epoch 115/128\n",
      "64/64 [==============================] - 21s 327ms/step - loss: 4.2443e-04 - accuracy: 0.9995 - val_loss: 51.1774 - val_accuracy: 0.0401\n",
      "Epoch 116/128\n",
      "64/64 [==============================] - 21s 326ms/step - loss: 3.7881e-04 - accuracy: 0.9995 - val_loss: 51.4797 - val_accuracy: 0.0401\n",
      "Epoch 117/128\n",
      "64/64 [==============================] - 21s 329ms/step - loss: 4.4404e-04 - accuracy: 0.9995 - val_loss: 51.5506 - val_accuracy: 0.0401\n",
      "Epoch 118/128\n",
      "64/64 [==============================] - 21s 330ms/step - loss: 3.9187e-04 - accuracy: 0.9998 - val_loss: 51.7901 - val_accuracy: 0.0401\n",
      "Epoch 119/128\n",
      "64/64 [==============================] - 21s 327ms/step - loss: 3.6059e-04 - accuracy: 0.9995 - val_loss: 52.0681 - val_accuracy: 0.0401\n",
      "Epoch 120/128\n",
      "64/64 [==============================] - 21s 328ms/step - loss: 4.7056e-04 - accuracy: 0.9998 - val_loss: 52.0676 - val_accuracy: 0.0379\n",
      "Epoch 121/128\n",
      "64/64 [==============================] - 21s 327ms/step - loss: 4.1784e-04 - accuracy: 0.9995 - val_loss: 52.3513 - val_accuracy: 0.0379\n",
      "Epoch 122/128\n",
      "64/64 [==============================] - 21s 328ms/step - loss: 4.4056e-04 - accuracy: 0.9995 - val_loss: 52.5187 - val_accuracy: 0.0379\n",
      "Epoch 123/128\n",
      "64/64 [==============================] - 21s 330ms/step - loss: 4.7689e-04 - accuracy: 0.9998 - val_loss: 52.5644 - val_accuracy: 0.0379\n",
      "Epoch 124/128\n",
      "64/64 [==============================] - 21s 329ms/step - loss: 4.5313e-04 - accuracy: 0.9998 - val_loss: 52.9576 - val_accuracy: 0.0379\n",
      "Epoch 125/128\n",
      "64/64 [==============================] - 21s 330ms/step - loss: 4.5714e-04 - accuracy: 0.9998 - val_loss: 53.1600 - val_accuracy: 0.0379\n",
      "Epoch 126/128\n",
      "64/64 [==============================] - 21s 328ms/step - loss: 4.3547e-04 - accuracy: 0.9998 - val_loss: 53.3698 - val_accuracy: 0.0379\n",
      "Epoch 127/128\n",
      "64/64 [==============================] - 21s 330ms/step - loss: 4.5422e-04 - accuracy: 0.9998 - val_loss: 53.5584 - val_accuracy: 0.0379\n",
      "Epoch 128/128\n",
      "64/64 [==============================] - 21s 323ms/step - loss: 3.6055e-04 - accuracy: 0.9998 - val_loss: 53.7670 - val_accuracy: 0.0379\n"
     ]
    }
   ],
   "source": [
    "#%tensorflow_version 1.x\n",
    "from keras.utils import to_categorical\n",
    "from keras.models import Sequential, Model\n",
    "from keras.layers import Input, Conv2D, Activation, Flatten, Dense, MaxPooling2D, BatchNormalization, Dropout\n",
    "from keras.preprocessing.image import load_img\n",
    "from keras.preprocessing.image import img_to_array\n",
    "from keras.optimizers import Adam\n",
    "\n",
    "# https://towardsdatascience.com/convolutional-neural-networks-most-common-architectures-6a2b5d22479d VGG16 & VGG19\n",
    "model = Sequential()\n",
    "model.add(Conv2D(64, (3, 3), activation = 'relu', input_shape = (64, 64, 3)))\n",
    "model.add(MaxPooling2D(pool_size = (2, 2)))\n",
    "model.add(Conv2D(128, (3, 3), activation = 'relu'))\n",
    "model.add(MaxPooling2D(pool_size = (2, 2)))\n",
    "model.add(Conv2D(256, (3, 3), activation = 'relu'))\n",
    "model.add(MaxPooling2D(pool_size = (2, 2)))\n",
    "model.add(Conv2D(512, (3, 3), activation = 'relu'))\n",
    "model.add(MaxPooling2D(pool_size = (2, 2)))\n",
    "model.add(Flatten())\n",
    "model.add(Dense(4096, activation = 'relu'))\n",
    "model.add(Dense(4096, activation = 'relu'))\n",
    "model.add(Dense(12, activation = 'softmax'))\n",
    "\n",
    "model.compile(loss='categorical_crossentropy', \n",
    "              optimizer='adam',\n",
    "              metrics=['accuracy'])\n",
    "\n",
    "print('Train data shape: ', X_train.shape)\n",
    "print('Train labels shape: ', y_train.shape)\n",
    "\n",
    "y_train_one_hot = to_categorical(y_train)\n",
    "\n",
    "history = model.fit(X_train, y_train_one_hot, batch_size=64, epochs=128, validation_split=0.1)"
   ]
  },
  {
   "cell_type": "code",
   "execution_count": 14,
   "metadata": {
    "colab": {
     "base_uri": "https://localhost:8080/"
    },
    "id": "gZCD2tYVBGPh",
    "outputId": "51c5fd53-c546-4501-a546-4ade7f908f13"
   },
   "outputs": [
    {
     "name": "stdout",
     "output_type": "stream",
     "text": [
      "141/141 [==============================] - 4s 29ms/step - loss: 5.3794 - accuracy: 0.9035\n"
     ]
    },
    {
     "data": {
      "text/plain": [
       "[5.379419326782227, 0.9035205245018005]"
      ]
     },
     "execution_count": 14,
     "metadata": {},
     "output_type": "execute_result"
    }
   ],
   "source": [
    "# accuracy in train data\n",
    "model.evaluate(X_train, y_train_one_hot)"
   ]
  },
  {
   "cell_type": "code",
   "execution_count": 15,
   "metadata": {
    "colab": {
     "base_uri": "https://localhost:8080/"
    },
    "id": "nUuFHB27Q18J",
    "outputId": "14cfbba4-8aae-4378-a2f4-d095c2d7a106"
   },
   "outputs": [
    {
     "name": "stdout",
     "output_type": "stream",
     "text": [
      "57/57 [==============================] - 2s 28ms/step - loss: 5.9216 - accuracy: 0.8911\n"
     ]
    }
   ],
   "source": [
    "# accuracy in test data\n",
    "test_result = model.evaluate(X_test, y_test_one_hot)"
   ]
  },
  {
   "cell_type": "code",
   "execution_count": 16,
   "metadata": {
    "colab": {
     "base_uri": "https://localhost:8080/",
     "height": 421
    },
    "id": "-oyoEoZul9AS",
    "outputId": "65de3ca1-2335-4541-e0d8-b8baaa751465"
   },
   "outputs": [
    {
     "data": {
      "text/plain": [
       "Text(0.5, 1.0, 'Accuracy')"
      ]
     },
     "execution_count": 16,
     "metadata": {},
     "output_type": "execute_result"
    },
    {
     "data": {
      "image/png": "[encoded data removed]",
      "text/plain": [
       "<Figure size 1152x432 with 2 Axes>"
      ]
     },
     "metadata": {
      "needs_background": "light"
     },
     "output_type": "display_data"
    }
   ],
   "source": [
    "import matplotlib.pyplot as plt\n",
    "plt.figure(figsize=(16, 6))\n",
    "\n",
    "plt.subplot(1, 2, 1)\n",
    "plt.plot(history.history['loss'])\n",
    "plt.plot(history.history['val_loss'])\n",
    "plt.xlabel('Epoch')\n",
    "plt.ylabel('Loss')\n",
    "plt.legend(['Training', 'Validation'])\n",
    "plt.title('Loss')\n",
    "\n",
    "plt.subplot(1, 2, 2)\n",
    "plt.plot(history.history['accuracy'])\n",
    "plt.plot(history.history['val_loss'])\n",
    "plt.xlabel('Epoch')\n",
    "plt.ylabel('Accuracy')\n",
    "plt.legend(['Training', 'Validation'])\n",
    "plt.title('Accuracy')"
   ]
  },
  {
   "cell_type": "markdown",
   "metadata": {
    "id": "WRG0EMy-wqVl"
   },
   "source": [
    "The model is overfitted, however the accuracy in test set is still quite high."
   ]
  }
 ],
 "metadata": {
  "colab": {
   "collapsed_sections": [],
   "include_colab_link": true,
   "name": "nomm_cnn.ipynb",
   "provenance": []
  },
  "kernelspec": {
   "display_name": "Python 3",
   "language": "python",
   "name": "python3"
  },
  "language_info": {
   "codemirror_mode": {
    "name": "ipython",
    "version": 3
   },
   "file_extension": ".py",
   "mimetype": "text/x-python",
   "name": "python",
   "nbconvert_exporter": "python",
   "pygments_lexer": "ipython3",
   "version": "3.7.9"
  }
 },
 "nbformat": 4,
 "nbformat_minor": 1
}
